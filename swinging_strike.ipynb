{
 "metadata": {
  "language_info": {
   "codemirror_mode": {
    "name": "ipython",
    "version": 3
   },
   "file_extension": ".py",
   "mimetype": "text/x-python",
   "name": "python",
   "nbconvert_exporter": "python",
   "pygments_lexer": "ipython3",
   "version": "3.8.3-final"
  },
  "orig_nbformat": 2,
  "kernelspec": {
   "name": "python3",
   "display_name": "Python 3"
  }
 },
 "nbformat": 4,
 "nbformat_minor": 2,
 "cells": [
  {
   "source": [
    "# Project: Classify Pitches as Swinging Strikes\n",
    "\n",
    "Swinging strikes are strongly correlated with pitcher effectiveness. This is likely because strikeout outs are strongly correlated with pitching effectiveness. Previous research of mine suggested that there is more variance in pitcher's swinging strikeout is more projectable (i.e., has higher $r^2$) from season to season than called strikeout rate. Futhermore, the majority of strikeouts are swinging strikeouts.\n",
    "\n",
    "The goal of this project is to determine whether data about pitch movement, velocity, release point and location relative to the strike zone is sufficient to classify pitches as swinging strikes. If so, this suggests that pitches induce swinging strikes. It is possible that additional factors involving the pitcher, game state, and the batter are significant influences on whether a pitch will result in a swinging strike.\n",
    "\n"
   ],
   "cell_type": "markdown",
   "metadata": {}
  },
  {
   "cell_type": "code",
   "execution_count": 2,
   "metadata": {},
   "outputs": [],
   "source": [
    "import pandas as pd"
   ]
  },
  {
   "cell_type": "code",
   "execution_count": 3,
   "metadata": {
    "tags": []
   },
   "outputs": [],
   "source": [
    "df = pd.read_csv('data/statcast_dumps/statcast2017.csv').drop('Unnamed: 0', axis=1)"
   ]
  },
  {
   "cell_type": "code",
   "execution_count": 4,
   "metadata": {},
   "outputs": [],
   "source": [
    "df1 = pd.read_csv('data/statcast_dumps/statcast2018.csv').drop('Unnamed: 0', axis=1)\n",
    "df2 = pd.read_csv('data/statcast_dumps/statcast2019.csv').drop('Unnamed: 0', axis=1)\n",
    "df3 = pd.read_csv('data/statcast_dumps/statcast2020.csv').drop('Unnamed: 0', axis=1)\n",
    "df = pd.concat([df,df1,df2,df3])"
   ]
  },
  {
   "cell_type": "code",
   "execution_count": 5,
   "metadata": {
    "tags": []
   },
   "outputs": [
    {
     "output_type": "stream",
     "name": "stdout",
     "text": [
      "(2355353, 91)\n"
     ]
    }
   ],
   "source": [
    "print(df.shape)"
   ]
  },
  {
   "source": [
    "## What's a swinging strike?\n",
    "\n",
    "The question isn't as simple as it sounds. A foul ball with fewer than 2 strikes has the effect of a swinging strike (unless it's also a popup); it's worse than not swinging at a ball out of the zone and no better than a called strike. With 2 strikes, a foul ball is worse than swinging at a ball out of the zone but better than a called strike. \n",
    "\n",
    "_I'm going to stipulate that a foul ball is not a swinging strike, a foul tip is._ This is mostly for simplicity at present, but if this were a multiple classificaiton problem, I would regard foul balls as a separate class."
   ],
   "cell_type": "markdown",
   "metadata": {}
  },
  {
   "cell_type": "code",
   "execution_count": 6,
   "metadata": {},
   "outputs": [],
   "source": [
    "def is_swinging_strike(row):\n",
    "    if row['description'] in ['swingin_strike','swinging_strike_blocked','foul_tip']:\n",
    "        return True\n",
    "    else:\n",
    "        return False"
   ]
  },
  {
   "cell_type": "code",
   "execution_count": 7,
   "metadata": {},
   "outputs": [],
   "source": [
    "df['swinging_strike'] = df.apply(is_swinging_strike,axis=1)\n",
    "df.columns"
   ]
  },
  {
   "cell_type": "code",
   "execution_count": null,
   "metadata": {},
   "outputs": [],
   "source": []
  }
 ]
}