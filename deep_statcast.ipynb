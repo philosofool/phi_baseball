{
 "metadata": {
  "language_info": {
   "codemirror_mode": {
    "name": "ipython",
    "version": 3
   },
   "file_extension": ".py",
   "mimetype": "text/x-python",
   "name": "python",
   "nbconvert_exporter": "python",
   "pygments_lexer": "ipython3",
   "version": "3.8.3-final"
  },
  "orig_nbformat": 2,
  "kernelspec": {
   "name": "python3",
   "display_name": "Python 3"
  }
 },
 "nbformat": 4,
 "nbformat_minor": 2,
 "cells": [
  {
   "cell_type": "code",
   "execution_count": 1,
   "metadata": {},
   "outputs": [],
   "source": [
    "import pandas as pd\n"
   ]
  },
  {
   "cell_type": "code",
   "execution_count": 3,
   "metadata": {},
   "outputs": [],
   "source": [
    "#df = pd.read_csv('data/statcast_dumps/statcast2019.csv')"
   ]
  },
  {
   "cell_type": "code",
   "execution_count": 8,
   "metadata": {},
   "outputs": [
    {
     "output_type": "execute_result",
     "data": {
      "text/plain": "    Unnamed: 0  index pitch_type   game_date  release_speed  release_pos_x  \\\n0            0      0        NaN  2019-03-21            NaN            NaN   \n1            1      1        NaN  2019-03-21            NaN            NaN   \n5            5      5        NaN  2019-03-21            NaN            NaN   \n7            7      7        NaN  2019-03-21            NaN            NaN   \n12          12     12        NaN  2019-03-21            NaN            NaN   \n\n    release_pos_z        player_name    batter   pitcher  ... home_score  \\\n0             NaN  Hunter Strickland  595777.0  519326.0  ...        4.0   \n1             NaN  Hunter Strickland  460026.0  519326.0  ...        4.0   \n5             NaN  Hunter Strickland  640461.0  519326.0  ...        4.0   \n7             NaN    Fernando Rodney  553882.0  407845.0  ...        4.0   \n12            NaN    Fernando Rodney  570267.0  407845.0  ...        4.0   \n\n   away_score  bat_score  fld_score  post_away_score  post_home_score  \\\n0         5.0        4.0        5.0              5.0              4.0   \n1         5.0        4.0        5.0              5.0              4.0   \n5         5.0        4.0        5.0              5.0              4.0   \n7         5.0        5.0        4.0              5.0              4.0   \n12        4.0        4.0        4.0              4.0              4.0   \n\n    post_bat_score post_fld_score if_fielding_alignment of_fielding_alignment  \n0              4.0            5.0                   NaN                   NaN  \n1              4.0            5.0                   NaN                   NaN  \n5              4.0            5.0                   NaN                   NaN  \n7              5.0            4.0                   NaN                   NaN  \n12             4.0            4.0                   NaN                   NaN  \n\n[5 rows x 91 columns]",
      "text/html": "<div>\n<style scoped>\n    .dataframe tbody tr th:only-of-type {\n        vertical-align: middle;\n    }\n\n    .dataframe tbody tr th {\n        vertical-align: top;\n    }\n\n    .dataframe thead th {\n        text-align: right;\n    }\n</style>\n<table border=\"1\" class=\"dataframe\">\n  <thead>\n    <tr style=\"text-align: right;\">\n      <th></th>\n      <th>Unnamed: 0</th>\n      <th>index</th>\n      <th>pitch_type</th>\n      <th>game_date</th>\n      <th>release_speed</th>\n      <th>release_pos_x</th>\n      <th>release_pos_z</th>\n      <th>player_name</th>\n      <th>batter</th>\n      <th>pitcher</th>\n      <th>...</th>\n      <th>home_score</th>\n      <th>away_score</th>\n      <th>bat_score</th>\n      <th>fld_score</th>\n      <th>post_away_score</th>\n      <th>post_home_score</th>\n      <th>post_bat_score</th>\n      <th>post_fld_score</th>\n      <th>if_fielding_alignment</th>\n      <th>of_fielding_alignment</th>\n    </tr>\n  </thead>\n  <tbody>\n    <tr>\n      <th>0</th>\n      <td>0</td>\n      <td>0</td>\n      <td>NaN</td>\n      <td>2019-03-21</td>\n      <td>NaN</td>\n      <td>NaN</td>\n      <td>NaN</td>\n      <td>Hunter Strickland</td>\n      <td>595777.0</td>\n      <td>519326.0</td>\n      <td>...</td>\n      <td>4.0</td>\n      <td>5.0</td>\n      <td>4.0</td>\n      <td>5.0</td>\n      <td>5.0</td>\n      <td>4.0</td>\n      <td>4.0</td>\n      <td>5.0</td>\n      <td>NaN</td>\n      <td>NaN</td>\n    </tr>\n    <tr>\n      <th>1</th>\n      <td>1</td>\n      <td>1</td>\n      <td>NaN</td>\n      <td>2019-03-21</td>\n      <td>NaN</td>\n      <td>NaN</td>\n      <td>NaN</td>\n      <td>Hunter Strickland</td>\n      <td>460026.0</td>\n      <td>519326.0</td>\n      <td>...</td>\n      <td>4.0</td>\n      <td>5.0</td>\n      <td>4.0</td>\n      <td>5.0</td>\n      <td>5.0</td>\n      <td>4.0</td>\n      <td>4.0</td>\n      <td>5.0</td>\n      <td>NaN</td>\n      <td>NaN</td>\n    </tr>\n    <tr>\n      <th>5</th>\n      <td>5</td>\n      <td>5</td>\n      <td>NaN</td>\n      <td>2019-03-21</td>\n      <td>NaN</td>\n      <td>NaN</td>\n      <td>NaN</td>\n      <td>Hunter Strickland</td>\n      <td>640461.0</td>\n      <td>519326.0</td>\n      <td>...</td>\n      <td>4.0</td>\n      <td>5.0</td>\n      <td>4.0</td>\n      <td>5.0</td>\n      <td>5.0</td>\n      <td>4.0</td>\n      <td>4.0</td>\n      <td>5.0</td>\n      <td>NaN</td>\n      <td>NaN</td>\n    </tr>\n    <tr>\n      <th>7</th>\n      <td>7</td>\n      <td>7</td>\n      <td>NaN</td>\n      <td>2019-03-21</td>\n      <td>NaN</td>\n      <td>NaN</td>\n      <td>NaN</td>\n      <td>Fernando Rodney</td>\n      <td>553882.0</td>\n      <td>407845.0</td>\n      <td>...</td>\n      <td>4.0</td>\n      <td>5.0</td>\n      <td>5.0</td>\n      <td>4.0</td>\n      <td>5.0</td>\n      <td>4.0</td>\n      <td>5.0</td>\n      <td>4.0</td>\n      <td>NaN</td>\n      <td>NaN</td>\n    </tr>\n    <tr>\n      <th>12</th>\n      <td>12</td>\n      <td>12</td>\n      <td>NaN</td>\n      <td>2019-03-21</td>\n      <td>NaN</td>\n      <td>NaN</td>\n      <td>NaN</td>\n      <td>Fernando Rodney</td>\n      <td>570267.0</td>\n      <td>407845.0</td>\n      <td>...</td>\n      <td>4.0</td>\n      <td>4.0</td>\n      <td>4.0</td>\n      <td>4.0</td>\n      <td>4.0</td>\n      <td>4.0</td>\n      <td>4.0</td>\n      <td>4.0</td>\n      <td>NaN</td>\n      <td>NaN</td>\n    </tr>\n  </tbody>\n</table>\n<p>5 rows × 91 columns</p>\n</div>"
     },
     "metadata": {},
     "execution_count": 8
    }
   ],
   "source": [
    "stats = df.dropna(subset=['events'])\n",
    "stats.drop()\n",
    "#stats.head()"
   ]
  },
  {
   "cell_type": "code",
   "execution_count": 6,
   "metadata": {},
   "outputs": [
    {
     "output_type": "execute_result",
     "data": {
      "text/plain": "Index(['Unnamed: 0', 'index', 'pitch_type', 'game_date', 'release_speed',\n       'release_pos_x', 'release_pos_z', 'player_name', 'batter', 'pitcher',\n       'events', 'description', 'spin_dir', 'spin_rate_deprecated',\n       'break_angle_deprecated', 'break_length_deprecated', 'zone', 'des',\n       'game_type', 'stand', 'p_throws', 'home_team', 'away_team', 'type',\n       'hit_location', 'bb_type', 'balls', 'strikes', 'game_year', 'pfx_x',\n       'pfx_z', 'plate_x', 'plate_z', 'on_3b', 'on_2b', 'on_1b',\n       'outs_when_up', 'inning', 'inning_topbot', 'hc_x', 'hc_y',\n       'tfs_deprecated', 'tfs_zulu_deprecated', 'fielder_2', 'umpire', 'sv_id',\n       'vx0', 'vy0', 'vz0', 'ax', 'ay', 'az', 'sz_top', 'sz_bot',\n       'hit_distance_sc', 'launch_speed', 'launch_angle', 'effective_speed',\n       'release_spin_rate', 'release_extension', 'game_pk', 'pitcher.1',\n       'fielder_2.1', 'fielder_3', 'fielder_4', 'fielder_5', 'fielder_6',\n       'fielder_7', 'fielder_8', 'fielder_9', 'release_pos_y',\n       'estimated_ba_using_speedangle', 'estimated_woba_using_speedangle',\n       'woba_value', 'woba_denom', 'babip_value', 'iso_value',\n       'launch_speed_angle', 'at_bat_number', 'pitch_number', 'pitch_name',\n       'home_score', 'away_score', 'bat_score', 'fld_score', 'post_away_score',\n       'post_home_score', 'post_bat_score', 'post_fld_score',\n       'if_fielding_alignment', 'of_fielding_alignment'],\n      dtype='object')"
     },
     "metadata": {},
     "execution_count": 6
    }
   ],
   "source": [
    "empty = ['Unnamed: 0', 'index', 'spin_rate_deprecated',\n",
    "       'break_angle_deprecated', 'break_length_deprecated', \n",
    "       'tfs_deprecated', 'tfs_zulu_deprecated']"
   ]
  },
  {
   "cell_type": "code",
   "execution_count": null,
   "metadata": {},
   "outputs": [],
   "source": []
  }
 ]
}