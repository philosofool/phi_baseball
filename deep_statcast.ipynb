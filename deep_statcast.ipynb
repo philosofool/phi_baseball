{
 "metadata": {
  "language_info": {
   "codemirror_mode": {
    "name": "ipython",
    "version": 3
   },
   "file_extension": ".py",
   "mimetype": "text/x-python",
   "name": "python",
   "nbconvert_exporter": "python",
   "pygments_lexer": "ipython3",
   "version": "3.8.3-final"
  },
  "orig_nbformat": 2,
  "kernelspec": {
   "name": "python3",
   "display_name": "Python 3"
  }
 },
 "nbformat": 4,
 "nbformat_minor": 2,
 "cells": [
  {
   "cell_type": "code",
   "execution_count": 1,
   "metadata": {},
   "outputs": [],
   "source": [
    "import pandas as pd\n"
   ]
  },
  {
   "cell_type": "code",
   "execution_count": 2,
   "metadata": {},
   "outputs": [],
   "source": [
    "#df = pd.read_csv('data/statcast_dumps/statcast2019.csv')"
   ]
  },
  {
   "cell_type": "code",
   "execution_count": 3,
   "metadata": {},
   "outputs": [
    {
     "output_type": "execute_result",
     "data": {
      "text/plain": "    Unnamed: 0  Unnamed: 0.1  index pitch_type   game_date  release_speed  \\\n0            0           0.0     25         SL  2020-08-18           85.7   \n7            7           7.0     55         SI  2020-08-18           94.3   \n15          15          15.0     86         SL  2020-08-18           87.4   \n18          18          18.0     98         SL  2020-08-18           89.4   \n23          23          23.0    120         SL  2020-08-18           90.2   \n\n    release_pos_x  release_pos_z   player_name    batter  ...  home_score  \\\n0       -0.753952       5.837731  Anthony Bass  592407.0  ...         7.0   \n7       -0.744988       5.857906  Anthony Bass  656775.0  ...         7.0   \n15      -0.590017       5.838491  Anthony Bass  593643.0  ...         7.0   \n18       2.622580       5.632106  Tanner Scott  606192.0  ...         7.0   \n23       2.807227       5.593052  Tanner Scott  605412.0  ...         7.0   \n\n   away_score bat_score  fld_score  post_away_score  post_home_score  \\\n0         8.0       7.0        8.0              8.0              7.0   \n7         8.0       7.0        8.0              8.0              7.0   \n15        8.0       7.0        8.0              8.0              7.0   \n18        8.0       8.0        7.0              8.0              7.0   \n23        8.0       8.0        7.0              8.0              7.0   \n\n    post_bat_score  post_fld_score if_fielding_alignment of_fielding_alignment  \n0              7.0             8.0         Infield shift              Standard  \n7              7.0             8.0         Infield shift              Standard  \n15             7.0             8.0              Standard              Standard  \n18             8.0             7.0              Standard              Standard  \n23             8.0             7.0             Strategic              Standard  \n\n[5 rows x 92 columns]",
      "text/html": "<div>\n<style scoped>\n    .dataframe tbody tr th:only-of-type {\n        vertical-align: middle;\n    }\n\n    .dataframe tbody tr th {\n        vertical-align: top;\n    }\n\n    .dataframe thead th {\n        text-align: right;\n    }\n</style>\n<table border=\"1\" class=\"dataframe\">\n  <thead>\n    <tr style=\"text-align: right;\">\n      <th></th>\n      <th>Unnamed: 0</th>\n      <th>Unnamed: 0.1</th>\n      <th>index</th>\n      <th>pitch_type</th>\n      <th>game_date</th>\n      <th>release_speed</th>\n      <th>release_pos_x</th>\n      <th>release_pos_z</th>\n      <th>player_name</th>\n      <th>batter</th>\n      <th>...</th>\n      <th>home_score</th>\n      <th>away_score</th>\n      <th>bat_score</th>\n      <th>fld_score</th>\n      <th>post_away_score</th>\n      <th>post_home_score</th>\n      <th>post_bat_score</th>\n      <th>post_fld_score</th>\n      <th>if_fielding_alignment</th>\n      <th>of_fielding_alignment</th>\n    </tr>\n  </thead>\n  <tbody>\n    <tr>\n      <th>0</th>\n      <td>0</td>\n      <td>0.0</td>\n      <td>25</td>\n      <td>SL</td>\n      <td>2020-08-18</td>\n      <td>85.7</td>\n      <td>-0.753952</td>\n      <td>5.837731</td>\n      <td>Anthony Bass</td>\n      <td>592407.0</td>\n      <td>...</td>\n      <td>7.0</td>\n      <td>8.0</td>\n      <td>7.0</td>\n      <td>8.0</td>\n      <td>8.0</td>\n      <td>7.0</td>\n      <td>7.0</td>\n      <td>8.0</td>\n      <td>Infield shift</td>\n      <td>Standard</td>\n    </tr>\n    <tr>\n      <th>7</th>\n      <td>7</td>\n      <td>7.0</td>\n      <td>55</td>\n      <td>SI</td>\n      <td>2020-08-18</td>\n      <td>94.3</td>\n      <td>-0.744988</td>\n      <td>5.857906</td>\n      <td>Anthony Bass</td>\n      <td>656775.0</td>\n      <td>...</td>\n      <td>7.0</td>\n      <td>8.0</td>\n      <td>7.0</td>\n      <td>8.0</td>\n      <td>8.0</td>\n      <td>7.0</td>\n      <td>7.0</td>\n      <td>8.0</td>\n      <td>Infield shift</td>\n      <td>Standard</td>\n    </tr>\n    <tr>\n      <th>15</th>\n      <td>15</td>\n      <td>15.0</td>\n      <td>86</td>\n      <td>SL</td>\n      <td>2020-08-18</td>\n      <td>87.4</td>\n      <td>-0.590017</td>\n      <td>5.838491</td>\n      <td>Anthony Bass</td>\n      <td>593643.0</td>\n      <td>...</td>\n      <td>7.0</td>\n      <td>8.0</td>\n      <td>7.0</td>\n      <td>8.0</td>\n      <td>8.0</td>\n      <td>7.0</td>\n      <td>7.0</td>\n      <td>8.0</td>\n      <td>Standard</td>\n      <td>Standard</td>\n    </tr>\n    <tr>\n      <th>18</th>\n      <td>18</td>\n      <td>18.0</td>\n      <td>98</td>\n      <td>SL</td>\n      <td>2020-08-18</td>\n      <td>89.4</td>\n      <td>2.622580</td>\n      <td>5.632106</td>\n      <td>Tanner Scott</td>\n      <td>606192.0</td>\n      <td>...</td>\n      <td>7.0</td>\n      <td>8.0</td>\n      <td>8.0</td>\n      <td>7.0</td>\n      <td>8.0</td>\n      <td>7.0</td>\n      <td>8.0</td>\n      <td>7.0</td>\n      <td>Standard</td>\n      <td>Standard</td>\n    </tr>\n    <tr>\n      <th>23</th>\n      <td>23</td>\n      <td>23.0</td>\n      <td>120</td>\n      <td>SL</td>\n      <td>2020-08-18</td>\n      <td>90.2</td>\n      <td>2.807227</td>\n      <td>5.593052</td>\n      <td>Tanner Scott</td>\n      <td>605412.0</td>\n      <td>...</td>\n      <td>7.0</td>\n      <td>8.0</td>\n      <td>8.0</td>\n      <td>7.0</td>\n      <td>8.0</td>\n      <td>7.0</td>\n      <td>8.0</td>\n      <td>7.0</td>\n      <td>Strategic</td>\n      <td>Standard</td>\n    </tr>\n  </tbody>\n</table>\n<p>5 rows × 92 columns</p>\n</div>"
     },
     "metadata": {},
     "execution_count": 3
    }
   ],
   "source": [
    "#stats = df.dropna(subset=['events'])\n",
    "\n",
    "stats = pd.read_csv('data/statcast_dumps/statcast2020.csv').dropna(subset=['events'])\n",
    "#stats.drop()\n",
    "stats.head()"
   ]
  },
  {
   "cell_type": "code",
   "execution_count": 4,
   "metadata": {},
   "outputs": [],
   "source": [
    "id_map = pd.read_csv('data/id_map.csv', engine='python')\n",
    "#id_map.set_index('mlb_id')\n",
    "ary = dict(zip(id_map['mlb_id'],id_map['mlb_name']))\n",
    "\n",
    "stats['Name'] = stats['batter'].map(ary)#apply(lambda x: ary[x])"
   ]
  },
  {
   "cell_type": "code",
   "execution_count": 5,
   "metadata": {},
   "outputs": [],
   "source": [
    "bb_stats = ['Name','batter','hc_x','hc_y','launch_angle','launch_speed','hit_distance_sc']\n",
    "vladdy = stats[bb_stats].dropna()\n"
   ]
  },
  {
   "cell_type": "code",
   "execution_count": 14,
   "metadata": {},
   "outputs": [
    {
     "output_type": "execute_result",
     "data": {
      "text/plain": "         batter        hc_x        hc_y  launch_angle  launch_speed  \\\ncount      43.0   43.000000   43.000000     43.000000     43.000000   \nmean   592450.0  105.210698   99.872326     19.325581     92.625581   \nstd         0.0   48.776658   43.212635     22.666023     13.566662   \nmin    592450.0    5.980000   19.340000    -36.000000     60.800000   \n25%    592450.0   67.405000   65.735000      5.000000     83.750000   \n50%    592450.0  100.060000  104.310000     22.000000     93.900000   \n75%    592450.0  131.505000  134.730000     35.500000    104.100000   \nmax    592450.0  207.340000  170.960000     57.000000    113.100000   \n\n       hit_distance_sc  \ncount        43.000000  \nmean        221.511628  \nstd         144.370781  \nmin           4.000000  \n25%         104.500000  \n50%         231.000000  \n75%         324.000000  \nmax         468.000000  ",
      "text/html": "<div>\n<style scoped>\n    .dataframe tbody tr th:only-of-type {\n        vertical-align: middle;\n    }\n\n    .dataframe tbody tr th {\n        vertical-align: top;\n    }\n\n    .dataframe thead th {\n        text-align: right;\n    }\n</style>\n<table border=\"1\" class=\"dataframe\">\n  <thead>\n    <tr style=\"text-align: right;\">\n      <th></th>\n      <th>batter</th>\n      <th>hc_x</th>\n      <th>hc_y</th>\n      <th>launch_angle</th>\n      <th>launch_speed</th>\n      <th>hit_distance_sc</th>\n    </tr>\n  </thead>\n  <tbody>\n    <tr>\n      <th>count</th>\n      <td>43.0</td>\n      <td>43.000000</td>\n      <td>43.000000</td>\n      <td>43.000000</td>\n      <td>43.000000</td>\n      <td>43.000000</td>\n    </tr>\n    <tr>\n      <th>mean</th>\n      <td>592450.0</td>\n      <td>105.210698</td>\n      <td>99.872326</td>\n      <td>19.325581</td>\n      <td>92.625581</td>\n      <td>221.511628</td>\n    </tr>\n    <tr>\n      <th>std</th>\n      <td>0.0</td>\n      <td>48.776658</td>\n      <td>43.212635</td>\n      <td>22.666023</td>\n      <td>13.566662</td>\n      <td>144.370781</td>\n    </tr>\n    <tr>\n      <th>min</th>\n      <td>592450.0</td>\n      <td>5.980000</td>\n      <td>19.340000</td>\n      <td>-36.000000</td>\n      <td>60.800000</td>\n      <td>4.000000</td>\n    </tr>\n    <tr>\n      <th>25%</th>\n      <td>592450.0</td>\n      <td>67.405000</td>\n      <td>65.735000</td>\n      <td>5.000000</td>\n      <td>83.750000</td>\n      <td>104.500000</td>\n    </tr>\n    <tr>\n      <th>50%</th>\n      <td>592450.0</td>\n      <td>100.060000</td>\n      <td>104.310000</td>\n      <td>22.000000</td>\n      <td>93.900000</td>\n      <td>231.000000</td>\n    </tr>\n    <tr>\n      <th>75%</th>\n      <td>592450.0</td>\n      <td>131.505000</td>\n      <td>134.730000</td>\n      <td>35.500000</td>\n      <td>104.100000</td>\n      <td>324.000000</td>\n    </tr>\n    <tr>\n      <th>max</th>\n      <td>592450.0</td>\n      <td>207.340000</td>\n      <td>170.960000</td>\n      <td>57.000000</td>\n      <td>113.100000</td>\n      <td>468.000000</td>\n    </tr>\n  </tbody>\n</table>\n</div>"
     },
     "metadata": {},
     "execution_count": 14
    }
   ],
   "source": [
    "def describe_guy(df, guy):\n",
    "    out = df[df['Name'].str.startswith(guy)].describe()\n",
    "    return out\n",
    "name = 'Aaron Ju'\n",
    "describe_guy(vladdy, name)"
   ]
  },
  {
   "cell_type": "code",
   "execution_count": 20,
   "metadata": {},
   "outputs": [
    {
     "output_type": "execute_result",
     "data": {
      "text/plain": "array(['hit_into_play', 'swinging_strike_blocked', 'swinging_strike',\n       'called_strike', 'hit_into_play_score', 'ball',\n       'hit_into_play_no_out', 'hit_by_pitch', 'foul_tip', 'blocked_ball',\n       'foul', 'foul_bunt', 'pitchout'], dtype=object)"
     },
     "metadata": {},
     "execution_count": 20
    }
   ],
   "source": [
    "stats['description'].unique()\n",
    "#stats['description']"
   ]
  },
  {
   "cell_type": "code",
   "execution_count": 17,
   "metadata": {
    "tags": []
   },
   "outputs": [
    {
     "output_type": "stream",
     "name": "stdout",
     "text": "1\n1\n2\n3\n5\n8\n13\n21\n34\n55\n89\n"
    }
   ],
   "source": [
    "def fibonaci(amount):\n",
    "    n = 0\n",
    "    seq = [1,1]\n",
    "    while n <= amount:\n",
    "        seq.append(seq[n]+seq[n+1])\n",
    "        print(seq[n])\n",
    "        n += 1\n",
    "        \n",
    "\n",
    "fibonaci(10)"
   ]
  },
  {
   "cell_type": "code",
   "execution_count": null,
   "metadata": {},
   "outputs": [],
   "source": []
  },
  {
   "cell_type": "code",
   "execution_count": null,
   "metadata": {},
   "outputs": [],
   "source": []
  }
 ]
}