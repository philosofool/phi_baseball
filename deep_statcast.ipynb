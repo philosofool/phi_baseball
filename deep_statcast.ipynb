{
 "metadata": {
  "language_info": {
   "codemirror_mode": {
    "name": "ipython",
    "version": 3
   },
   "file_extension": ".py",
   "mimetype": "text/x-python",
   "name": "python",
   "nbconvert_exporter": "python",
   "pygments_lexer": "ipython3",
   "version": "3.8.3-final"
  },
  "orig_nbformat": 2,
  "kernelspec": {
   "name": "python3",
   "display_name": "Python 3"
  }
 },
 "nbformat": 4,
 "nbformat_minor": 2,
 "cells": [
  {
   "cell_type": "code",
   "execution_count": 27,
   "metadata": {},
   "outputs": [],
   "source": [
    "import pandas as pd\n"
   ]
  },
  {
   "cell_type": "code",
   "execution_count": 28,
   "metadata": {},
   "outputs": [],
   "source": [
    "#df = pd.read_csv('data/statcast_dumps/statcast2019.csv')"
   ]
  },
  {
   "cell_type": "code",
   "execution_count": 29,
   "metadata": {},
   "outputs": [
    {
     "output_type": "execute_result",
     "data": {
      "text/plain": "    Unnamed: 0  index pitch_type   game_date  release_speed  release_pos_x  \\\n0            0     25         SL  2020-08-18           85.7      -0.753952   \n7            7     55         SI  2020-08-18           94.3      -0.744988   \n15          15     86         SL  2020-08-18           87.4      -0.590017   \n18          18     98         SL  2020-08-18           89.4       2.622580   \n23          23    120         SL  2020-08-18           90.2       2.807227   \n\n    release_pos_z   player_name    batter   pitcher  ... home_score  \\\n0        5.837731  Anthony Bass  592407.0  542914.0  ...        7.0   \n7        5.857906  Anthony Bass  656775.0  542914.0  ...        7.0   \n15       5.838491  Anthony Bass  593643.0  542914.0  ...        7.0   \n18       5.632106  Tanner Scott  606192.0  656945.0  ...        7.0   \n23       5.593052  Tanner Scott  605412.0  656945.0  ...        7.0   \n\n   away_score  bat_score  fld_score  post_away_score  post_home_score  \\\n0         8.0        7.0        8.0              8.0              7.0   \n7         8.0        7.0        8.0              8.0              7.0   \n15        8.0        7.0        8.0              8.0              7.0   \n18        8.0        8.0        7.0              8.0              7.0   \n23        8.0        8.0        7.0              8.0              7.0   \n\n    post_bat_score post_fld_score if_fielding_alignment of_fielding_alignment  \n0              7.0            8.0         Infield shift              Standard  \n7              7.0            8.0         Infield shift              Standard  \n15             7.0            8.0              Standard              Standard  \n18             8.0            7.0              Standard              Standard  \n23             8.0            7.0             Strategic              Standard  \n\n[5 rows x 91 columns]",
      "text/html": "<div>\n<style scoped>\n    .dataframe tbody tr th:only-of-type {\n        vertical-align: middle;\n    }\n\n    .dataframe tbody tr th {\n        vertical-align: top;\n    }\n\n    .dataframe thead th {\n        text-align: right;\n    }\n</style>\n<table border=\"1\" class=\"dataframe\">\n  <thead>\n    <tr style=\"text-align: right;\">\n      <th></th>\n      <th>Unnamed: 0</th>\n      <th>index</th>\n      <th>pitch_type</th>\n      <th>game_date</th>\n      <th>release_speed</th>\n      <th>release_pos_x</th>\n      <th>release_pos_z</th>\n      <th>player_name</th>\n      <th>batter</th>\n      <th>pitcher</th>\n      <th>...</th>\n      <th>home_score</th>\n      <th>away_score</th>\n      <th>bat_score</th>\n      <th>fld_score</th>\n      <th>post_away_score</th>\n      <th>post_home_score</th>\n      <th>post_bat_score</th>\n      <th>post_fld_score</th>\n      <th>if_fielding_alignment</th>\n      <th>of_fielding_alignment</th>\n    </tr>\n  </thead>\n  <tbody>\n    <tr>\n      <th>0</th>\n      <td>0</td>\n      <td>25</td>\n      <td>SL</td>\n      <td>2020-08-18</td>\n      <td>85.7</td>\n      <td>-0.753952</td>\n      <td>5.837731</td>\n      <td>Anthony Bass</td>\n      <td>592407.0</td>\n      <td>542914.0</td>\n      <td>...</td>\n      <td>7.0</td>\n      <td>8.0</td>\n      <td>7.0</td>\n      <td>8.0</td>\n      <td>8.0</td>\n      <td>7.0</td>\n      <td>7.0</td>\n      <td>8.0</td>\n      <td>Infield shift</td>\n      <td>Standard</td>\n    </tr>\n    <tr>\n      <th>7</th>\n      <td>7</td>\n      <td>55</td>\n      <td>SI</td>\n      <td>2020-08-18</td>\n      <td>94.3</td>\n      <td>-0.744988</td>\n      <td>5.857906</td>\n      <td>Anthony Bass</td>\n      <td>656775.0</td>\n      <td>542914.0</td>\n      <td>...</td>\n      <td>7.0</td>\n      <td>8.0</td>\n      <td>7.0</td>\n      <td>8.0</td>\n      <td>8.0</td>\n      <td>7.0</td>\n      <td>7.0</td>\n      <td>8.0</td>\n      <td>Infield shift</td>\n      <td>Standard</td>\n    </tr>\n    <tr>\n      <th>15</th>\n      <td>15</td>\n      <td>86</td>\n      <td>SL</td>\n      <td>2020-08-18</td>\n      <td>87.4</td>\n      <td>-0.590017</td>\n      <td>5.838491</td>\n      <td>Anthony Bass</td>\n      <td>593643.0</td>\n      <td>542914.0</td>\n      <td>...</td>\n      <td>7.0</td>\n      <td>8.0</td>\n      <td>7.0</td>\n      <td>8.0</td>\n      <td>8.0</td>\n      <td>7.0</td>\n      <td>7.0</td>\n      <td>8.0</td>\n      <td>Standard</td>\n      <td>Standard</td>\n    </tr>\n    <tr>\n      <th>18</th>\n      <td>18</td>\n      <td>98</td>\n      <td>SL</td>\n      <td>2020-08-18</td>\n      <td>89.4</td>\n      <td>2.622580</td>\n      <td>5.632106</td>\n      <td>Tanner Scott</td>\n      <td>606192.0</td>\n      <td>656945.0</td>\n      <td>...</td>\n      <td>7.0</td>\n      <td>8.0</td>\n      <td>8.0</td>\n      <td>7.0</td>\n      <td>8.0</td>\n      <td>7.0</td>\n      <td>8.0</td>\n      <td>7.0</td>\n      <td>Standard</td>\n      <td>Standard</td>\n    </tr>\n    <tr>\n      <th>23</th>\n      <td>23</td>\n      <td>120</td>\n      <td>SL</td>\n      <td>2020-08-18</td>\n      <td>90.2</td>\n      <td>2.807227</td>\n      <td>5.593052</td>\n      <td>Tanner Scott</td>\n      <td>605412.0</td>\n      <td>656945.0</td>\n      <td>...</td>\n      <td>7.0</td>\n      <td>8.0</td>\n      <td>8.0</td>\n      <td>7.0</td>\n      <td>8.0</td>\n      <td>7.0</td>\n      <td>8.0</td>\n      <td>7.0</td>\n      <td>Strategic</td>\n      <td>Standard</td>\n    </tr>\n  </tbody>\n</table>\n<p>5 rows × 91 columns</p>\n</div>"
     },
     "metadata": {},
     "execution_count": 29
    }
   ],
   "source": [
    "#stats = df.dropna(subset=['events'])\n",
    "\n",
    "stats = pd.read_csv('data/statcast_dumps/statcast2020.csv').dropna(subset=['events'])\n",
    "#stats.drop()\n",
    "stats.head()"
   ]
  },
  {
   "cell_type": "code",
   "execution_count": 33,
   "metadata": {},
   "outputs": [],
   "source": [
    "id_map = pd.read_csv('data/id_map.csv', engine='python')\n",
    "#id_map.set_index('mlb_id')\n",
    "ary = dict(zip(id_map['mlb_id'],id_map['mlb_name']))\n",
    "\n",
    "stats['Name'] = stats['batter'].map(ary)#apply(lambda x: ary[x])"
   ]
  },
  {
   "cell_type": "code",
   "execution_count": 35,
   "metadata": {},
   "outputs": [
    {
     "output_type": "execute_result",
     "data": {
      "text/plain": "                    Name    batter    hc_x    hc_y  launch_angle  \\\n94430  Giancarlo Stanton  519317.0   44.55    9.72          21.0   \n62971        Aaron Judge  592450.0   66.83   19.67          27.0   \n25929          Juan Soto  665742.0  239.32   35.16          33.0   \n27141  Teoscar Hernandez  606192.0   66.72   50.05          23.0   \n33934          Juan Soto  665742.0  133.98    2.13          32.0   \n...                  ...       ...     ...     ...           ...   \n44799        Jeff McNeil  643446.0  129.13  189.42         -67.0   \n18003       Tony Wolters  547172.0  125.81  199.34         -79.0   \n7554       Trent Grisham  663757.0  116.89  180.38         -72.0   \n49370      J.T. Realmuto  592663.0  154.48  169.30         -64.0   \n42729         Nick Solak  669256.0  126.50  192.61         -76.0   \n\n       launch_speed  hit_distance_sc  \n94430         121.3            483.0  \n62971         107.4            468.0  \n25929         112.9            466.0  \n27141         115.9            466.0  \n33934         108.6            463.0  \n...             ...              ...  \n44799          52.7              0.0  \n18003          18.4              0.0  \n7554           28.3              0.0  \n49370          90.0              0.0  \n42729          56.1              0.0  \n\n[16307 rows x 7 columns]",
      "text/html": "<div>\n<style scoped>\n    .dataframe tbody tr th:only-of-type {\n        vertical-align: middle;\n    }\n\n    .dataframe tbody tr th {\n        vertical-align: top;\n    }\n\n    .dataframe thead th {\n        text-align: right;\n    }\n</style>\n<table border=\"1\" class=\"dataframe\">\n  <thead>\n    <tr style=\"text-align: right;\">\n      <th></th>\n      <th>Name</th>\n      <th>batter</th>\n      <th>hc_x</th>\n      <th>hc_y</th>\n      <th>launch_angle</th>\n      <th>launch_speed</th>\n      <th>hit_distance_sc</th>\n    </tr>\n  </thead>\n  <tbody>\n    <tr>\n      <th>94430</th>\n      <td>Giancarlo Stanton</td>\n      <td>519317.0</td>\n      <td>44.55</td>\n      <td>9.72</td>\n      <td>21.0</td>\n      <td>121.3</td>\n      <td>483.0</td>\n    </tr>\n    <tr>\n      <th>62971</th>\n      <td>Aaron Judge</td>\n      <td>592450.0</td>\n      <td>66.83</td>\n      <td>19.67</td>\n      <td>27.0</td>\n      <td>107.4</td>\n      <td>468.0</td>\n    </tr>\n    <tr>\n      <th>25929</th>\n      <td>Juan Soto</td>\n      <td>665742.0</td>\n      <td>239.32</td>\n      <td>35.16</td>\n      <td>33.0</td>\n      <td>112.9</td>\n      <td>466.0</td>\n    </tr>\n    <tr>\n      <th>27141</th>\n      <td>Teoscar Hernandez</td>\n      <td>606192.0</td>\n      <td>66.72</td>\n      <td>50.05</td>\n      <td>23.0</td>\n      <td>115.9</td>\n      <td>466.0</td>\n    </tr>\n    <tr>\n      <th>33934</th>\n      <td>Juan Soto</td>\n      <td>665742.0</td>\n      <td>133.98</td>\n      <td>2.13</td>\n      <td>32.0</td>\n      <td>108.6</td>\n      <td>463.0</td>\n    </tr>\n    <tr>\n      <th>...</th>\n      <td>...</td>\n      <td>...</td>\n      <td>...</td>\n      <td>...</td>\n      <td>...</td>\n      <td>...</td>\n      <td>...</td>\n    </tr>\n    <tr>\n      <th>44799</th>\n      <td>Jeff McNeil</td>\n      <td>643446.0</td>\n      <td>129.13</td>\n      <td>189.42</td>\n      <td>-67.0</td>\n      <td>52.7</td>\n      <td>0.0</td>\n    </tr>\n    <tr>\n      <th>18003</th>\n      <td>Tony Wolters</td>\n      <td>547172.0</td>\n      <td>125.81</td>\n      <td>199.34</td>\n      <td>-79.0</td>\n      <td>18.4</td>\n      <td>0.0</td>\n    </tr>\n    <tr>\n      <th>7554</th>\n      <td>Trent Grisham</td>\n      <td>663757.0</td>\n      <td>116.89</td>\n      <td>180.38</td>\n      <td>-72.0</td>\n      <td>28.3</td>\n      <td>0.0</td>\n    </tr>\n    <tr>\n      <th>49370</th>\n      <td>J.T. Realmuto</td>\n      <td>592663.0</td>\n      <td>154.48</td>\n      <td>169.30</td>\n      <td>-64.0</td>\n      <td>90.0</td>\n      <td>0.0</td>\n    </tr>\n    <tr>\n      <th>42729</th>\n      <td>Nick Solak</td>\n      <td>669256.0</td>\n      <td>126.50</td>\n      <td>192.61</td>\n      <td>-76.0</td>\n      <td>56.1</td>\n      <td>0.0</td>\n    </tr>\n  </tbody>\n</table>\n<p>16307 rows × 7 columns</p>\n</div>"
     },
     "metadata": {},
     "execution_count": 35
    }
   ],
   "source": [
    "bb_stats = ['Name','batter','hc_x','hc_y','launch_angle','launch_speed','hit_distance_sc']\n",
    "stats[bb_stats].dropna().sort_values(by='hit_distance_sc', ascending = False)"
   ]
  },
  {
   "cell_type": "code",
   "execution_count": 34,
   "metadata": {},
   "outputs": [
    {
     "output_type": "execute_result",
     "data": {
      "text/plain": "       Unnamed: 0  index pitch_type   game_date  release_speed  release_pos_x  \\\n0               0     25         SL  2020-08-18           85.7      -0.753952   \n7               7     55         SI  2020-08-18           94.3      -0.744988   \n15             15     86         SL  2020-08-18           87.4      -0.590017   \n18             18     98         SL  2020-08-18           89.4       2.622580   \n23             23    120         SL  2020-08-18           90.2       2.807227   \n...           ...    ...        ...         ...            ...            ...   \n98958       98958  20122         FF  2020-07-23           95.9      -3.160918   \n98964       98964  20134         FF  2020-07-23           95.9      -3.158690   \n98967       98967  20139         SL  2020-07-23           86.7      -3.273808   \n98972       98972  20150         FF  2020-07-23           96.7      -3.261007   \n98975       98975  20155         FF  2020-07-23           96.1      -3.283815   \n\n       release_pos_z   player_name    batter   pitcher  ... away_score  \\\n0           5.837731  Anthony Bass  592407.0  542914.0  ...        8.0   \n7           5.857906  Anthony Bass  656775.0  542914.0  ...        8.0   \n15          5.838491  Anthony Bass  593643.0  542914.0  ...        8.0   \n18          5.632106  Tanner Scott  606192.0  656945.0  ...        8.0   \n23          5.593052  Tanner Scott  605412.0  656945.0  ...        8.0   \n...              ...           ...       ...       ...  ...        ...   \n98958       5.443907  Max Scherzer  458731.0  453286.0  ...        2.0   \n98964       5.485672  Max Scherzer  519317.0  453286.0  ...        0.0   \n98967       5.322016  Max Scherzer  650402.0  453286.0  ...        0.0   \n98972       5.440414  Max Scherzer  592450.0  453286.0  ...        0.0   \n98975       5.130653  Max Scherzer  543305.0  453286.0  ...        0.0   \n\n      bat_score  fld_score  post_away_score  post_home_score  post_bat_score  \\\n0           7.0        8.0              8.0              7.0             7.0   \n7           7.0        8.0              8.0              7.0             7.0   \n15          7.0        8.0              8.0              7.0             7.0   \n18          8.0        7.0              8.0              7.0             8.0   \n23          8.0        7.0              8.0              7.0             8.0   \n...         ...        ...              ...              ...             ...   \n98958       2.0        0.0              2.0              0.0             2.0   \n98964       0.0        0.0              0.0              0.0             0.0   \n98967       0.0        0.0              0.0              0.0             0.0   \n98972       0.0        0.0              0.0              0.0             0.0   \n98975       0.0        0.0              0.0              0.0             0.0   \n\n       post_fld_score if_fielding_alignment of_fielding_alignment  \\\n0                 8.0         Infield shift              Standard   \n7                 8.0         Infield shift              Standard   \n15                8.0              Standard              Standard   \n18                7.0              Standard              Standard   \n23                7.0             Strategic              Standard   \n...               ...                   ...                   ...   \n98958             0.0         Infield shift              Standard   \n98964             0.0              Standard              Standard   \n98967             0.0         Infield shift              Standard   \n98972             0.0         Infield shift              Standard   \n98975             0.0         Infield shift              Standard   \n\n                    Name  \n0          Bryan Holaday  \n7         Cedric Mullins  \n15        Hanser Alberto  \n18     Teoscar Hernandez  \n23             Joe Panik  \n...                  ...  \n98958      Brett Gardner  \n98964  Giancarlo Stanton  \n98967     Gleyber Torres  \n98972        Aaron Judge  \n98975        Aaron Hicks  \n\n[25063 rows x 92 columns]",
      "text/html": "<div>\n<style scoped>\n    .dataframe tbody tr th:only-of-type {\n        vertical-align: middle;\n    }\n\n    .dataframe tbody tr th {\n        vertical-align: top;\n    }\n\n    .dataframe thead th {\n        text-align: right;\n    }\n</style>\n<table border=\"1\" class=\"dataframe\">\n  <thead>\n    <tr style=\"text-align: right;\">\n      <th></th>\n      <th>Unnamed: 0</th>\n      <th>index</th>\n      <th>pitch_type</th>\n      <th>game_date</th>\n      <th>release_speed</th>\n      <th>release_pos_x</th>\n      <th>release_pos_z</th>\n      <th>player_name</th>\n      <th>batter</th>\n      <th>pitcher</th>\n      <th>...</th>\n      <th>away_score</th>\n      <th>bat_score</th>\n      <th>fld_score</th>\n      <th>post_away_score</th>\n      <th>post_home_score</th>\n      <th>post_bat_score</th>\n      <th>post_fld_score</th>\n      <th>if_fielding_alignment</th>\n      <th>of_fielding_alignment</th>\n      <th>Name</th>\n    </tr>\n  </thead>\n  <tbody>\n    <tr>\n      <th>0</th>\n      <td>0</td>\n      <td>25</td>\n      <td>SL</td>\n      <td>2020-08-18</td>\n      <td>85.7</td>\n      <td>-0.753952</td>\n      <td>5.837731</td>\n      <td>Anthony Bass</td>\n      <td>592407.0</td>\n      <td>542914.0</td>\n      <td>...</td>\n      <td>8.0</td>\n      <td>7.0</td>\n      <td>8.0</td>\n      <td>8.0</td>\n      <td>7.0</td>\n      <td>7.0</td>\n      <td>8.0</td>\n      <td>Infield shift</td>\n      <td>Standard</td>\n      <td>Bryan Holaday</td>\n    </tr>\n    <tr>\n      <th>7</th>\n      <td>7</td>\n      <td>55</td>\n      <td>SI</td>\n      <td>2020-08-18</td>\n      <td>94.3</td>\n      <td>-0.744988</td>\n      <td>5.857906</td>\n      <td>Anthony Bass</td>\n      <td>656775.0</td>\n      <td>542914.0</td>\n      <td>...</td>\n      <td>8.0</td>\n      <td>7.0</td>\n      <td>8.0</td>\n      <td>8.0</td>\n      <td>7.0</td>\n      <td>7.0</td>\n      <td>8.0</td>\n      <td>Infield shift</td>\n      <td>Standard</td>\n      <td>Cedric Mullins</td>\n    </tr>\n    <tr>\n      <th>15</th>\n      <td>15</td>\n      <td>86</td>\n      <td>SL</td>\n      <td>2020-08-18</td>\n      <td>87.4</td>\n      <td>-0.590017</td>\n      <td>5.838491</td>\n      <td>Anthony Bass</td>\n      <td>593643.0</td>\n      <td>542914.0</td>\n      <td>...</td>\n      <td>8.0</td>\n      <td>7.0</td>\n      <td>8.0</td>\n      <td>8.0</td>\n      <td>7.0</td>\n      <td>7.0</td>\n      <td>8.0</td>\n      <td>Standard</td>\n      <td>Standard</td>\n      <td>Hanser Alberto</td>\n    </tr>\n    <tr>\n      <th>18</th>\n      <td>18</td>\n      <td>98</td>\n      <td>SL</td>\n      <td>2020-08-18</td>\n      <td>89.4</td>\n      <td>2.622580</td>\n      <td>5.632106</td>\n      <td>Tanner Scott</td>\n      <td>606192.0</td>\n      <td>656945.0</td>\n      <td>...</td>\n      <td>8.0</td>\n      <td>8.0</td>\n      <td>7.0</td>\n      <td>8.0</td>\n      <td>7.0</td>\n      <td>8.0</td>\n      <td>7.0</td>\n      <td>Standard</td>\n      <td>Standard</td>\n      <td>Teoscar Hernandez</td>\n    </tr>\n    <tr>\n      <th>23</th>\n      <td>23</td>\n      <td>120</td>\n      <td>SL</td>\n      <td>2020-08-18</td>\n      <td>90.2</td>\n      <td>2.807227</td>\n      <td>5.593052</td>\n      <td>Tanner Scott</td>\n      <td>605412.0</td>\n      <td>656945.0</td>\n      <td>...</td>\n      <td>8.0</td>\n      <td>8.0</td>\n      <td>7.0</td>\n      <td>8.0</td>\n      <td>7.0</td>\n      <td>8.0</td>\n      <td>7.0</td>\n      <td>Strategic</td>\n      <td>Standard</td>\n      <td>Joe Panik</td>\n    </tr>\n    <tr>\n      <th>...</th>\n      <td>...</td>\n      <td>...</td>\n      <td>...</td>\n      <td>...</td>\n      <td>...</td>\n      <td>...</td>\n      <td>...</td>\n      <td>...</td>\n      <td>...</td>\n      <td>...</td>\n      <td>...</td>\n      <td>...</td>\n      <td>...</td>\n      <td>...</td>\n      <td>...</td>\n      <td>...</td>\n      <td>...</td>\n      <td>...</td>\n      <td>...</td>\n      <td>...</td>\n      <td>...</td>\n    </tr>\n    <tr>\n      <th>98958</th>\n      <td>98958</td>\n      <td>20122</td>\n      <td>FF</td>\n      <td>2020-07-23</td>\n      <td>95.9</td>\n      <td>-3.160918</td>\n      <td>5.443907</td>\n      <td>Max Scherzer</td>\n      <td>458731.0</td>\n      <td>453286.0</td>\n      <td>...</td>\n      <td>2.0</td>\n      <td>2.0</td>\n      <td>0.0</td>\n      <td>2.0</td>\n      <td>0.0</td>\n      <td>2.0</td>\n      <td>0.0</td>\n      <td>Infield shift</td>\n      <td>Standard</td>\n      <td>Brett Gardner</td>\n    </tr>\n    <tr>\n      <th>98964</th>\n      <td>98964</td>\n      <td>20134</td>\n      <td>FF</td>\n      <td>2020-07-23</td>\n      <td>95.9</td>\n      <td>-3.158690</td>\n      <td>5.485672</td>\n      <td>Max Scherzer</td>\n      <td>519317.0</td>\n      <td>453286.0</td>\n      <td>...</td>\n      <td>0.0</td>\n      <td>0.0</td>\n      <td>0.0</td>\n      <td>0.0</td>\n      <td>0.0</td>\n      <td>0.0</td>\n      <td>0.0</td>\n      <td>Standard</td>\n      <td>Standard</td>\n      <td>Giancarlo Stanton</td>\n    </tr>\n    <tr>\n      <th>98967</th>\n      <td>98967</td>\n      <td>20139</td>\n      <td>SL</td>\n      <td>2020-07-23</td>\n      <td>86.7</td>\n      <td>-3.273808</td>\n      <td>5.322016</td>\n      <td>Max Scherzer</td>\n      <td>650402.0</td>\n      <td>453286.0</td>\n      <td>...</td>\n      <td>0.0</td>\n      <td>0.0</td>\n      <td>0.0</td>\n      <td>0.0</td>\n      <td>0.0</td>\n      <td>0.0</td>\n      <td>0.0</td>\n      <td>Infield shift</td>\n      <td>Standard</td>\n      <td>Gleyber Torres</td>\n    </tr>\n    <tr>\n      <th>98972</th>\n      <td>98972</td>\n      <td>20150</td>\n      <td>FF</td>\n      <td>2020-07-23</td>\n      <td>96.7</td>\n      <td>-3.261007</td>\n      <td>5.440414</td>\n      <td>Max Scherzer</td>\n      <td>592450.0</td>\n      <td>453286.0</td>\n      <td>...</td>\n      <td>0.0</td>\n      <td>0.0</td>\n      <td>0.0</td>\n      <td>0.0</td>\n      <td>0.0</td>\n      <td>0.0</td>\n      <td>0.0</td>\n      <td>Infield shift</td>\n      <td>Standard</td>\n      <td>Aaron Judge</td>\n    </tr>\n    <tr>\n      <th>98975</th>\n      <td>98975</td>\n      <td>20155</td>\n      <td>FF</td>\n      <td>2020-07-23</td>\n      <td>96.1</td>\n      <td>-3.283815</td>\n      <td>5.130653</td>\n      <td>Max Scherzer</td>\n      <td>543305.0</td>\n      <td>453286.0</td>\n      <td>...</td>\n      <td>0.0</td>\n      <td>0.0</td>\n      <td>0.0</td>\n      <td>0.0</td>\n      <td>0.0</td>\n      <td>0.0</td>\n      <td>0.0</td>\n      <td>Infield shift</td>\n      <td>Standard</td>\n      <td>Aaron Hicks</td>\n    </tr>\n  </tbody>\n</table>\n<p>25063 rows × 92 columns</p>\n</div>"
     },
     "metadata": {},
     "execution_count": 34
    }
   ],
   "source": [
    "stats"
   ]
  },
  {
   "cell_type": "code",
   "execution_count": null,
   "metadata": {},
   "outputs": [],
   "source": []
  }
 ]
}