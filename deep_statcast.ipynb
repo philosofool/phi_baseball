{
 "metadata": {
  "language_info": {
   "codemirror_mode": {
    "name": "ipython",
    "version": 3
   },
   "file_extension": ".py",
   "mimetype": "text/x-python",
   "name": "python",
   "nbconvert_exporter": "python",
   "pygments_lexer": "ipython3",
   "version": "3.8.3-final"
  },
  "orig_nbformat": 2,
  "kernelspec": {
   "name": "python3",
   "display_name": "Python 3"
  }
 },
 "nbformat": 4,
 "nbformat_minor": 2,
 "cells": [
  {
   "cell_type": "code",
   "execution_count": 27,
   "metadata": {},
   "outputs": [],
   "source": [
    "import pandas as pd\n"
   ]
  },
  {
   "cell_type": "code",
   "execution_count": 28,
   "metadata": {},
   "outputs": [],
   "source": [
    "#df = pd.read_csv('data/statcast_dumps/statcast2019.csv')"
   ]
  },
  {
   "cell_type": "code",
   "execution_count": 29,
   "metadata": {},
   "outputs": [
    {
     "output_type": "execute_result",
     "data": {
      "text/plain": "    Unnamed: 0  index pitch_type   game_date  release_speed  release_pos_x  \\\n0            0     25         SL  2020-08-18           85.7      -0.753952   \n7            7     55         SI  2020-08-18           94.3      -0.744988   \n15          15     86         SL  2020-08-18           87.4      -0.590017   \n18          18     98         SL  2020-08-18           89.4       2.622580   \n23          23    120         SL  2020-08-18           90.2       2.807227   \n\n    release_pos_z   player_name    batter   pitcher  ... home_score  \\\n0        5.837731  Anthony Bass  592407.0  542914.0  ...        7.0   \n7        5.857906  Anthony Bass  656775.0  542914.0  ...        7.0   \n15       5.838491  Anthony Bass  593643.0  542914.0  ...        7.0   \n18       5.632106  Tanner Scott  606192.0  656945.0  ...        7.0   \n23       5.593052  Tanner Scott  605412.0  656945.0  ...        7.0   \n\n   away_score  bat_score  fld_score  post_away_score  post_home_score  \\\n0         8.0        7.0        8.0              8.0              7.0   \n7         8.0        7.0        8.0              8.0              7.0   \n15        8.0        7.0        8.0              8.0              7.0   \n18        8.0        8.0        7.0              8.0              7.0   \n23        8.0        8.0        7.0              8.0              7.0   \n\n    post_bat_score post_fld_score if_fielding_alignment of_fielding_alignment  \n0              7.0            8.0         Infield shift              Standard  \n7              7.0            8.0         Infield shift              Standard  \n15             7.0            8.0              Standard              Standard  \n18             8.0            7.0              Standard              Standard  \n23             8.0            7.0             Strategic              Standard  \n\n[5 rows x 91 columns]",
      "text/html": "<div>\n<style scoped>\n    .dataframe tbody tr th:only-of-type {\n        vertical-align: middle;\n    }\n\n    .dataframe tbody tr th {\n        vertical-align: top;\n    }\n\n    .dataframe thead th {\n        text-align: right;\n    }\n</style>\n<table border=\"1\" class=\"dataframe\">\n  <thead>\n    <tr style=\"text-align: right;\">\n      <th></th>\n      <th>Unnamed: 0</th>\n      <th>index</th>\n      <th>pitch_type</th>\n      <th>game_date</th>\n      <th>release_speed</th>\n      <th>release_pos_x</th>\n      <th>release_pos_z</th>\n      <th>player_name</th>\n      <th>batter</th>\n      <th>pitcher</th>\n      <th>...</th>\n      <th>home_score</th>\n      <th>away_score</th>\n      <th>bat_score</th>\n      <th>fld_score</th>\n      <th>post_away_score</th>\n      <th>post_home_score</th>\n      <th>post_bat_score</th>\n      <th>post_fld_score</th>\n      <th>if_fielding_alignment</th>\n      <th>of_fielding_alignment</th>\n    </tr>\n  </thead>\n  <tbody>\n    <tr>\n      <th>0</th>\n      <td>0</td>\n      <td>25</td>\n      <td>SL</td>\n      <td>2020-08-18</td>\n      <td>85.7</td>\n      <td>-0.753952</td>\n      <td>5.837731</td>\n      <td>Anthony Bass</td>\n      <td>592407.0</td>\n      <td>542914.0</td>\n      <td>...</td>\n      <td>7.0</td>\n      <td>8.0</td>\n      <td>7.0</td>\n      <td>8.0</td>\n      <td>8.0</td>\n      <td>7.0</td>\n      <td>7.0</td>\n      <td>8.0</td>\n      <td>Infield shift</td>\n      <td>Standard</td>\n    </tr>\n    <tr>\n      <th>7</th>\n      <td>7</td>\n      <td>55</td>\n      <td>SI</td>\n      <td>2020-08-18</td>\n      <td>94.3</td>\n      <td>-0.744988</td>\n      <td>5.857906</td>\n      <td>Anthony Bass</td>\n      <td>656775.0</td>\n      <td>542914.0</td>\n      <td>...</td>\n      <td>7.0</td>\n      <td>8.0</td>\n      <td>7.0</td>\n      <td>8.0</td>\n      <td>8.0</td>\n      <td>7.0</td>\n      <td>7.0</td>\n      <td>8.0</td>\n      <td>Infield shift</td>\n      <td>Standard</td>\n    </tr>\n    <tr>\n      <th>15</th>\n      <td>15</td>\n      <td>86</td>\n      <td>SL</td>\n      <td>2020-08-18</td>\n      <td>87.4</td>\n      <td>-0.590017</td>\n      <td>5.838491</td>\n      <td>Anthony Bass</td>\n      <td>593643.0</td>\n      <td>542914.0</td>\n      <td>...</td>\n      <td>7.0</td>\n      <td>8.0</td>\n      <td>7.0</td>\n      <td>8.0</td>\n      <td>8.0</td>\n      <td>7.0</td>\n      <td>7.0</td>\n      <td>8.0</td>\n      <td>Standard</td>\n      <td>Standard</td>\n    </tr>\n    <tr>\n      <th>18</th>\n      <td>18</td>\n      <td>98</td>\n      <td>SL</td>\n      <td>2020-08-18</td>\n      <td>89.4</td>\n      <td>2.622580</td>\n      <td>5.632106</td>\n      <td>Tanner Scott</td>\n      <td>606192.0</td>\n      <td>656945.0</td>\n      <td>...</td>\n      <td>7.0</td>\n      <td>8.0</td>\n      <td>8.0</td>\n      <td>7.0</td>\n      <td>8.0</td>\n      <td>7.0</td>\n      <td>8.0</td>\n      <td>7.0</td>\n      <td>Standard</td>\n      <td>Standard</td>\n    </tr>\n    <tr>\n      <th>23</th>\n      <td>23</td>\n      <td>120</td>\n      <td>SL</td>\n      <td>2020-08-18</td>\n      <td>90.2</td>\n      <td>2.807227</td>\n      <td>5.593052</td>\n      <td>Tanner Scott</td>\n      <td>605412.0</td>\n      <td>656945.0</td>\n      <td>...</td>\n      <td>7.0</td>\n      <td>8.0</td>\n      <td>8.0</td>\n      <td>7.0</td>\n      <td>8.0</td>\n      <td>7.0</td>\n      <td>8.0</td>\n      <td>7.0</td>\n      <td>Strategic</td>\n      <td>Standard</td>\n    </tr>\n  </tbody>\n</table>\n<p>5 rows × 91 columns</p>\n</div>"
     },
     "metadata": {},
     "execution_count": 29
    }
   ],
   "source": [
    "#stats = df.dropna(subset=['events'])\n",
    "\n",
    "stats = pd.read_csv('data/statcast_dumps/statcast2020.csv').dropna(subset=['events'])\n",
    "#stats.drop()\n",
    "stats.head()"
   ]
  },
  {
   "cell_type": "code",
   "execution_count": 49,
   "metadata": {},
   "outputs": [],
   "source": [
    "id_map = pd.read_csv('data/id_map.csv', engine='python')\n",
    "#id_map.set_index('mlb_id')\n",
    "ary = dict(zip(id_map['mlb_id'],id_map['mlb_name']))\n",
    "\n",
    "stats['Name'] = stats['batter'].map(ary)#apply(lambda x: ary[x])"
   ]
  },
  {
   "cell_type": "code",
   "execution_count": 53,
   "metadata": {},
   "outputs": [],
   "source": [
    "bb_stats = ['Name','batter','hc_x','hc_y','launch_angle','launch_speed','hit_distance_sc']\n",
    "vladdy = stats[bb_stats].dropna()\n"
   ]
  },
  {
   "cell_type": "code",
   "execution_count": 62,
   "metadata": {},
   "outputs": [
    {
     "output_type": "execute_result",
     "data": {
      "text/plain": "         batter        hc_x        hc_y  launch_angle  launch_speed  \\\ncount      35.0   35.000000   35.000000     35.000000     35.000000   \nmean   643376.0  125.399429  109.588286     23.685714     83.565714   \nstd         0.0   40.987387   45.712372     27.529419     18.609263   \nmin    643376.0   42.030000   25.860000    -77.000000     19.800000   \n25%    643376.0  101.600000   80.130000     13.500000     76.800000   \n50%    643376.0  132.460000  106.940000     25.000000     86.300000   \n75%    643376.0  156.190000  144.565000     38.000000     96.000000   \nmax    643376.0  193.350000  197.800000     72.000000    104.900000   \n\n       hit_distance_sc  \ncount        35.000000  \nmean        215.714286  \nstd         125.940362  \nmin           2.000000  \n25%         118.000000  \n50%         244.000000  \n75%         300.000000  \nmax         427.000000  ",
      "text/html": "<div>\n<style scoped>\n    .dataframe tbody tr th:only-of-type {\n        vertical-align: middle;\n    }\n\n    .dataframe tbody tr th {\n        vertical-align: top;\n    }\n\n    .dataframe thead th {\n        text-align: right;\n    }\n</style>\n<table border=\"1\" class=\"dataframe\">\n  <thead>\n    <tr style=\"text-align: right;\">\n      <th></th>\n      <th>batter</th>\n      <th>hc_x</th>\n      <th>hc_y</th>\n      <th>launch_angle</th>\n      <th>launch_speed</th>\n      <th>hit_distance_sc</th>\n    </tr>\n  </thead>\n  <tbody>\n    <tr>\n      <th>count</th>\n      <td>35.0</td>\n      <td>35.000000</td>\n      <td>35.000000</td>\n      <td>35.000000</td>\n      <td>35.000000</td>\n      <td>35.000000</td>\n    </tr>\n    <tr>\n      <th>mean</th>\n      <td>643376.0</td>\n      <td>125.399429</td>\n      <td>109.588286</td>\n      <td>23.685714</td>\n      <td>83.565714</td>\n      <td>215.714286</td>\n    </tr>\n    <tr>\n      <th>std</th>\n      <td>0.0</td>\n      <td>40.987387</td>\n      <td>45.712372</td>\n      <td>27.529419</td>\n      <td>18.609263</td>\n      <td>125.940362</td>\n    </tr>\n    <tr>\n      <th>min</th>\n      <td>643376.0</td>\n      <td>42.030000</td>\n      <td>25.860000</td>\n      <td>-77.000000</td>\n      <td>19.800000</td>\n      <td>2.000000</td>\n    </tr>\n    <tr>\n      <th>25%</th>\n      <td>643376.0</td>\n      <td>101.600000</td>\n      <td>80.130000</td>\n      <td>13.500000</td>\n      <td>76.800000</td>\n      <td>118.000000</td>\n    </tr>\n    <tr>\n      <th>50%</th>\n      <td>643376.0</td>\n      <td>132.460000</td>\n      <td>106.940000</td>\n      <td>25.000000</td>\n      <td>86.300000</td>\n      <td>244.000000</td>\n    </tr>\n    <tr>\n      <th>75%</th>\n      <td>643376.0</td>\n      <td>156.190000</td>\n      <td>144.565000</td>\n      <td>38.000000</td>\n      <td>96.000000</td>\n      <td>300.000000</td>\n    </tr>\n    <tr>\n      <th>max</th>\n      <td>643376.0</td>\n      <td>193.350000</td>\n      <td>197.800000</td>\n      <td>72.000000</td>\n      <td>104.900000</td>\n      <td>427.000000</td>\n    </tr>\n  </tbody>\n</table>\n</div>"
     },
     "metadata": {},
     "execution_count": 62
    }
   ],
   "source": [
    "name = 'Danny Jan'good mountain bike videos\n",
    "vladdy[vladdy['Name'].str.startswith(name)].describe()\n"
   ]
  },
  {
   "cell_type": "code",
   "execution_count": 52,
   "metadata": {},
   "outputs": [
    {
     "output_type": "execute_result",
     "data": {
      "text/plain": "       batter  hc_x  hc_y  launch_angle  launch_speed  hit_distance_sc\ncount     1.0   1.0   1.0           1.0           1.0              1.0\nmean      0.0   0.0   0.0           0.0           0.0              0.0\nstd       NaN   NaN   NaN           NaN           NaN              NaN\nmin       0.0   0.0   0.0           0.0           0.0              0.0\n25%       0.0   0.0   0.0           0.0           0.0              0.0\n50%       0.0   0.0   0.0           0.0           0.0              0.0\n75%       0.0   0.0   0.0           0.0           0.0              0.0\nmax       0.0   0.0   0.0           0.0           0.0              0.0",
      "text/html": "<div>\n<style scoped>\n    .dataframe tbody tr th:only-of-type {\n        vertical-align: middle;\n    }\n\n    .dataframe tbody tr th {\n        vertical-align: top;\n    }\n\n    .dataframe thead th {\n        text-align: right;\n    }\n</style>\n<table border=\"1\" class=\"dataframe\">\n  <thead>\n    <tr style=\"text-align: right;\">\n      <th></th>\n      <th>batter</th>\n      <th>hc_x</th>\n      <th>hc_y</th>\n      <th>launch_angle</th>\n      <th>launch_speed</th>\n      <th>hit_distance_sc</th>\n    </tr>\n  </thead>\n  <tbody>\n    <tr>\n      <th>count</th>\n      <td>1.0</td>\n      <td>1.0</td>\n      <td>1.0</td>\n      <td>1.0</td>\n      <td>1.0</td>\n      <td>1.0</td>\n    </tr>\n    <tr>\n      <th>mean</th>\n      <td>0.0</td>\n      <td>0.0</td>\n      <td>0.0</td>\n      <td>0.0</td>\n      <td>0.0</td>\n      <td>0.0</td>\n    </tr>\n    <tr>\n      <th>std</th>\n      <td>NaN</td>\n      <td>NaN</td>\n      <td>NaN</td>\n      <td>NaN</td>\n      <td>NaN</td>\n      <td>NaN</td>\n    </tr>\n    <tr>\n      <th>min</th>\n      <td>0.0</td>\n      <td>0.0</td>\n      <td>0.0</td>\n      <td>0.0</td>\n      <td>0.0</td>\n      <td>0.0</td>\n    </tr>\n    <tr>\n      <th>25%</th>\n      <td>0.0</td>\n      <td>0.0</td>\n      <td>0.0</td>\n      <td>0.0</td>\n      <td>0.0</td>\n      <td>0.0</td>\n    </tr>\n    <tr>\n      <th>50%</th>\n      <td>0.0</td>\n      <td>0.0</td>\n      <td>0.0</td>\n      <td>0.0</td>\n      <td>0.0</td>\n      <td>0.0</td>\n    </tr>\n    <tr>\n      <th>75%</th>\n      <td>0.0</td>\n      <td>0.0</td>\n      <td>0.0</td>\n      <td>0.0</td>\n      <td>0.0</td>\n      <td>0.0</td>\n    </tr>\n    <tr>\n      <th>max</th>\n      <td>0.0</td>\n      <td>0.0</td>\n      <td>0.0</td>\n      <td>0.0</td>\n      <td>0.0</td>\n      <td>0.0</td>\n    </tr>\n  </tbody>\n</table>\n</div>"
     },
     "metadata": {},
     "execution_count": 52
    }
   ],
   "source": []
  },
  {
   "cell_type": "code",
   "execution_count": null,
   "metadata": {},
   "outputs": [],
   "source": []
  }
 ]
}