{
 "cells": [
  {
   "cell_type": "markdown",
   "metadata": {},
   "source": [
    "# Marcel Projection\n",
    "\n",
    "This is for development of a Marcel Projection system developed, but _not_ endorsed, by Tom Tango.  \n",
    "\n",
    "## About Marcel Projections\n",
    "\n",
    "Tom Tango casually offered Marcel projections as a projection system for baseball stats that could be used to act as a baseline for player projections. I say that were casually offered; he said of them: \"I do not stand behind these forecasts. These forecasts are the minimum level of competence that you should expect from any forecaster. Do not attach my name to these forecasts in any kind of evaluation experiment. They should only be referred to as Marcel The Monkey Forecasting System, or simply The Marcels.\" It is named for a monkey on a sitcom (I think it was \"Friends.\") Marcels have been shown to be reasonably accurate at projecting basbeall players despite being very simple.\n",
    "\n",
    "The point of these is not to forecast baseball for \"serious\" purposes. Rather, they act as a baseline. \n",
    "\n",
    "## How they Work\n",
    "\n",
    "Short version: To project a player's stats in year N, add 5 times their previous season (N - 1), 4 times their N -2 season, and 3 times their N - 3 season. Then add two full seasons of major league average performance. Prorate that number to get an expected number of Plate Appearances or Innings pitched. In essence, it weighs a player's observed stats with the simplest possible expected value, the mean. (Pitcher's don't follow exactly this scheme.)\n",
    "\n",
    "Complete details at are [here](http://www.tangotiger.net/archives/stud0346.shtml). See Tango's comment #28 for pitcher details."
   ]
  },
  {
   "cell_type": "code",
   "execution_count": 2,
   "metadata": {},
   "outputs": [],
   "source": [
    "import numpy as np\n",
    "import pandas as pd\n",
    "import os ##for looking at the names of files in this directory."
   ]
  },
  {
   "cell_type": "code",
   "execution_count": 4,
   "metadata": {
    "scrolled": true
   },
   "outputs": [],
   "source": [
    "from marcel import MarcelForecaster"
   ]
  },
  {
   "cell_type": "code",
   "execution_count": 5,
   "metadata": {},
   "outputs": [],
   "source": [
    "hitters = pd.read_csv('../data/hitters_since_1947.csv')\n",
    "pitchers = pd.read_csv('../data/pitchers_since_1947.csv')\n",
    "hitter_ages = pd.read_csv('../data/all_hitter_ages.csv')\n",
    "pitcher_ages = pd.read_csv('../data/all_pitcher_ages.csv')\n",
    "\n",
    "hitters = pd.merge(hitters, hitter_ages[['Season','playerid','Age']], how='left',on=['playerid','Season']).reset_index().drop(['index'],axis=1)\n",
    "pitchers = pd.merge(pitchers, pitcher_ages[['Season','playerid','Age']], how='left',on=['playerid','Season']).reset_index().drop(['index'],axis=1)"
   ]
  },
  {
   "cell_type": "code",
   "execution_count": 6,
   "metadata": {},
   "outputs": [
    {
     "output_type": "execute_result",
     "data": {
      "text/plain": "   Season          Name       Team  W  L  ERA  G  GS  CG  ShO  ...  ER  HR  \\\n0    1947    Hi Bithorn  White Sox  1  0  0.0  2   0   0    0  ...   0   0   \n1    1947    Dizzy Dean     Browns  0  0  0.0  1   1   0    0  ...   0   0   \n2    1947   Buzz Dozier   Senators  0  0  0.0  2   0   0    0  ...   0   0   \n3    1947  Ernest Groth    Indians  0  0  0.0  2   0   0    0  ...   0   0   \n4    1947   Ken Johnson  Cardinals  1  0  0.0  2   1   1    0  ...   0   0   \n\n   BB  IBB  HBP  WP  BK  SO  playerid  Age  \n0   0  NaN    0   0   0   0   1000998   31  \n1   1  NaN    0   0   0   0   1003106   37  \n2   1  NaN    0   0   0   2   1003470   18  \n3   1  NaN    0   0   0   1   1005095   25  \n4   5  NaN    1   0   0   8   1006476   24  \n\n[5 rows x 27 columns]",
      "text/html": "<div>\n<style scoped>\n    .dataframe tbody tr th:only-of-type {\n        vertical-align: middle;\n    }\n\n    .dataframe tbody tr th {\n        vertical-align: top;\n    }\n\n    .dataframe thead th {\n        text-align: right;\n    }\n</style>\n<table border=\"1\" class=\"dataframe\">\n  <thead>\n    <tr style=\"text-align: right;\">\n      <th></th>\n      <th>Season</th>\n      <th>Name</th>\n      <th>Team</th>\n      <th>W</th>\n      <th>L</th>\n      <th>ERA</th>\n      <th>G</th>\n      <th>GS</th>\n      <th>CG</th>\n      <th>ShO</th>\n      <th>...</th>\n      <th>ER</th>\n      <th>HR</th>\n      <th>BB</th>\n      <th>IBB</th>\n      <th>HBP</th>\n      <th>WP</th>\n      <th>BK</th>\n      <th>SO</th>\n      <th>playerid</th>\n      <th>Age</th>\n    </tr>\n  </thead>\n  <tbody>\n    <tr>\n      <th>0</th>\n      <td>1947</td>\n      <td>Hi Bithorn</td>\n      <td>White Sox</td>\n      <td>1</td>\n      <td>0</td>\n      <td>0.0</td>\n      <td>2</td>\n      <td>0</td>\n      <td>0</td>\n      <td>0</td>\n      <td>...</td>\n      <td>0</td>\n      <td>0</td>\n      <td>0</td>\n      <td>NaN</td>\n      <td>0</td>\n      <td>0</td>\n      <td>0</td>\n      <td>0</td>\n      <td>1000998</td>\n      <td>31</td>\n    </tr>\n    <tr>\n      <th>1</th>\n      <td>1947</td>\n      <td>Dizzy Dean</td>\n      <td>Browns</td>\n      <td>0</td>\n      <td>0</td>\n      <td>0.0</td>\n      <td>1</td>\n      <td>1</td>\n      <td>0</td>\n      <td>0</td>\n      <td>...</td>\n      <td>0</td>\n      <td>0</td>\n      <td>1</td>\n      <td>NaN</td>\n      <td>0</td>\n      <td>0</td>\n      <td>0</td>\n      <td>0</td>\n      <td>1003106</td>\n      <td>37</td>\n    </tr>\n    <tr>\n      <th>2</th>\n      <td>1947</td>\n      <td>Buzz Dozier</td>\n      <td>Senators</td>\n      <td>0</td>\n      <td>0</td>\n      <td>0.0</td>\n      <td>2</td>\n      <td>0</td>\n      <td>0</td>\n      <td>0</td>\n      <td>...</td>\n      <td>0</td>\n      <td>0</td>\n      <td>1</td>\n      <td>NaN</td>\n      <td>0</td>\n      <td>0</td>\n      <td>0</td>\n      <td>2</td>\n      <td>1003470</td>\n      <td>18</td>\n    </tr>\n    <tr>\n      <th>3</th>\n      <td>1947</td>\n      <td>Ernest Groth</td>\n      <td>Indians</td>\n      <td>0</td>\n      <td>0</td>\n      <td>0.0</td>\n      <td>2</td>\n      <td>0</td>\n      <td>0</td>\n      <td>0</td>\n      <td>...</td>\n      <td>0</td>\n      <td>0</td>\n      <td>1</td>\n      <td>NaN</td>\n      <td>0</td>\n      <td>0</td>\n      <td>0</td>\n      <td>1</td>\n      <td>1005095</td>\n      <td>25</td>\n    </tr>\n    <tr>\n      <th>4</th>\n      <td>1947</td>\n      <td>Ken Johnson</td>\n      <td>Cardinals</td>\n      <td>1</td>\n      <td>0</td>\n      <td>0.0</td>\n      <td>2</td>\n      <td>1</td>\n      <td>1</td>\n      <td>0</td>\n      <td>...</td>\n      <td>0</td>\n      <td>0</td>\n      <td>5</td>\n      <td>NaN</td>\n      <td>1</td>\n      <td>0</td>\n      <td>0</td>\n      <td>8</td>\n      <td>1006476</td>\n      <td>24</td>\n    </tr>\n  </tbody>\n</table>\n<p>5 rows × 27 columns</p>\n</div>"
     },
     "metadata": {},
     "execution_count": 6
    }
   ],
   "source": [
    "pitchers.head()"
   ]
  },
  {
   "cell_type": "code",
   "execution_count": 7,
   "metadata": {},
   "outputs": [
    {
     "output_type": "execute_result",
     "data": {
      "text/plain": "Index(['G', 'AB', 'PA', 'H', '1B', '2B', '3B', 'HR', 'R', 'RBI', 'BB', 'IBB',\n       'SO', 'HBP', 'SF', 'SH', 'GDP', 'SB', 'CS', 'AVG'],\n      dtype='object')"
     },
     "metadata": {},
     "execution_count": 7
    }
   ],
   "source": [
    "\n",
    "marcel = MarcelForecaster(pitchers,hitters,as_pandas=True)\n",
    "marcel.hitter_stat_cols\n",
    "#marcel.pitcher_stat_cols\n"
   ]
  },
  {
   "cell_type": "code",
   "execution_count": 53,
   "metadata": {},
   "outputs": [],
   "source": [
    "#scaled_hitters = marcel._hit_step1(2020)\n",
    "hitters = marcel.project_hitters(2020)"
   ]
  },
  {
   "cell_type": "code",
   "execution_count": 55,
   "metadata": {},
   "outputs": [
    {
     "output_type": "execute_result",
     "data": {
      "text/plain": "          Season                   Name       Team           G          AB  \\\nplayerid                                                                     \n15166       2020            Luiz Gohara     Braves   86.832992  179.052750   \n15722       2020          Allen Cordoba     Padres   84.839049  178.440116   \n17303       2020         Francis Martes     Astros   97.353210  178.704883   \n18383       2020            Mike Soroka     Braves   98.570770  204.854858   \n18401       2020       Ronald Acuna Jr.     Braves  159.260566  535.078060   \n18694       2020           Kolby Allard    Rangers   89.489094  178.934498   \n19611       2020  Vladimir Guerrero Jr.  Blue Jays  137.522992  411.206575   \n19612       2020            Bo Bichette  Blue Jays   98.102958  277.868214   \n19709       2020     Fernando Tatis Jr.     Padres  117.182467  345.915199   \n19716       2020             Dustin May    Dodgers   91.184896  184.578183   \n19911       2020            Jose Suarez     Angels   96.857292  179.775280   \n19955       2020              Gavin Lux    Dodgers   90.417102  216.634944   \n19958       2020         Carter Kieboom  Nationals   84.710250  198.368402   \n19959       2020          Jesus Luzardo  Athletics   85.825210  178.704883   \n19990       2020           Bryse Wilson     Braves   86.181030  183.826366   \n20039       2020         Adrian Morejon     Padres   85.296436  179.240227   \n20123       2020              Juan Soto  Nationals  157.972824  486.507640   \n20367       2020       Brusdar Graterol      Twins   89.829909  178.704883   \n20373       2020           Andres Munoz     Padres  100.369909  178.704883   \n20468       2020           Huascar Ynoa     Braves   82.331877  178.704883   \n20632       2020          Elvis Luciano  Blue Jays  103.419339  179.240227   \n21032       2020         Emmanuel Clase    Rangers   98.925210  178.704883   \n\n             PA           H         1B         2B        3B  ...        SH  \\\nplayerid                                                     ...             \n15166     200.2   45.702983  28.818242   9.205165  0.885038  ...  1.416946   \n15722     200.0   44.090042  30.313951   6.721005  1.250495  ...  0.597356   \n17303     200.0   47.103141  29.701118   9.487175  0.912152  ...  0.936355   \n18383     232.3   46.215363  30.536670   8.547657  0.821821  ...  6.351555   \n18401     606.2  156.171371  94.878344  25.354818  2.950382  ...  0.506576   \n18694     201.3   47.246336  30.046530   9.376931  0.901552  ...  2.306570   \n19611     457.0  114.947851  74.748832  23.549313  1.944886  ...  0.684930   \n19612     306.0   81.544782  46.832448  20.478041  0.741022  ...  0.760685   \n19709     386.0  106.321163  65.818926  15.863710  4.682993  ...  0.712750   \n19716     205.5   47.135452  30.038485   9.320866  0.896162  ...  0.919941   \n19911     201.0   46.947428  29.602933   9.455813  0.909136  ...  0.933260   \n19955     241.0   56.423765  35.303762  11.658270  1.603609  ...  0.840975   \n19958     221.5   48.341607  30.356725   8.910569  0.856713  ...  0.879446   \n19959     200.0   47.103141  29.701118   9.487175  0.912152  ...  0.936355   \n19990     204.7   47.882948  30.825355   9.299400  0.894098  ...  0.917822   \n20039     200.5   47.294188  29.821584   9.525655  0.915851  ...  0.940153   \n20123     578.9  143.198165  82.226431  29.637331  3.226868  ...  0.882645   \n20367     200.0   47.372815  29.871163   9.541491  0.917374  ...  0.941716   \n20373     200.0   47.372815  29.871163   9.541491  0.917374  ...  0.941716   \n20468     200.0   47.103141  29.701118   9.487175  0.912152  ...  0.936355   \n20632     200.5   47.563415  29.991346   9.579880  0.921065  ...  0.945505   \n21032     200.0   47.103141  29.701118   9.487175  0.912152  ...  0.936355   \n\n                GDP         SB        CS       AVG  playerid  Age       SLG  \\\nplayerid                                                                      \n15166      4.393142   2.636569  0.895396  0.255249     15166   21  0.430386   \n15722      3.222795   2.402132  1.196062  0.247086     15722   21  0.396356   \n17303      4.003731   2.717343  0.922828  0.263581     17303   21  0.444435   \n18383      4.394086   2.448243  0.831440  0.225601     18383   21  0.367745   \n18401      7.457836  24.999646  6.078858  0.291867     18401   21  0.535231   \n18694      3.957206   2.685766  0.912104  0.264043     18694   21  0.442566   \n19611     13.788783   1.987695  1.240333  0.279538     19611   20  0.453547   \n19612      4.671562   5.045487  3.327678  0.293466     19612   21  0.518176   \n19709      5.706734  12.704875  4.274013  0.307362     19709   20  0.553365   \n19716      3.933546   2.669708  0.906650  0.255368     19716   21  0.427399   \n19911      3.990495   2.708360  0.919777  0.261145     19911   21  0.440328   \n19955      3.595897   4.009290  0.828825  0.260456     19955   21  0.437896   \n19958      3.760394   2.552190  0.866740  0.243696     19958   21  0.421531   \n19959      4.003731   2.717343  0.922828  0.263581     19959   21  0.444435   \n19990      3.924487   2.663560  0.904562  0.260479     19990   21  0.432815   \n20039      4.019969   2.728364  0.915489  0.263859     20039   20  0.444905   \n20123     10.741893   9.010246  1.592406  0.294339     20123   20  0.541845   \n20367      4.026653   2.732900  0.917011  0.265090     20367   20  0.446979   \n20373      4.026653   2.732900  0.917011  0.265090     20373   20  0.446979   \n20468      4.003731   2.717343  0.922828  0.263581     20468   21  0.444435   \n20632      4.042853   2.743895  0.909683  0.265361     20632   19  0.447437   \n21032      4.003731   2.717343  0.922828  0.263581     21032   21  0.444435   \n\n               OBP       OPS  \nplayerid                      \n15166     0.325170  0.755556  \n15722     0.320987  0.717343  \n17303     0.335467  0.779902  \n18383     0.290027  0.657772  \n18401     0.373514  0.908745  \n18694     0.332858  0.775424  \n19611     0.350622  0.804169  \n19612     0.354336  0.872513  \n19709     0.375142  0.928508  \n19716     0.324941  0.752339  \n19911     0.332695  0.773023  \n19955     0.331404  0.769300  \n19958     0.317824  0.739354  \n19959     0.335467  0.779902  \n19990     0.329641  0.762456  \n20039     0.335988  0.780893  \n20123     0.407873  0.949718  \n20367     0.337388  0.784367  \n20373     0.337388  0.784367  \n20468     0.335467  0.779902  \n20632     0.337900  0.785338  \n21032     0.335467  0.779902  \n\n[22 rows x 28 columns]",
      "text/html": "<div>\n<style scoped>\n    .dataframe tbody tr th:only-of-type {\n        vertical-align: middle;\n    }\n\n    .dataframe tbody tr th {\n        vertical-align: top;\n    }\n\n    .dataframe thead th {\n        text-align: right;\n    }\n</style>\n<table border=\"1\" class=\"dataframe\">\n  <thead>\n    <tr style=\"text-align: right;\">\n      <th></th>\n      <th>Season</th>\n      <th>Name</th>\n      <th>Team</th>\n      <th>G</th>\n      <th>AB</th>\n      <th>PA</th>\n      <th>H</th>\n      <th>1B</th>\n      <th>2B</th>\n      <th>3B</th>\n      <th>...</th>\n      <th>SH</th>\n      <th>GDP</th>\n      <th>SB</th>\n      <th>CS</th>\n      <th>AVG</th>\n      <th>playerid</th>\n      <th>Age</th>\n      <th>SLG</th>\n      <th>OBP</th>\n      <th>OPS</th>\n    </tr>\n    <tr>\n      <th>playerid</th>\n      <th></th>\n      <th></th>\n      <th></th>\n      <th></th>\n      <th></th>\n      <th></th>\n      <th></th>\n      <th></th>\n      <th></th>\n      <th></th>\n      <th></th>\n      <th></th>\n      <th></th>\n      <th></th>\n      <th></th>\n      <th></th>\n      <th></th>\n      <th></th>\n      <th></th>\n      <th></th>\n      <th></th>\n    </tr>\n  </thead>\n  <tbody>\n    <tr>\n      <th>15166</th>\n      <td>2020</td>\n      <td>Luiz Gohara</td>\n      <td>Braves</td>\n      <td>86.832992</td>\n      <td>179.052750</td>\n      <td>200.2</td>\n      <td>45.702983</td>\n      <td>28.818242</td>\n      <td>9.205165</td>\n      <td>0.885038</td>\n      <td>...</td>\n      <td>1.416946</td>\n      <td>4.393142</td>\n      <td>2.636569</td>\n      <td>0.895396</td>\n      <td>0.255249</td>\n      <td>15166</td>\n      <td>21</td>\n      <td>0.430386</td>\n      <td>0.325170</td>\n      <td>0.755556</td>\n    </tr>\n    <tr>\n      <th>15722</th>\n      <td>2020</td>\n      <td>Allen Cordoba</td>\n      <td>Padres</td>\n      <td>84.839049</td>\n      <td>178.440116</td>\n      <td>200.0</td>\n      <td>44.090042</td>\n      <td>30.313951</td>\n      <td>6.721005</td>\n      <td>1.250495</td>\n      <td>...</td>\n      <td>0.597356</td>\n      <td>3.222795</td>\n      <td>2.402132</td>\n      <td>1.196062</td>\n      <td>0.247086</td>\n      <td>15722</td>\n      <td>21</td>\n      <td>0.396356</td>\n      <td>0.320987</td>\n      <td>0.717343</td>\n    </tr>\n    <tr>\n      <th>17303</th>\n      <td>2020</td>\n      <td>Francis Martes</td>\n      <td>Astros</td>\n      <td>97.353210</td>\n      <td>178.704883</td>\n      <td>200.0</td>\n      <td>47.103141</td>\n      <td>29.701118</td>\n      <td>9.487175</td>\n      <td>0.912152</td>\n      <td>...</td>\n      <td>0.936355</td>\n      <td>4.003731</td>\n      <td>2.717343</td>\n      <td>0.922828</td>\n      <td>0.263581</td>\n      <td>17303</td>\n      <td>21</td>\n      <td>0.444435</td>\n      <td>0.335467</td>\n      <td>0.779902</td>\n    </tr>\n    <tr>\n      <th>18383</th>\n      <td>2020</td>\n      <td>Mike Soroka</td>\n      <td>Braves</td>\n      <td>98.570770</td>\n      <td>204.854858</td>\n      <td>232.3</td>\n      <td>46.215363</td>\n      <td>30.536670</td>\n      <td>8.547657</td>\n      <td>0.821821</td>\n      <td>...</td>\n      <td>6.351555</td>\n      <td>4.394086</td>\n      <td>2.448243</td>\n      <td>0.831440</td>\n      <td>0.225601</td>\n      <td>18383</td>\n      <td>21</td>\n      <td>0.367745</td>\n      <td>0.290027</td>\n      <td>0.657772</td>\n    </tr>\n    <tr>\n      <th>18401</th>\n      <td>2020</td>\n      <td>Ronald Acuna Jr.</td>\n      <td>Braves</td>\n      <td>159.260566</td>\n      <td>535.078060</td>\n      <td>606.2</td>\n      <td>156.171371</td>\n      <td>94.878344</td>\n      <td>25.354818</td>\n      <td>2.950382</td>\n      <td>...</td>\n      <td>0.506576</td>\n      <td>7.457836</td>\n      <td>24.999646</td>\n      <td>6.078858</td>\n      <td>0.291867</td>\n      <td>18401</td>\n      <td>21</td>\n      <td>0.535231</td>\n      <td>0.373514</td>\n      <td>0.908745</td>\n    </tr>\n    <tr>\n      <th>18694</th>\n      <td>2020</td>\n      <td>Kolby Allard</td>\n      <td>Rangers</td>\n      <td>89.489094</td>\n      <td>178.934498</td>\n      <td>201.3</td>\n      <td>47.246336</td>\n      <td>30.046530</td>\n      <td>9.376931</td>\n      <td>0.901552</td>\n      <td>...</td>\n      <td>2.306570</td>\n      <td>3.957206</td>\n      <td>2.685766</td>\n      <td>0.912104</td>\n      <td>0.264043</td>\n      <td>18694</td>\n      <td>21</td>\n      <td>0.442566</td>\n      <td>0.332858</td>\n      <td>0.775424</td>\n    </tr>\n    <tr>\n      <th>19611</th>\n      <td>2020</td>\n      <td>Vladimir Guerrero Jr.</td>\n      <td>Blue Jays</td>\n      <td>137.522992</td>\n      <td>411.206575</td>\n      <td>457.0</td>\n      <td>114.947851</td>\n      <td>74.748832</td>\n      <td>23.549313</td>\n      <td>1.944886</td>\n      <td>...</td>\n      <td>0.684930</td>\n      <td>13.788783</td>\n      <td>1.987695</td>\n      <td>1.240333</td>\n      <td>0.279538</td>\n      <td>19611</td>\n      <td>20</td>\n      <td>0.453547</td>\n      <td>0.350622</td>\n      <td>0.804169</td>\n    </tr>\n    <tr>\n      <th>19612</th>\n      <td>2020</td>\n      <td>Bo Bichette</td>\n      <td>Blue Jays</td>\n      <td>98.102958</td>\n      <td>277.868214</td>\n      <td>306.0</td>\n      <td>81.544782</td>\n      <td>46.832448</td>\n      <td>20.478041</td>\n      <td>0.741022</td>\n      <td>...</td>\n      <td>0.760685</td>\n      <td>4.671562</td>\n      <td>5.045487</td>\n      <td>3.327678</td>\n      <td>0.293466</td>\n      <td>19612</td>\n      <td>21</td>\n      <td>0.518176</td>\n      <td>0.354336</td>\n      <td>0.872513</td>\n    </tr>\n    <tr>\n      <th>19709</th>\n      <td>2020</td>\n      <td>Fernando Tatis Jr.</td>\n      <td>Padres</td>\n      <td>117.182467</td>\n      <td>345.915199</td>\n      <td>386.0</td>\n      <td>106.321163</td>\n      <td>65.818926</td>\n      <td>15.863710</td>\n      <td>4.682993</td>\n      <td>...</td>\n      <td>0.712750</td>\n      <td>5.706734</td>\n      <td>12.704875</td>\n      <td>4.274013</td>\n      <td>0.307362</td>\n      <td>19709</td>\n      <td>20</td>\n      <td>0.553365</td>\n      <td>0.375142</td>\n      <td>0.928508</td>\n    </tr>\n    <tr>\n      <th>19716</th>\n      <td>2020</td>\n      <td>Dustin May</td>\n      <td>Dodgers</td>\n      <td>91.184896</td>\n      <td>184.578183</td>\n      <td>205.5</td>\n      <td>47.135452</td>\n      <td>30.038485</td>\n      <td>9.320866</td>\n      <td>0.896162</td>\n      <td>...</td>\n      <td>0.919941</td>\n      <td>3.933546</td>\n      <td>2.669708</td>\n      <td>0.906650</td>\n      <td>0.255368</td>\n      <td>19716</td>\n      <td>21</td>\n      <td>0.427399</td>\n      <td>0.324941</td>\n      <td>0.752339</td>\n    </tr>\n    <tr>\n      <th>19911</th>\n      <td>2020</td>\n      <td>Jose Suarez</td>\n      <td>Angels</td>\n      <td>96.857292</td>\n      <td>179.775280</td>\n      <td>201.0</td>\n      <td>46.947428</td>\n      <td>29.602933</td>\n      <td>9.455813</td>\n      <td>0.909136</td>\n      <td>...</td>\n      <td>0.933260</td>\n      <td>3.990495</td>\n      <td>2.708360</td>\n      <td>0.919777</td>\n      <td>0.261145</td>\n      <td>19911</td>\n      <td>21</td>\n      <td>0.440328</td>\n      <td>0.332695</td>\n      <td>0.773023</td>\n    </tr>\n    <tr>\n      <th>19955</th>\n      <td>2020</td>\n      <td>Gavin Lux</td>\n      <td>Dodgers</td>\n      <td>90.417102</td>\n      <td>216.634944</td>\n      <td>241.0</td>\n      <td>56.423765</td>\n      <td>35.303762</td>\n      <td>11.658270</td>\n      <td>1.603609</td>\n      <td>...</td>\n      <td>0.840975</td>\n      <td>3.595897</td>\n      <td>4.009290</td>\n      <td>0.828825</td>\n      <td>0.260456</td>\n      <td>19955</td>\n      <td>21</td>\n      <td>0.437896</td>\n      <td>0.331404</td>\n      <td>0.769300</td>\n    </tr>\n    <tr>\n      <th>19958</th>\n      <td>2020</td>\n      <td>Carter Kieboom</td>\n      <td>Nationals</td>\n      <td>84.710250</td>\n      <td>198.368402</td>\n      <td>221.5</td>\n      <td>48.341607</td>\n      <td>30.356725</td>\n      <td>8.910569</td>\n      <td>0.856713</td>\n      <td>...</td>\n      <td>0.879446</td>\n      <td>3.760394</td>\n      <td>2.552190</td>\n      <td>0.866740</td>\n      <td>0.243696</td>\n      <td>19958</td>\n      <td>21</td>\n      <td>0.421531</td>\n      <td>0.317824</td>\n      <td>0.739354</td>\n    </tr>\n    <tr>\n      <th>19959</th>\n      <td>2020</td>\n      <td>Jesus Luzardo</td>\n      <td>Athletics</td>\n      <td>85.825210</td>\n      <td>178.704883</td>\n      <td>200.0</td>\n      <td>47.103141</td>\n      <td>29.701118</td>\n      <td>9.487175</td>\n      <td>0.912152</td>\n      <td>...</td>\n      <td>0.936355</td>\n      <td>4.003731</td>\n      <td>2.717343</td>\n      <td>0.922828</td>\n      <td>0.263581</td>\n      <td>19959</td>\n      <td>21</td>\n      <td>0.444435</td>\n      <td>0.335467</td>\n      <td>0.779902</td>\n    </tr>\n    <tr>\n      <th>19990</th>\n      <td>2020</td>\n      <td>Bryse Wilson</td>\n      <td>Braves</td>\n      <td>86.181030</td>\n      <td>183.826366</td>\n      <td>204.7</td>\n      <td>47.882948</td>\n      <td>30.825355</td>\n      <td>9.299400</td>\n      <td>0.894098</td>\n      <td>...</td>\n      <td>0.917822</td>\n      <td>3.924487</td>\n      <td>2.663560</td>\n      <td>0.904562</td>\n      <td>0.260479</td>\n      <td>19990</td>\n      <td>21</td>\n      <td>0.432815</td>\n      <td>0.329641</td>\n      <td>0.762456</td>\n    </tr>\n    <tr>\n      <th>20039</th>\n      <td>2020</td>\n      <td>Adrian Morejon</td>\n      <td>Padres</td>\n      <td>85.296436</td>\n      <td>179.240227</td>\n      <td>200.5</td>\n      <td>47.294188</td>\n      <td>29.821584</td>\n      <td>9.525655</td>\n      <td>0.915851</td>\n      <td>...</td>\n      <td>0.940153</td>\n      <td>4.019969</td>\n      <td>2.728364</td>\n      <td>0.915489</td>\n      <td>0.263859</td>\n      <td>20039</td>\n      <td>20</td>\n      <td>0.444905</td>\n      <td>0.335988</td>\n      <td>0.780893</td>\n    </tr>\n    <tr>\n      <th>20123</th>\n      <td>2020</td>\n      <td>Juan Soto</td>\n      <td>Nationals</td>\n      <td>157.972824</td>\n      <td>486.507640</td>\n      <td>578.9</td>\n      <td>143.198165</td>\n      <td>82.226431</td>\n      <td>29.637331</td>\n      <td>3.226868</td>\n      <td>...</td>\n      <td>0.882645</td>\n      <td>10.741893</td>\n      <td>9.010246</td>\n      <td>1.592406</td>\n      <td>0.294339</td>\n      <td>20123</td>\n      <td>20</td>\n      <td>0.541845</td>\n      <td>0.407873</td>\n      <td>0.949718</td>\n    </tr>\n    <tr>\n      <th>20367</th>\n      <td>2020</td>\n      <td>Brusdar Graterol</td>\n      <td>Twins</td>\n      <td>89.829909</td>\n      <td>178.704883</td>\n      <td>200.0</td>\n      <td>47.372815</td>\n      <td>29.871163</td>\n      <td>9.541491</td>\n      <td>0.917374</td>\n      <td>...</td>\n      <td>0.941716</td>\n      <td>4.026653</td>\n      <td>2.732900</td>\n      <td>0.917011</td>\n      <td>0.265090</td>\n      <td>20367</td>\n      <td>20</td>\n      <td>0.446979</td>\n      <td>0.337388</td>\n      <td>0.784367</td>\n    </tr>\n    <tr>\n      <th>20373</th>\n      <td>2020</td>\n      <td>Andres Munoz</td>\n      <td>Padres</td>\n      <td>100.369909</td>\n      <td>178.704883</td>\n      <td>200.0</td>\n      <td>47.372815</td>\n      <td>29.871163</td>\n      <td>9.541491</td>\n      <td>0.917374</td>\n      <td>...</td>\n      <td>0.941716</td>\n      <td>4.026653</td>\n      <td>2.732900</td>\n      <td>0.917011</td>\n      <td>0.265090</td>\n      <td>20373</td>\n      <td>20</td>\n      <td>0.446979</td>\n      <td>0.337388</td>\n      <td>0.784367</td>\n    </tr>\n    <tr>\n      <th>20468</th>\n      <td>2020</td>\n      <td>Huascar Ynoa</td>\n      <td>Braves</td>\n      <td>82.331877</td>\n      <td>178.704883</td>\n      <td>200.0</td>\n      <td>47.103141</td>\n      <td>29.701118</td>\n      <td>9.487175</td>\n      <td>0.912152</td>\n      <td>...</td>\n      <td>0.936355</td>\n      <td>4.003731</td>\n      <td>2.717343</td>\n      <td>0.922828</td>\n      <td>0.263581</td>\n      <td>20468</td>\n      <td>21</td>\n      <td>0.444435</td>\n      <td>0.335467</td>\n      <td>0.779902</td>\n    </tr>\n    <tr>\n      <th>20632</th>\n      <td>2020</td>\n      <td>Elvis Luciano</td>\n      <td>Blue Jays</td>\n      <td>103.419339</td>\n      <td>179.240227</td>\n      <td>200.5</td>\n      <td>47.563415</td>\n      <td>29.991346</td>\n      <td>9.579880</td>\n      <td>0.921065</td>\n      <td>...</td>\n      <td>0.945505</td>\n      <td>4.042853</td>\n      <td>2.743895</td>\n      <td>0.909683</td>\n      <td>0.265361</td>\n      <td>20632</td>\n      <td>19</td>\n      <td>0.447437</td>\n      <td>0.337900</td>\n      <td>0.785338</td>\n    </tr>\n    <tr>\n      <th>21032</th>\n      <td>2020</td>\n      <td>Emmanuel Clase</td>\n      <td>Rangers</td>\n      <td>98.925210</td>\n      <td>178.704883</td>\n      <td>200.0</td>\n      <td>47.103141</td>\n      <td>29.701118</td>\n      <td>9.487175</td>\n      <td>0.912152</td>\n      <td>...</td>\n      <td>0.936355</td>\n      <td>4.003731</td>\n      <td>2.717343</td>\n      <td>0.922828</td>\n      <td>0.263581</td>\n      <td>21032</td>\n      <td>21</td>\n      <td>0.444435</td>\n      <td>0.335467</td>\n      <td>0.779902</td>\n    </tr>\n  </tbody>\n</table>\n<p>22 rows × 28 columns</p>\n</div>"
     },
     "metadata": {},
     "execution_count": 55
    }
   ],
   "source": [
    "#prorating = marcel._hit_step4_prorating(2020).sort_values(by='PA')\n",
    "hitters[(hitters['Age'] <= 21)]"
   ]
  },
  {
   "cell_type": "code",
   "execution_count": 67,
   "metadata": {},
   "outputs": [],
   "source": [
    "marcel.pitchers.columns\n",
    "marcel.pitchers.head()\n",
    "pitchers = marcel.project_pitchers(2020)"
   ]
  },
  {
   "cell_type": "code",
   "execution_count": 71,
   "metadata": {},
   "outputs": [
    {
     "output_type": "execute_result",
     "data": {
      "text/plain": "          Season            Name       Team          W         L       ERA  \\\nplayerid                                                                     \n10954       2020    Jacob deGrom       Mets  10.012988  8.196679  2.737249   \n3137        2020    Max Scherzer  Nationals  11.548285  6.700379  3.075129   \n10603       2020      Chris Sale    Red Sox   8.359265  7.283785  3.568887   \n9073        2020     Kirby Yates     Padres   2.814628  4.023649  3.033176   \n12076       2020  Felipe Vazquez    Pirates   4.065949  2.334462  2.959649   \n\n                  G         GS        CG       ShO  ...       IBB       HBP  \\\nplayerid                                            ...                       \n10954     39.165321  26.605633  0.395765  0.018495  ...  2.346681  5.485440   \n3137      36.054063  24.014015  0.723432  0.247091  ...  2.478951  8.071997   \n10603     33.279113  21.530452  0.482114  0.353016  ...  0.628474  9.828831   \n9073      48.179858   2.975693  0.029212  0.014651  ...  1.006092  4.178694   \n12076     48.139364   2.921473  0.028679  0.014384  ...  0.894716  2.752931   \n\n                WP        BK          SO  playerid  Age       FIP        K/9  \\\nplayerid                                                                       \n10954     3.435418  0.118150  216.594545     10954   31  2.831456  10.611600   \n3137      2.719879  0.342623  213.940684      3137   34  2.845307  11.515465   \n10603     3.213580  0.110521  190.746269     10603   30  2.900242  12.229447   \n9073      2.058121  0.188368   79.562796      9073   32  2.929435  11.662299   \n12076     2.671923  0.184935   74.856570     12076   27  3.012785  10.866276   \n\n              BB/9  \nplayerid            \n10954     2.284522  \n3137      2.277987  \n10603     2.339531  \n9073      2.745746  \n12076     2.757612  \n\n[5 rows x 30 columns]",
      "text/html": "<div>\n<style scoped>\n    .dataframe tbody tr th:only-of-type {\n        vertical-align: middle;\n    }\n\n    .dataframe tbody tr th {\n        vertical-align: top;\n    }\n\n    .dataframe thead th {\n        text-align: right;\n    }\n</style>\n<table border=\"1\" class=\"dataframe\">\n  <thead>\n    <tr style=\"text-align: right;\">\n      <th></th>\n      <th>Season</th>\n      <th>Name</th>\n      <th>Team</th>\n      <th>W</th>\n      <th>L</th>\n      <th>ERA</th>\n      <th>G</th>\n      <th>GS</th>\n      <th>CG</th>\n      <th>ShO</th>\n      <th>...</th>\n      <th>IBB</th>\n      <th>HBP</th>\n      <th>WP</th>\n      <th>BK</th>\n      <th>SO</th>\n      <th>playerid</th>\n      <th>Age</th>\n      <th>FIP</th>\n      <th>K/9</th>\n      <th>BB/9</th>\n    </tr>\n    <tr>\n      <th>playerid</th>\n      <th></th>\n      <th></th>\n      <th></th>\n      <th></th>\n      <th></th>\n      <th></th>\n      <th></th>\n      <th></th>\n      <th></th>\n      <th></th>\n      <th></th>\n      <th></th>\n      <th></th>\n      <th></th>\n      <th></th>\n      <th></th>\n      <th></th>\n      <th></th>\n      <th></th>\n      <th></th>\n      <th></th>\n    </tr>\n  </thead>\n  <tbody>\n    <tr>\n      <th>10954</th>\n      <td>2020</td>\n      <td>Jacob deGrom</td>\n      <td>Mets</td>\n      <td>10.012988</td>\n      <td>8.196679</td>\n      <td>2.737249</td>\n      <td>39.165321</td>\n      <td>26.605633</td>\n      <td>0.395765</td>\n      <td>0.018495</td>\n      <td>...</td>\n      <td>2.346681</td>\n      <td>5.485440</td>\n      <td>3.435418</td>\n      <td>0.118150</td>\n      <td>216.594545</td>\n      <td>10954</td>\n      <td>31</td>\n      <td>2.831456</td>\n      <td>10.611600</td>\n      <td>2.284522</td>\n    </tr>\n    <tr>\n      <th>3137</th>\n      <td>2020</td>\n      <td>Max Scherzer</td>\n      <td>Nationals</td>\n      <td>11.548285</td>\n      <td>6.700379</td>\n      <td>3.075129</td>\n      <td>36.054063</td>\n      <td>24.014015</td>\n      <td>0.723432</td>\n      <td>0.247091</td>\n      <td>...</td>\n      <td>2.478951</td>\n      <td>8.071997</td>\n      <td>2.719879</td>\n      <td>0.342623</td>\n      <td>213.940684</td>\n      <td>3137</td>\n      <td>34</td>\n      <td>2.845307</td>\n      <td>11.515465</td>\n      <td>2.277987</td>\n    </tr>\n    <tr>\n      <th>10603</th>\n      <td>2020</td>\n      <td>Chris Sale</td>\n      <td>Red Sox</td>\n      <td>8.359265</td>\n      <td>7.283785</td>\n      <td>3.568887</td>\n      <td>33.279113</td>\n      <td>21.530452</td>\n      <td>0.482114</td>\n      <td>0.353016</td>\n      <td>...</td>\n      <td>0.628474</td>\n      <td>9.828831</td>\n      <td>3.213580</td>\n      <td>0.110521</td>\n      <td>190.746269</td>\n      <td>10603</td>\n      <td>30</td>\n      <td>2.900242</td>\n      <td>12.229447</td>\n      <td>2.339531</td>\n    </tr>\n    <tr>\n      <th>9073</th>\n      <td>2020</td>\n      <td>Kirby Yates</td>\n      <td>Padres</td>\n      <td>2.814628</td>\n      <td>4.023649</td>\n      <td>3.033176</td>\n      <td>48.179858</td>\n      <td>2.975693</td>\n      <td>0.029212</td>\n      <td>0.014651</td>\n      <td>...</td>\n      <td>1.006092</td>\n      <td>4.178694</td>\n      <td>2.058121</td>\n      <td>0.188368</td>\n      <td>79.562796</td>\n      <td>9073</td>\n      <td>32</td>\n      <td>2.929435</td>\n      <td>11.662299</td>\n      <td>2.745746</td>\n    </tr>\n    <tr>\n      <th>12076</th>\n      <td>2020</td>\n      <td>Felipe Vazquez</td>\n      <td>Pirates</td>\n      <td>4.065949</td>\n      <td>2.334462</td>\n      <td>2.959649</td>\n      <td>48.139364</td>\n      <td>2.921473</td>\n      <td>0.028679</td>\n      <td>0.014384</td>\n      <td>...</td>\n      <td>0.894716</td>\n      <td>2.752931</td>\n      <td>2.671923</td>\n      <td>0.184935</td>\n      <td>74.856570</td>\n      <td>12076</td>\n      <td>27</td>\n      <td>3.012785</td>\n      <td>10.866276</td>\n      <td>2.757612</td>\n    </tr>\n  </tbody>\n</table>\n<p>5 rows × 30 columns</p>\n</div>"
     },
     "metadata": {},
     "execution_count": 71
    }
   ],
   "source": [
    "pitchers.sort_values(by='FIP', ascending=True).head()"
   ]
  },
  {
   "cell_type": "code",
   "execution_count": 137,
   "metadata": {},
   "outputs": [
    {
     "data": {
      "text/plain": [
       "{'Season': 2018.1666666666667,\n",
       " 'W': 3.0367303071680873,\n",
       " 'L': 3.0367303071680873,\n",
       " 'ERA': 5.847070224491219,\n",
       " 'G': 26.381013513566757,\n",
       " 'GS': 6.073460614336175,\n",
       " 'CG': 0.059621503114338927,\n",
       " 'ShO': 0.02990347444244394,\n",
       " 'SV': 1.5010360504908942,\n",
       " 'HLD': 3.1259730273385693,\n",
       " 'BS': 0.8077962867471701,\n",
       " 'IP': 54.01530616395814,\n",
       " 'TBF': 232.11361310712672,\n",
       " 'H': 52.16922028963712,\n",
       " 'R': 28.267709217301455,\n",
       " 'ER': 26.200651000332446,\n",
       " 'HR': 7.749032043428635,\n",
       " 'BB': 19.755219561851067,\n",
       " 'IBB': 1.086317006102944,\n",
       " 'HBP': 2.380395861422784,\n",
       " 'WP': 2.2663944934634954,\n",
       " 'BK': 0.1910347156856312,\n",
       " 'SO': 51.94216290973079,\n",
       " 'playerid': 11982.895321932285}"
      ]
     },
     "execution_count": 137,
     "metadata": {},
     "output_type": "execute_result"
    }
   ],
   "source": [
    "marcel.expected_mean_pitcher(2020).to_dict()"
   ]
  },
  {
   "cell_type": "code",
   "execution_count": null,
   "metadata": {},
   "outputs": [],
   "source": []
  }
 ],
 "metadata": {
  "kernelspec": {
   "display_name": "Python 3",
   "language": "python",
   "name": "python3"
  },
  "language_info": {
   "codemirror_mode": {
    "name": "ipython",
    "version": 3
   },
   "file_extension": ".py",
   "mimetype": "text/x-python",
   "name": "python",
   "nbconvert_exporter": "python",
   "pygments_lexer": "ipython3",
   "version": "3.8.3-final"
  }
 },
 "nbformat": 4,
 "nbformat_minor": 4
}