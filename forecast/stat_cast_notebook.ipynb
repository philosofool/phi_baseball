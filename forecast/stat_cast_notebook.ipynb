{
 "metadata": {
  "language_info": {
   "codemirror_mode": {
    "name": "ipython",
    "version": 3
   },
   "file_extension": ".py",
   "mimetype": "text/x-python",
   "name": "python",
   "nbconvert_exporter": "python",
   "pygments_lexer": "ipython3",
   "version": "3.8.3-final"
  },
  "orig_nbformat": 2,
  "kernelspec": {
   "name": "python3",
   "display_name": "Python 3"
  }
 },
 "nbformat": 4,
 "nbformat_minor": 2,
 "cells": [
  {
   "cell_type": "markdown",
   "metadata": {},
   "source": [
    "# Whoo hoo statcast\n",
    "\n",
    "Could it get better? Physics data available for me to play with!"
   ]
  },
  {
   "cell_type": "code",
   "execution_count": 1,
   "metadata": {},
   "outputs": [],
   "source": [
    "import pandas as pd \n",
    "import numpy as np\n"
   ]
  },
  {
   "cell_type": "code",
   "execution_count": 3,
   "metadata": {},
   "outputs": [],
   "source": [
    "statcast = pd.read_csv('../data/hitters_statcast_since2016.csv').dropna()\n",
    "statcast['Barrel%'] = statcast['Barrel%'].apply(lambda x: float(x.strip('%')))\n",
    "statcast['HardHit%'] = statcast['HardHit%'].apply(lambda x: float(x.strip('%')))\n",
    "\n",
    "##Introduce a number of physical quantities, very approximate.\n",
    "statcast['cosLA'] = np.cos(statcast['LA']/180*np.pi)\n",
    "statcast['sinLA'] = np.sin(statcast['LA']/180*np.pi)\n",
    "statcast['EV_x'] = statcast['EV']*statcast['cosLA']\n",
    "statcast['EV_y'] = statcast['EV']*statcast['sinLA']\n",
    "acceleration = -32 * 60 * 60 / 5280\n",
    "func = (lambda x: -2 * x / acceleration)\n",
    "statcast['Hangtime'] = func(statcast['EV_y'])\n",
    "statcast['Distance'] = statcast['Hangtime']*statcast['EV_x']\n",
    "\n",
    "standard = pd.read_csv('../data/hitters_since_1947.csv')\n",
    "standard = standard[standard['Season'] >= 2016]\n",
    "\n",
    "statcast_cols = statcast.select_dtypes(exclude = 'object').drop(['playerid','Season'], axis = 1).columns \n",
    "standard_cols = standard.select_dtypes(exclude = 'object').drop(['playerid','Season'], axis = 1).columns\n",
    "\n",
    "df = pd.merge(statcast, standard.select_dtypes(exclude='object'), on = ['playerid','Season'], how = 'left').dropna()"
   ]
  },
  {
   "cell_type": "code",
   "execution_count": 196,
   "metadata": {
    "tags": []
   },
   "outputs": [
    {
     "output_type": "execute_result",
     "data": {
      "text/plain": "Index(['G', 'AB', 'PA', 'H', '1B', '2B', '3B', 'HR', 'R', 'RBI', 'BB', 'IBB',\n       'SO', 'HBP', 'SF', 'SH', 'GDP', 'SB', 'CS', 'AVG'],\n      dtype='object')"
     },
     "metadata": {},
     "execution_count": 196
    }
   ],
   "source": []
  },
  {
   "cell_type": "code",
   "execution_count": 4,
   "metadata": {},
   "outputs": [],
   "source": [
    "def multiseason_lines(df, stats, num_seasons):\n",
    "    \"\"\"\n",
    "    Adds columns to rows in a DataFrame for previous seasons; useful for making past seasons features\n",
    "    in ML applicaitons.\n",
    "\n",
    "    Parameters\n",
    "    ----------\n",
    "    df: DataFrame\n",
    "        A DataFrame that includes multiple seasons of player data in separate rows.\n",
    "        The DataFrame must include a unique 'playerid' column (per Fangraphs) and \n",
    "        the seasons must be labeled 'Season' with int-type data.\n",
    "    stats: list-like\n",
    "        The stats to include from previous seasons.\n",
    "\n",
    "    num_seasons: int\n",
    "        The number of past seasons to include as past stats.\n",
    "\n",
    "    Returns\n",
    "    -------\n",
    "        A DataFrame with the columns from df and additional columns from stats\n",
    "        labeled with suffixes '_1', '_2'...'_x' for the past season's stats.\n",
    "    \"\"\"\n",
    "    out = df.copy()\n",
    "    for n in range(num_seasons):\n",
    "        df1 = df.copy()\n",
    "        df1['Season'] = df1['Season'] + 1 + n\n",
    "        out = pd.merge(out, df1[stats], how = 'left', on=['playerid','Season'],\n",
    "            suffixes=(\"\",\"_\"+str(1+n)))\n",
    "    return out\n",
    "\n"
   ]
  },
  {
   "cell_type": "code",
   "execution_count": 5,
   "metadata": {},
   "outputs": [
    {
     "output_type": "execute_result",
     "data": {
      "text/plain": "0       3\n1       1\n2       1\n3       2\n4       2\n       ..\n4034    1\n4035    1\n4036    1\n4037    1\n4038    1\nName: Events, Length: 3561, dtype: int64"
     },
     "metadata": {},
     "execution_count": 5
    }
   ],
   "source": [
    "df['Events']"
   ]
  },
  {
   "cell_type": "code",
   "execution_count": 6,
   "metadata": {},
   "outputs": [],
   "source": [
    "stats = df.select_dtypes(exclude='object').columns\n",
    "df = multiseason_lines(df,stats,1).dropna()\n",
    "df = df[(df['Events']>70) & (df['Events_1']>70)]"
   ]
  },
  {
   "cell_type": "code",
   "execution_count": 7,
   "metadata": {},
   "outputs": [
    {
     "output_type": "execute_result",
     "data": {
      "text/plain": "87"
     },
     "metadata": {},
     "execution_count": 7
    }
   ],
   "source": [
    "correlations = df.corr()\n",
    "df['PA_x'].min()"
   ]
  },
  {
   "cell_type": "code",
   "execution_count": 50,
   "metadata": {},
   "outputs": [],
   "source": [
    "from sklearn.linear_model import LinearRegression\n",
    "from sklearn.model_selection import train_test_split\n",
    "\n",
    "target = df['HR']/df['Events']\n",
    "data = df[[ x for x in df.select_dtypes(exclude='object').columns if x.endswith(\"_1\")]]\n",
    "X_train, X_test, y_train, y_test = train_test_split(data, target)"
   ]
  },
  {
   "cell_type": "code",
   "execution_count": 52,
   "metadata": {
    "tags": []
   },
   "outputs": [
    {
     "output_type": "stream",
     "name": "stdout",
     "text": "PA_x_1: -0.67\nEvents_1: -0.92\nEV_1: 0.07\nmaxEV_1: 0.05\nLA_1: -0.23\nBarrels_1: 0.07\nBarrel%_1: 0.33\nHardHit_1: -0.46\nHardHit%_1: 0.12\ncosLA_1: -1.76\nsinLA_1: -0.24\nEV_x_1: -0.51\nEV_y_1: -0.17\nHangtime_1: -0.17\nDistance_1: -0.11\nG_1: -0.73\nAB_1: -0.72\nPA_y_1: -0.67\nH_1: -0.81\n1B_1: -1.14\n2B_1: -0.69\n3B_1: -1.19\nHR_1: -0.02\nR_1: -0.57\nRBI_1: -0.32\nBB_1: -0.42\nIBB_1: -0.62\nSO_1: -0.19\nHBP_1: -0.79\nSF_1: -0.82\nSH_1: -1.64\nGDP_1: -0.86\nSB_1: -1.29\nCS_1: -1.30\nAVG_1: -1.19\n"
    }
   ],
   "source": [
    "from sklearn.metrics import r2_score\n",
    "from sklearn.preprocessing import StandardScaler\n",
    "\n",
    "scaler = StandardScaler()\n",
    "for e in data.columns:\n",
    "    x = scaler.fit_transform(target.to_frame())\n",
    "    y = scaler.fit_transform(data[e].to_frame())\n",
    "    print(\"{}: {:.2f}\".format(e, r2_score(x,y)))"
   ]
  },
  {
   "cell_type": "markdown",
   "metadata": {},
   "source": [
    "# Estblishing a Baseline\n",
    "\n",
    "Any decent information we get should improve on using a simple linear regression of a previous season's HR total.\n",
    "So, we findout how that scores.\n"
   ]
  },
  {
   "cell_type": "code",
   "execution_count": 53,
   "metadata": {
    "tags": []
   },
   "outputs": [
    {
     "output_type": "stream",
     "name": "stdout",
     "text": "0.2674801009709844 0.158082159316845\n"
    }
   ],
   "source": [
    "linear = LinearRegression().fit(X_train['HR_1'].to_frame(), y_train)\n",
    "\n",
    "print(linear.score(X_train['HR_1'].to_frame(), y_train),\n",
    "    linear.score(X_test['HR_1'].to_frame(), y_test)) ##rough result: .35 and .39 (!)"
   ]
  },
  {
   "cell_type": "code",
   "execution_count": 56,
   "metadata": {
    "tags": []
   },
   "outputs": [
    {
     "output_type": "stream",
     "name": "stdout",
     "text": "0.5290183360492855 0.4168192840454249\n0.4912840921324404 0.43239241175752063\n"
    }
   ],
   "source": [
    "from sklearn.linear_model import Lasso\n",
    "\n",
    "lasso = Lasso(alpha = .01).fit(X_train,y_train)\n",
    "#cols = ['maxEV_1', 'Barrels_1', 'HardHit_1','HardHit%_1']\n",
    "linear.fit(X_train,y_train)\n",
    "print(linear.score(X_train, y_train),\n",
    "    linear.score(X_test, y_test))\n",
    "print(lasso.score(X_train, y_train),\n",
    "    lasso.score(X_test,y_test))"
   ]
  },
  {
   "cell_type": "code",
   "execution_count": 57,
   "metadata": {
    "tags": []
   },
   "outputs": [
    {
     "output_type": "stream",
     "name": "stdout",
     "text": "-0.05604306913010315\n"
    },
    {
     "output_type": "execute_result",
     "data": {
      "text/plain": "[('PA_x_1', 0.0),\n ('Events_1', -5.397609953416596e-05),\n ('EV_1', 0.0),\n ('maxEV_1', 0.0005152190149085961),\n ('LA_1', -0.0),\n ('Barrels_1', 0.00035294536247633927),\n ('Barrel%_1', 0.0),\n ('HardHit_1', 0.0),\n ('HardHit%_1', 0.0007021854367475714),\n ('cosLA_1', 0.0),\n ('sinLA_1', -0.0),\n ('EV_x_1', 0.0),\n ('EV_y_1', 0.0),\n ('Hangtime_1', 0.0),\n ('Distance_1', 0.0001256171449374855),\n ('G_1', -0.0),\n ('AB_1', 0.0),\n ('PA_y_1', 0.0),\n ('H_1', -0.0),\n ('1B_1', -2.5119933737901395e-05),\n ('2B_1', 0.0),\n ('3B_1', -0.0),\n ('HR_1', 0.0),\n ('R_1', 0.0),\n ('RBI_1', 8.259670003708295e-05),\n ('BB_1', 4.387571330121394e-05),\n ('IBB_1', 0.0),\n ('SO_1', 0.00011921598636100388),\n ('HBP_1', -0.0),\n ('SF_1', -0.0),\n ('SH_1', -0.0),\n ('GDP_1', 0.0),\n ('SB_1', -0.0),\n ('CS_1', -0.0),\n ('AVG_1', -0.0)]"
     },
     "metadata": {},
     "execution_count": 57
    }
   ],
   "source": [
    "print(lasso.intercept_)\n",
    "list(zip(X_train.columns,lasso.coef_))\n",
    "#data.columns"
   ]
  },
  {
   "cell_type": "markdown",
   "metadata": {},
   "source": [
    "## Hmmm...\n",
    "\n",
    "The above cell show some of the usual linear regression perversion: R_1 and RBI_1 have non-zero coefs while HR_1 is 0!\n",
    "\n",
    "Let's try a minimal set of features."
   ]
  },
  {
   "cell_type": "code",
   "execution_count": 58,
   "metadata": {
    "tags": []
   },
   "outputs": [
    {
     "output_type": "stream",
     "name": "stdout",
     "text": "['EV_1', 'maxEV_1', 'LA_1', 'Barrels_1', 'Barrel%_1', 'HardHit_1', 'HardHit%_1', 'cosLA_1', 'sinLA_1', 'EV_x_1', 'EV_y_1', 'Hangtime_1', 'Distance_1']\n"
    }
   ],
   "source": [
    "physical_data = [x+'_1' for x in statcast_cols if x not in ['PA','Events']]\n",
    "minimal = physical_data + ['HR_1']\n",
    "print(physical_data)"
   ]
  },
  {
   "cell_type": "code",
   "execution_count": 60,
   "metadata": {
    "tags": []
   },
   "outputs": [
    {
     "output_type": "stream",
     "name": "stdout",
     "text": "0.45641209375597713 0.40039136410436127\n0.2619294790412363 0.20106895116110235\n0.0 -0.0011264423226786668\n0.0 -0.0011264423226786668\n"
    }
   ],
   "source": [
    "linear.fit(X_train[minimal], y_train)\n",
    "linear.score(X_test[minimal],y_test)\n",
    "\n",
    "for i in [.02,.1,1,10]:\n",
    "    lasso.alpha = i\n",
    "    lasso.fit(X_train[minimal],y_train)\n",
    "    print(lasso.score(X_train[minimal],y_train),lasso.score(X_test[minimal],y_test))\n"
   ]
  },
  {
   "cell_type": "code",
   "execution_count": 61,
   "metadata": {
    "tags": []
   },
   "outputs": [
    {
     "output_type": "stream",
     "name": "stdout",
     "text": "0.04892412034495372\n"
    },
    {
     "output_type": "execute_result",
     "data": {
      "text/plain": "[('EV_1', 0.0),\n ('maxEV_1', 0.0),\n ('LA_1', 0.0),\n ('Barrels_1', 0.0),\n ('Barrel%_1', 0.0),\n ('HardHit_1', 0.0),\n ('HardHit%_1', 0.0),\n ('cosLA_1', -0.0),\n ('sinLA_1', 0.0),\n ('EV_x_1', 0.0),\n ('EV_y_1', 0.0),\n ('Hangtime_1', 0.0),\n ('Distance_1', 0.0),\n ('HR_1', 0.0)]"
     },
     "metadata": {},
     "execution_count": 61
    }
   ],
   "source": [
    "print(lasso.intercept_)\n",
    "lasso.coef_\n",
    "list(zip(minimal,lasso.coef_))"
   ]
  },
  {
   "cell_type": "code",
   "execution_count": 68,
   "metadata": {},
   "outputs": [
    {
     "output_type": "execute_result",
     "data": {
      "text/plain": "0.46074970953739347"
     },
     "metadata": {},
     "execution_count": 68
    }
   ],
   "source": [
    "from sklearn.preprocessing import PolynomialFeatures\n",
    "from sklearn.pipeline import Pipeline\n",
    "\n",
    "lasso_pipe = Pipeline(\n",
    "    steps=[('scaler',scaler),\n",
    "        #('poly',PolynomialFeatures(degree=2)),\n",
    "        ('lasso',lasso)\n",
    "    ]\n",
    "\n",
    ")\n",
    "\n",
    "lasso.alpha = .001\n",
    "lasso_pipe.fit(X_train[minimal],y_train)\n",
    "lasso_pipe.score(X_test[minimal],y_test)"
   ]
  },
  {
   "cell_type": "code",
   "execution_count": 73,
   "metadata": {
    "tags": []
   },
   "outputs": [
    {
     "output_type": "execute_result",
     "data": {
      "text/plain": "0.4228787956483231"
     },
     "metadata": {},
     "execution_count": 73
    }
   ],
   "source": [
    "from sklearn.neighbors import KNeighborsRegressor\n",
    "\n",
    "knn = KNeighborsRegressor(n_neighbors=25)\n",
    "knn_pipe = Pipeline(\n",
    "    steps=[('scaler',scaler),\n",
    "        #('poly',PolynomialFeatures(degree=2)),\n",
    "        ('knn_reg',knn)\n",
    "    ]\n",
    ")\n",
    "knn_pipe.fit(X_train[minimal],y_train)\n",
    "knn_pipe.score(X_test[minimal],y_test)"
   ]
  },
  {
   "cell_type": "code",
   "execution_count": 84,
   "metadata": {},
   "outputs": [
    {
     "output_type": "execute_result",
     "data": {
      "text/plain": "-0.8717217302246587"
     },
     "metadata": {},
     "execution_count": 84
    }
   ],
   "source": [
    "from sklearn.svm import SVR\n",
    "from sklearn.model_selection import GridSearchCV\n",
    "\n",
    "svr = SVR(C=.00001)\n",
    "svr_pipe = Pipeline(\n",
    "    steps=[('scaler',scaler),\n",
    "        #('poly',PolynomialFeatures(degree=2)),\n",
    "        ('svr_reg',svr)\n",
    "    ]\n",
    ")\n",
    "svr_pipe.fit(X_train[minimal],y_train)\n",
    "svr_pipe.score(X_test[minimal],y_test)\n",
    "##Is this broken? am I missing something? This is the worst result I've ever had."
   ]
  },
  {
   "cell_type": "code",
   "execution_count": 88,
   "metadata": {},
   "outputs": [
    {
     "output_type": "execute_result",
     "data": {
      "text/plain": "0.4415848200154988"
     },
     "metadata": {},
     "execution_count": 88
    }
   ],
   "source": [
    "from sklearn.ensemble import GradientBoostingRegressor\n",
    "\n",
    "gbr = GradientBoostingRegressor(n_estimators=100)\n",
    "\n",
    "gbr.fit(X_train[minimal],y_train)\n",
    "gbr.score(X_test[minimal], y_test)"
   ]
  },
  {
   "cell_type": "code",
   "execution_count": 86,
   "metadata": {},
   "outputs": [
    {
     "output_type": "stream",
     "text": "\u001b[0;31mInit signature:\u001b[0m\n\u001b[0mGradientBoostingRegressor\u001b[0m\u001b[0;34m(\u001b[0m\u001b[0;34m\u001b[0m\n\u001b[0;34m\u001b[0m    \u001b[0;34m*\u001b[0m\u001b[0;34m,\u001b[0m\u001b[0;34m\u001b[0m\n\u001b[0;34m\u001b[0m    \u001b[0mloss\u001b[0m\u001b[0;34m=\u001b[0m\u001b[0;34m'ls'\u001b[0m\u001b[0;34m,\u001b[0m\u001b[0;34m\u001b[0m\n\u001b[0;34m\u001b[0m    \u001b[0mlearning_rate\u001b[0m\u001b[0;34m=\u001b[0m\u001b[0;36m0.1\u001b[0m\u001b[0;34m,\u001b[0m\u001b[0;34m\u001b[0m\n\u001b[0;34m\u001b[0m    \u001b[0mn_estimators\u001b[0m\u001b[0;34m=\u001b[0m\u001b[0;36m100\u001b[0m\u001b[0;34m,\u001b[0m\u001b[0;34m\u001b[0m\n\u001b[0;34m\u001b[0m    \u001b[0msubsample\u001b[0m\u001b[0;34m=\u001b[0m\u001b[0;36m1.0\u001b[0m\u001b[0;34m,\u001b[0m\u001b[0;34m\u001b[0m\n\u001b[0;34m\u001b[0m    \u001b[0mcriterion\u001b[0m\u001b[0;34m=\u001b[0m\u001b[0;34m'friedman_mse'\u001b[0m\u001b[0;34m,\u001b[0m\u001b[0;34m\u001b[0m\n\u001b[0;34m\u001b[0m    \u001b[0mmin_samples_split\u001b[0m\u001b[0;34m=\u001b[0m\u001b[0;36m2\u001b[0m\u001b[0;34m,\u001b[0m\u001b[0;34m\u001b[0m\n\u001b[0;34m\u001b[0m    \u001b[0mmin_samples_leaf\u001b[0m\u001b[0;34m=\u001b[0m\u001b[0;36m1\u001b[0m\u001b[0;34m,\u001b[0m\u001b[0;34m\u001b[0m\n\u001b[0;34m\u001b[0m    \u001b[0mmin_weight_fraction_leaf\u001b[0m\u001b[0;34m=\u001b[0m\u001b[0;36m0.0\u001b[0m\u001b[0;34m,\u001b[0m\u001b[0;34m\u001b[0m\n\u001b[0;34m\u001b[0m    \u001b[0mmax_depth\u001b[0m\u001b[0;34m=\u001b[0m\u001b[0;36m3\u001b[0m\u001b[0;34m,\u001b[0m\u001b[0;34m\u001b[0m\n\u001b[0;34m\u001b[0m    \u001b[0mmin_impurity_decrease\u001b[0m\u001b[0;34m=\u001b[0m\u001b[0;36m0.0\u001b[0m\u001b[0;34m,\u001b[0m\u001b[0;34m\u001b[0m\n\u001b[0;34m\u001b[0m    \u001b[0mmin_impurity_split\u001b[0m\u001b[0;34m=\u001b[0m\u001b[0;32mNone\u001b[0m\u001b[0;34m,\u001b[0m\u001b[0;34m\u001b[0m\n\u001b[0;34m\u001b[0m    \u001b[0minit\u001b[0m\u001b[0;34m=\u001b[0m\u001b[0;32mNone\u001b[0m\u001b[0;34m,\u001b[0m\u001b[0;34m\u001b[0m\n\u001b[0;34m\u001b[0m    \u001b[0mrandom_state\u001b[0m\u001b[0;34m=\u001b[0m\u001b[0;32mNone\u001b[0m\u001b[0;34m,\u001b[0m\u001b[0;34m\u001b[0m\n\u001b[0;34m\u001b[0m    \u001b[0mmax_features\u001b[0m\u001b[0;34m=\u001b[0m\u001b[0;32mNone\u001b[0m\u001b[0;34m,\u001b[0m\u001b[0;34m\u001b[0m\n\u001b[0;34m\u001b[0m    \u001b[0malpha\u001b[0m\u001b[0;34m=\u001b[0m\u001b[0;36m0.9\u001b[0m\u001b[0;34m,\u001b[0m\u001b[0;34m\u001b[0m\n\u001b[0;34m\u001b[0m    \u001b[0mverbose\u001b[0m\u001b[0;34m=\u001b[0m\u001b[0;36m0\u001b[0m\u001b[0;34m,\u001b[0m\u001b[0;34m\u001b[0m\n\u001b[0;34m\u001b[0m    \u001b[0mmax_leaf_nodes\u001b[0m\u001b[0;34m=\u001b[0m\u001b[0;32mNone\u001b[0m\u001b[0;34m,\u001b[0m\u001b[0;34m\u001b[0m\n\u001b[0;34m\u001b[0m    \u001b[0mwarm_start\u001b[0m\u001b[0;34m=\u001b[0m\u001b[0;32mFalse\u001b[0m\u001b[0;34m,\u001b[0m\u001b[0;34m\u001b[0m\n\u001b[0;34m\u001b[0m    \u001b[0mpresort\u001b[0m\u001b[0;34m=\u001b[0m\u001b[0;34m'deprecated'\u001b[0m\u001b[0;34m,\u001b[0m\u001b[0;34m\u001b[0m\n\u001b[0;34m\u001b[0m    \u001b[0mvalidation_fraction\u001b[0m\u001b[0;34m=\u001b[0m\u001b[0;36m0.1\u001b[0m\u001b[0;34m,\u001b[0m\u001b[0;34m\u001b[0m\n\u001b[0;34m\u001b[0m    \u001b[0mn_iter_no_change\u001b[0m\u001b[0;34m=\u001b[0m\u001b[0;32mNone\u001b[0m\u001b[0;34m,\u001b[0m\u001b[0;34m\u001b[0m\n\u001b[0;34m\u001b[0m    \u001b[0mtol\u001b[0m\u001b[0;34m=\u001b[0m\u001b[0;36m0.0001\u001b[0m\u001b[0;34m,\u001b[0m\u001b[0;34m\u001b[0m\n\u001b[0;34m\u001b[0m    \u001b[0mccp_alpha\u001b[0m\u001b[0;34m=\u001b[0m\u001b[0;36m0.0\u001b[0m\u001b[0;34m,\u001b[0m\u001b[0;34m\u001b[0m\n\u001b[0;34m\u001b[0m\u001b[0;34m)\u001b[0m\u001b[0;34m\u001b[0m\u001b[0;34m\u001b[0m\u001b[0m\n\u001b[0;31mDocstring:\u001b[0m     \nGradient Boosting for regression.\n\nGB builds an additive model in a forward stage-wise fashion;\nit allows for the optimization of arbitrary differentiable loss functions.\nIn each stage a regression tree is fit on the negative gradient of the\ngiven loss function.\n\nRead more in the :ref:`User Guide <gradient_boosting>`.\n\nParameters\n----------\nloss : {'ls', 'lad', 'huber', 'quantile'}, default='ls'\n    loss function to be optimized. 'ls' refers to least squares\n    regression. 'lad' (least absolute deviation) is a highly robust\n    loss function solely based on order information of the input\n    variables. 'huber' is a combination of the two. 'quantile'\n    allows quantile regression (use `alpha` to specify the quantile).\n\nlearning_rate : float, default=0.1\n    learning rate shrinks the contribution of each tree by `learning_rate`.\n    There is a trade-off between learning_rate and n_estimators.\n\nn_estimators : int, default=100\n    The number of boosting stages to perform. Gradient boosting\n    is fairly robust to over-fitting so a large number usually\n    results in better performance.\n\nsubsample : float, default=1.0\n    The fraction of samples to be used for fitting the individual base\n    learners. If smaller than 1.0 this results in Stochastic Gradient\n    Boosting. `subsample` interacts with the parameter `n_estimators`.\n    Choosing `subsample < 1.0` leads to a reduction of variance\n    and an increase in bias.\n\ncriterion : {'friedman_mse', 'mse', 'mae'}, default='friedman_mse'\n    The function to measure the quality of a split. Supported criteria\n    are \"friedman_mse\" for the mean squared error with improvement\n    score by Friedman, \"mse\" for mean squared error, and \"mae\" for\n    the mean absolute error. The default value of \"friedman_mse\" is\n    generally the best as it can provide a better approximation in\n    some cases.\n\n    .. versionadded:: 0.18\n\nmin_samples_split : int or float, default=2\n    The minimum number of samples required to split an internal node:\n\n    - If int, then consider `min_samples_split` as the minimum number.\n    - If float, then `min_samples_split` is a fraction and\n      `ceil(min_samples_split * n_samples)` are the minimum\n      number of samples for each split.\n\n    .. versionchanged:: 0.18\n       Added float values for fractions.\n\nmin_samples_leaf : int or float, default=1\n    The minimum number of samples required to be at a leaf node.\n    A split point at any depth will only be considered if it leaves at\n    least ``min_samples_leaf`` training samples in each of the left and\n    right branches.  This may have the effect of smoothing the model,\n    especially in regression.\n\n    - If int, then consider `min_samples_leaf` as the minimum number.\n    - If float, then `min_samples_leaf` is a fraction and\n      `ceil(min_samples_leaf * n_samples)` are the minimum\n      number of samples for each node.\n\n    .. versionchanged:: 0.18\n       Added float values for fractions.\n\nmin_weight_fraction_leaf : float, default=0.0\n    The minimum weighted fraction of the sum total of weights (of all\n    the input samples) required to be at a leaf node. Samples have\n    equal weight when sample_weight is not provided.\n\nmax_depth : int, default=3\n    maximum depth of the individual regression estimators. The maximum\n    depth limits the number of nodes in the tree. Tune this parameter\n    for best performance; the best value depends on the interaction\n    of the input variables.\n\nmin_impurity_decrease : float, default=0.0\n    A node will be split if this split induces a decrease of the impurity\n    greater than or equal to this value.\n\n    The weighted impurity decrease equation is the following::\n\n        N_t / N * (impurity - N_t_R / N_t * right_impurity\n                            - N_t_L / N_t * left_impurity)\n\n    where ``N`` is the total number of samples, ``N_t`` is the number of\n    samples at the current node, ``N_t_L`` is the number of samples in the\n    left child, and ``N_t_R`` is the number of samples in the right child.\n\n    ``N``, ``N_t``, ``N_t_R`` and ``N_t_L`` all refer to the weighted sum,\n    if ``sample_weight`` is passed.\n\n    .. versionadded:: 0.19\n\nmin_impurity_split : float, default=None\n    Threshold for early stopping in tree growth. A node will split\n    if its impurity is above the threshold, otherwise it is a leaf.\n\n    .. deprecated:: 0.19\n       ``min_impurity_split`` has been deprecated in favor of\n       ``min_impurity_decrease`` in 0.19. The default value of\n       ``min_impurity_split`` has changed from 1e-7 to 0 in 0.23 and it\n       will be removed in 0.25. Use ``min_impurity_decrease`` instead.\n\ninit : estimator or 'zero', default=None\n    An estimator object that is used to compute the initial predictions.\n    ``init`` has to provide :term:`fit` and :term:`predict`. If 'zero', the\n    initial raw predictions are set to zero. By default a\n    ``DummyEstimator`` is used, predicting either the average target value\n    (for loss='ls'), or a quantile for the other losses.\n\nrandom_state : int or RandomState, default=None\n    Controls the random seed given to each Tree estimator at each\n    boosting iteration.\n    In addition, it controls the random permutation of the features at\n    each split (see Notes for more details).\n    It also controls the random spliting of the training data to obtain a\n    validation set if `n_iter_no_change` is not None.\n    Pass an int for reproducible output across multiple function calls.\n    See :term:`Glossary <random_state>`.\n\nmax_features : {'auto', 'sqrt', 'log2'}, int or float, default=None\n    The number of features to consider when looking for the best split:\n\n    - If int, then consider `max_features` features at each split.\n    - If float, then `max_features` is a fraction and\n      `int(max_features * n_features)` features are considered at each\n      split.\n    - If \"auto\", then `max_features=n_features`.\n    - If \"sqrt\", then `max_features=sqrt(n_features)`.\n    - If \"log2\", then `max_features=log2(n_features)`.\n    - If None, then `max_features=n_features`.\n\n    Choosing `max_features < n_features` leads to a reduction of variance\n    and an increase in bias.\n\n    Note: the search for a split does not stop until at least one\n    valid partition of the node samples is found, even if it requires to\n    effectively inspect more than ``max_features`` features.\n\nalpha : float, default=0.9\n    The alpha-quantile of the huber loss function and the quantile\n    loss function. Only if ``loss='huber'`` or ``loss='quantile'``.\n\nverbose : int, default=0\n    Enable verbose output. If 1 then it prints progress and performance\n    once in a while (the more trees the lower the frequency). If greater\n    than 1 then it prints progress and performance for every tree.\n\nmax_leaf_nodes : int, default=None\n    Grow trees with ``max_leaf_nodes`` in best-first fashion.\n    Best nodes are defined as relative reduction in impurity.\n    If None then unlimited number of leaf nodes.\n\nwarm_start : bool, default=False\n    When set to ``True``, reuse the solution of the previous call to fit\n    and add more estimators to the ensemble, otherwise, just erase the\n    previous solution. See :term:`the Glossary <warm_start>`.\n\npresort : deprecated, default='deprecated'\n    This parameter is deprecated and will be removed in v0.24.\n\n    .. deprecated :: 0.22\n\nvalidation_fraction : float, default=0.1\n    The proportion of training data to set aside as validation set for\n    early stopping. Must be between 0 and 1.\n    Only used if ``n_iter_no_change`` is set to an integer.\n\n    .. versionadded:: 0.20\n\nn_iter_no_change : int, default=None\n    ``n_iter_no_change`` is used to decide if early stopping will be used\n    to terminate training when validation score is not improving. By\n    default it is set to None to disable early stopping. If set to a\n    number, it will set aside ``validation_fraction`` size of the training\n    data as validation and terminate training when validation score is not\n    improving in all of the previous ``n_iter_no_change`` numbers of\n    iterations.\n\n    .. versionadded:: 0.20\n\ntol : float, default=1e-4\n    Tolerance for the early stopping. When the loss is not improving\n    by at least tol for ``n_iter_no_change`` iterations (if set to a\n    number), the training stops.\n\n    .. versionadded:: 0.20\n\nccp_alpha : non-negative float, default=0.0\n    Complexity parameter used for Minimal Cost-Complexity Pruning. The\n    subtree with the largest cost complexity that is smaller than\n    ``ccp_alpha`` will be chosen. By default, no pruning is performed. See\n    :ref:`minimal_cost_complexity_pruning` for details.\n\n    .. versionadded:: 0.22\n\nAttributes\n----------\nfeature_importances_ : ndarray of shape (n_features,)\n    The impurity-based feature importances.\n    The higher, the more important the feature.\n    The importance of a feature is computed as the (normalized)\n    total reduction of the criterion brought by that feature.  It is also\n    known as the Gini importance.\n\n    Warning: impurity-based feature importances can be misleading for\n    high cardinality features (many unique values). See\n    :func:`sklearn.inspection.permutation_importance` as an alternative.\n\noob_improvement_ : ndarray of shape (n_estimators,)\n    The improvement in loss (= deviance) on the out-of-bag samples\n    relative to the previous iteration.\n    ``oob_improvement_[0]`` is the improvement in\n    loss of the first stage over the ``init`` estimator.\n    Only available if ``subsample < 1.0``\n\ntrain_score_ : ndarray of shape (n_estimators,)\n    The i-th score ``train_score_[i]`` is the deviance (= loss) of the\n    model at iteration ``i`` on the in-bag sample.\n    If ``subsample == 1`` this is the deviance on the training data.\n\nloss_ : LossFunction\n    The concrete ``LossFunction`` object.\n\ninit_ : estimator\n    The estimator that provides the initial predictions.\n    Set via the ``init`` argument or ``loss.init_estimator``.\n\nestimators_ : ndarray of DecisionTreeRegressor of shape (n_estimators, 1)\n    The collection of fitted sub-estimators.\n\nn_features_ : int\n    The number of data features.\n\nmax_features_ : int\n    The inferred value of max_features.\n\nNotes\n-----\nThe features are always randomly permuted at each split. Therefore,\nthe best found split may vary, even with the same training data and\n``max_features=n_features``, if the improvement of the criterion is\nidentical for several splits enumerated during the search of the best\nsplit. To obtain a deterministic behaviour during fitting,\n``random_state`` has to be fixed.\n\nExamples\n--------\n>>> from sklearn.datasets import make_regression\n>>> from sklearn.ensemble import GradientBoostingRegressor\n>>> from sklearn.model_selection import train_test_split\n>>> X, y = make_regression(random_state=0)\n>>> X_train, X_test, y_train, y_test = train_test_split(\n...     X, y, random_state=0)\n>>> reg = GradientBoostingRegressor(random_state=0)\n>>> reg.fit(X_train, y_train)\nGradientBoostingRegressor(random_state=0)\n>>> reg.predict(X_test[1:2])\narray([-61...])\n>>> reg.score(X_test, y_test)\n0.4...\n\nSee also\n--------\nsklearn.ensemble.HistGradientBoostingRegressor,\nsklearn.tree.DecisionTreeRegressor, RandomForestRegressor\n\nReferences\n----------\nJ. Friedman, Greedy Function Approximation: A Gradient Boosting\nMachine, The Annals of Statistics, Vol. 29, No. 5, 2001.\n\nJ. Friedman, Stochastic Gradient Boosting, 1999\n\nT. Hastie, R. Tibshirani and J. Friedman.\nElements of Statistical Learning Ed. 2, Springer, 2009.\n\u001b[0;31mFile:\u001b[0m           ~/anaconda3/lib/python3.8/site-packages/sklearn/ensemble/_gb.py\n\u001b[0;31mType:\u001b[0m           ABCMeta\n\u001b[0;31mSubclasses:\u001b[0m     \n"
    }
   ],
   "source": [
    "GradientBoostingRegressor?"
   ]
  },
  {
   "cell_type": "code",
   "execution_count": null,
   "metadata": {},
   "outputs": [],
   "source": []
  }
 ]
}