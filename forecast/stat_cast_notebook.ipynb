{
 "metadata": {
  "language_info": {
   "codemirror_mode": {
    "name": "ipython",
    "version": 3
   },
   "file_extension": ".py",
   "mimetype": "text/x-python",
   "name": "python",
   "nbconvert_exporter": "python",
   "pygments_lexer": "ipython3",
   "version": "3.6.10-final"
  },
  "orig_nbformat": 2,
  "kernelspec": {
   "name": "python_defaultSpec_1597418362243",
   "display_name": "Python 3.6.10 64-bit ('base': conda)"
  }
 },
 "nbformat": 4,
 "nbformat_minor": 2,
 "cells": [
  {
   "cell_type": "markdown",
   "metadata": {},
   "source": [
    "# Whoo hoo statcast\n",
    "\n",
    "Could it get better? Physics data available for me to play with!"
   ]
  },
  {
   "cell_type": "code",
   "execution_count": 1,
   "metadata": {},
   "outputs": [],
   "source": [
    "import pandas as pd \n",
    "import numpy as np\n"
   ]
  },
  {
   "cell_type": "code",
   "execution_count": 208,
   "metadata": {},
   "outputs": [],
   "source": [
    "statcast = pd.read_csv('../data/hitters_statcast_since2016.csv').dropna()\n",
    "statcast['Barrel%'] = statcast['Barrel%'].apply(lambda x: float(x.strip('%')))\n",
    "statcast['HardHit%'] = statcast['HardHit%'].apply(lambda x: float(x.strip('%')))\n",
    "\n",
    "##Introduce a number of physical quantities, very approximate.\n",
    "statcast['cosLA'] = np.cos(statcast['LA']/180*np.pi)\n",
    "statcast['sinLA'] = np.sin(statcast['LA']/180*np.pi)\n",
    "statcast['EV_x'] = statcast['EV']*statcast['cosLA']\n",
    "statcast['EV_y'] = statcast['EV']*statcast['sinLA']\n",
    "acceleration = -32 * 60 * 60 / 5280\n",
    "func = (lambda x: -2 * x / acceleration)\n",
    "statcast['Hangtime'] = func(statcast['EV_y'])\n",
    "statcast['Distance'] = statcast['Hangtime']*statcast['EV_x']\n",
    "\n",
    "standard = pd.read_csv('../data/hitters_since_1947.csv')\n",
    "standard = standard[standard['Season'] >= 2016]\n",
    "\n",
    "statcast_cols = statcast.select_dtypes(exclude = 'object').drop(['playerid','Season'], axis = 1).columns \n",
    "standard_cols = standard.select_dtypes(exclude = 'object').drop(['playerid','Season'], axis = 1).columns\n",
    "\n",
    "df = pd.merge(statcast, standard.select_dtypes(exclude='object'), on = ['playerid','Season'], how = 'left').dropna()"
   ]
  },
  {
   "cell_type": "code",
   "execution_count": 196,
   "metadata": {
    "tags": []
   },
   "outputs": [
    {
     "output_type": "execute_result",
     "data": {
      "text/plain": "Index(['G', 'AB', 'PA', 'H', '1B', '2B', '3B', 'HR', 'R', 'RBI', 'BB', 'IBB',\n       'SO', 'HBP', 'SF', 'SH', 'GDP', 'SB', 'CS', 'AVG'],\n      dtype='object')"
     },
     "metadata": {},
     "execution_count": 196
    }
   ],
   "source": []
  },
  {
   "cell_type": "code",
   "execution_count": 210,
   "metadata": {},
   "outputs": [],
   "source": [
    "def multiseason_lines(df, stats, num_seasons):\n",
    "    \"\"\"\n",
    "    Adds columns to rows in a DataFrame for previous seasons; useful for making past seasons features\n",
    "    in ML applicaitons.\n",
    "\n",
    "    Parameters\n",
    "    ----------\n",
    "    df: DataFrame\n",
    "        A DataFrame that includes multiple seasons of player data in separate rows.\n",
    "        The DataFrame must include a unique 'playerid' column (per Fangraphs) and \n",
    "        the seasons must be labeled 'Season' with int-type data.\n",
    "    stats: list-like\n",
    "        The stats to include from previous seasons.\n",
    "\n",
    "    num_seasons: int\n",
    "        The number of past seasons to include as past stats.\n",
    "\n",
    "    Returns\n",
    "    -------\n",
    "        A DataFrame with the columns from df and additional columns from stats\n",
    "        labeled with suffixes '_1', '_2'...'_x' for the past season's stats.\n",
    "    \"\"\"\n",
    "    out = df.copy()\n",
    "    for n in range(num_seasons):\n",
    "        df1 = df.copy()\n",
    "        df1['Season'] = df1['Season'] + 1 + n\n",
    "        out = pd.merge(out, df1[stats], how = 'left', on=['playerid','Season'],\n",
    "            suffixes=(\"\",\"_\"+str(1+n)))\n",
    "    return out\n",
    "\n"
   ]
  },
  {
   "cell_type": "code",
   "execution_count": 211,
   "metadata": {},
   "outputs": [
    {
     "output_type": "execute_result",
     "data": {
      "text/plain": "0       3\n1       1\n2       1\n3       2\n4       2\n       ..\n4034    1\n4035    1\n4036    1\n4037    1\n4038    1\nName: Events, Length: 3561, dtype: int64"
     },
     "metadata": {},
     "execution_count": 211
    }
   ],
   "source": [
    "df['Events']"
   ]
  },
  {
   "cell_type": "code",
   "execution_count": 212,
   "metadata": {},
   "outputs": [],
   "source": [
    "stats = df.select_dtypes(exclude='object').columns\n",
    "df = multiseason_lines(df,stats,1).dropna()\n",
    "df = df[(df['Events']>70) & (df['Events_1']>70)]"
   ]
  },
  {
   "cell_type": "code",
   "execution_count": 213,
   "metadata": {},
   "outputs": [
    {
     "output_type": "execute_result",
     "data": {
      "text/plain": "87"
     },
     "metadata": {},
     "execution_count": 213
    }
   ],
   "source": [
    "correlations = df.corr()\n",
    "df['PA_x'].min()"
   ]
  },
  {
   "cell_type": "code",
   "execution_count": 218,
   "metadata": {},
   "outputs": [],
   "source": [
    "from sklearn.linear_model import LinearRegression\n",
    "from sklearn.model_selection import train_test_split\n",
    "\n",
    "target = 'HR'\n",
    "data = [ x for x in df.select_dtypes(exclude='object').columns if x.endswith(\"_1\")]\n",
    "X_train, X_test, y_train, y_test = train_test_split(df[data], df[target])"
   ]
  },
  {
   "cell_type": "code",
   "execution_count": 229,
   "metadata": {
    "tags": []
   },
   "outputs": [
    {
     "output_type": "stream",
     "name": "stdout",
     "text": "PA_x_1: -0.16\nEvents_1: -0.30\nEV_1: -0.03\nmaxEV_1: -0.02\nLA_1: -0.43\nBarrels_1: 0.24\nBarrel%_1: 0.06\nHardHit_1: 0.02\nHardHit%_1: -0.03\ncosLA_1: -1.54\nsinLA_1: -0.42\nEV_x_1: -0.47\nEV_y_1: -0.36\nHangtime_1: -0.36\nDistance_1: -0.30\nG_1: -0.31\nAB_1: -0.19\nPA_y_1: -0.16\nH_1: -0.20\n1B_1: -0.51\n2B_1: -0.15\n3B_1: -0.86\nHR_1: 0.21\nR_1: -0.05\nRBI_1: 0.08\nBB_1: -0.16\nIBB_1: -0.36\nSO_1: -0.11\nHBP_1: -0.69\nSF_1: -0.50\nSH_1: -1.51\nGDP_1: -0.48\nSB_1: -0.94\nCS_1: -0.96\nAVG_1: -0.67\n"
    }
   ],
   "source": [
    "from sklearn.metrics import r2_score\n",
    "from sklearn.preprocessing import StandardScaler\n",
    "\n",
    "scaler = StandardScaler()\n",
    "for e in data:\n",
    "    x = scaler.fit_transform(df[target].to_frame())\n",
    "    y = scaler.fit_transform(df[e].to_frame())\n",
    "    print(\"{}: {:.2f}\".format(e, r2_score(x,y)))"
   ]
  },
  {
   "cell_type": "markdown",
   "metadata": {},
   "source": [
    "# Estblishing a Baseline\n",
    "\n",
    "Any decent information we get should improve on using a simple linear regression of a previous season's HR total.\n",
    "So, we findout how that scores.\n"
   ]
  },
  {
   "cell_type": "code",
   "execution_count": 231,
   "metadata": {
    "tags": []
   },
   "outputs": [
    {
     "output_type": "stream",
     "name": "stdout",
     "text": "0.34847086602244337 0.3926728091292663\n"
    }
   ],
   "source": [
    "linear = LinearRegression().fit(X_train['HR_1'].to_frame(), y_train)\n",
    "\n",
    "print(linear.score(X_train['HR_1'].to_frame(), y_train),\n",
    "    linear.score(X_test['HR_1'].to_frame(), y_test)) ##rough result: .35 and .39 (!)"
   ]
  },
  {
   "cell_type": "code",
   "execution_count": 236,
   "metadata": {
    "tags": []
   },
   "outputs": [
    {
     "output_type": "stream",
     "name": "stdout",
     "text": "0.45292133046899385 0.4310399850536407\n0.42789230560645664 0.44701669099531927\n"
    }
   ],
   "source": [
    "from sklearn.linear_model import Lasso\n",
    "\n",
    "lasso = Lasso(alpha = 2).fit(X_train,y_train)\n",
    "#cols = ['maxEV_1', 'Barrels_1', 'HardHit_1','HardHit%_1']\n",
    "linear.fit(X_train,y_train)\n",
    "print(linear.score(X_train, y_train),\n",
    "    linear.score(X_test, y_test))\n",
    "print(lasso.score(X_train, y_train),\n",
    "    lasso.score(X_test,y_test))"
   ]
  },
  {
   "cell_type": "code",
   "execution_count": 238,
   "metadata": {
    "tags": []
   },
   "outputs": [
    {
     "output_type": "stream",
     "name": "stdout",
     "text": "-20.929127501386198\n"
    },
    {
     "output_type": "execute_result",
     "data": {
      "text/plain": "[('PA_x_1', 0.0),\n ('Events_1', 0.00886084042773968),\n ('EV_1', 0.0),\n ('maxEV_1', 0.20274536670999443),\n ('LA_1', -0.0),\n ('Barrels_1', 0.14746640715732365),\n ('Barrel%_1', 0.0),\n ('HardHit_1', 0.020242721352404833),\n ('HardHit%_1', 0.12579228386404634),\n ('cosLA_1', 0.0),\n ('sinLA_1', -0.0),\n ('EV_x_1', 0.0),\n ('EV_y_1', -0.0),\n ('Hangtime_1', -0.0),\n ('Distance_1', 0.03132805402819768),\n ('G_1', -0.07750943445587502),\n ('AB_1', 0.004409999801235575),\n ('PA_y_1', 0.0),\n ('H_1', 0.0),\n ('1B_1', -0.03426368853924428),\n ('2B_1', 0.010831327430470753),\n ('3B_1', -0.0),\n ('HR_1', 0.0),\n ('R_1', 0.07299581507597651),\n ('RBI_1', 0.04756948783125929),\n ('BB_1', 0.0),\n ('IBB_1', 0.0),\n ('SO_1', -0.0),\n ('HBP_1', -0.0),\n ('SF_1', -0.0),\n ('SH_1', -0.0),\n ('GDP_1', 0.0),\n ('SB_1', 0.0),\n ('CS_1', -0.0),\n ('AVG_1', -0.0)]"
     },
     "metadata": {},
     "execution_count": 238
    }
   ],
   "source": [
    "print(lasso.intercept_)\n",
    "list(zip(X_train.columns,lasso.coef_))\n",
    "#data.columns"
   ]
  },
  {
   "cell_type": "markdown",
   "metadata": {},
   "source": [
    "## Hmmm...\n",
    "\n",
    "The above cell show some of the usual linear regression perversion: R_1 and RBI_1 have non-zero coefs while HR_1 is 0!\n",
    "\n",
    "Let's try a minimal set of features."
   ]
  },
  {
   "cell_type": "code",
   "execution_count": 239,
   "metadata": {},
   "outputs": [
    {
     "output_type": "execute_result",
     "data": {
      "text/plain": "Index(['PA', 'Events', 'EV', 'maxEV', 'LA', 'Barrels', 'Barrel%', 'HardHit',\n       'HardHit%', 'cosLA', 'sinLA', 'EV_x', 'EV_y', 'Hangtime', 'Distance'],\n      dtype='object')"
     },
     "metadata": {},
     "execution_count": 239
    }
   ],
   "source": [
    "physical_data = [x+'_1' for x in statcast_cols].drop(['PA','Events'])\n",
    "minimal = physical_data.append('HR_1')"
   ]
  },
  {
   "cell_type": "code",
   "execution_count": 143,
   "metadata": {
    "tags": []
   },
   "outputs": [
    {
     "output_type": "stream",
     "name": "stdout",
     "text": "110.01273209549072\n"
    },
    {
     "output_type": "execute_result",
     "data": {
      "text/plain": "[('EV_1', -0.0),\n ('maxEV_1', 2.295988404194982),\n ('LA_1', -0.0),\n ('Barrels_1', -0.0),\n ('Barrel%_1', 0.2081895715076427),\n ('HardHit_1', -0.0),\n ('HardHit%_1', 0.3388837911819282)]"
     },
     "metadata": {},
     "execution_count": 143
    }
   ],
   "source": [
    "print(lasso.intercept_)\n",
    "lasso.coef_\n",
    "list(zip(data.columns,lasso.coef_))"
   ]
  },
  {
   "cell_type": "code",
   "execution_count": 152,
   "metadata": {},
   "outputs": [
    {
     "output_type": "execute_result",
     "data": {
      "text/plain": "0.6555520785003144"
     },
     "metadata": {},
     "execution_count": 152
    }
   ],
   "source": [
    "from sklearn.preprocessing import PolynomialFeatures\n",
    "\n",
    "lasso.alpha = 10\n",
    "poly = PolynomialFeatures()\n",
    "non_lin = poly.fit_transform(X_train)\n",
    "lasso.fit(non_lin,y_train)\n",
    "lasso.score(poly.fit_transform(X_test),y_test)"
   ]
  },
  {
   "cell_type": "code",
   "execution_count": 153,
   "metadata": {
    "tags": []
   },
   "outputs": [
    {
     "output_type": "stream",
     "name": "stdout",
     "text": "78.47589693759062\n"
    },
    {
     "output_type": "execute_result",
     "data": {
      "text/plain": "array([ 0.00000000e+00, -0.00000000e+00,  0.00000000e+00,  0.00000000e+00,\n        0.00000000e+00,  0.00000000e+00,  0.00000000e+00,  0.00000000e+00,\n       -1.05732519e-03, -0.00000000e+00,  0.00000000e+00,  0.00000000e+00,\n        0.00000000e+00, -0.00000000e+00,  0.00000000e+00,  2.88450136e-03,\n        0.00000000e+00,  4.81417570e-04,  0.00000000e+00,  1.60774063e-05,\n        1.39440054e-03, -0.00000000e+00, -0.00000000e+00,  0.00000000e+00,\n       -3.51339694e-04,  0.00000000e+00, -2.12805133e-04, -0.00000000e+00,\n       -2.73185500e-05, -0.00000000e+00, -0.00000000e+00, -0.00000000e+00,\n       -0.00000000e+00,  5.04156548e-05, -4.91719105e-04, -0.00000000e+00])"
     },
     "metadata": {},
     "execution_count": 153
    }
   ],
   "source": [
    "print(lasso.intercept_)\n",
    "lasso.coef_\n",
    "#list(zip(data.columns,lasso.coef_))"
   ]
  },
  {
   "cell_type": "code",
   "execution_count": null,
   "metadata": {},
   "outputs": [],
   "source": []
  }
 ]
}