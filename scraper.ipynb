{
 "metadata": {
  "language_info": {
   "codemirror_mode": {
    "name": "ipython",
    "version": 3
   },
   "file_extension": ".py",
   "mimetype": "text/x-python",
   "name": "python",
   "nbconvert_exporter": "python",
   "pygments_lexer": "ipython3",
   "version": "3.6.10-final"
  },
  "orig_nbformat": 2,
  "kernelspec": {
   "name": "python_defaultSpec_1597787117572",
   "display_name": "Python 3.6.10 64-bit ('base': conda)"
  }
 },
 "nbformat": 4,
 "nbformat_minor": 2,
 "cells": [
  {
   "cell_type": "markdown",
   "metadata": {},
   "source": [
    "# We're scraping\n",
    "\n",
    "Probably going to just scrape it all. \n",
    "\n",
    "See [baseball-scraper](https://pypi.org/project/baseball-scraper/) for examples."
   ]
  },
  {
   "cell_type": "code",
   "execution_count": 22,
   "metadata": {},
   "outputs": [],
   "source": [
    "from baseball_scraper import statcast\n",
    "from baseball_scraper import playerid_lookup\n",
    "\n",
    "import pandas as pd \n",
    "import datetime #don't know if I'll need this."
   ]
  },
  {
   "cell_type": "code",
   "execution_count": 30,
   "metadata": {},
   "outputs": [
    {
     "output_type": "execute_result",
     "data": {
      "text/plain": "'2018-01-01'"
     },
     "metadata": {},
     "execution_count": 30
    }
   ],
   "source": [
    "##What happens if I ask for a date on which no games are played... \n",
    "##Like I write a function and uh-oh, all-star break included...\n",
    "\n",
    "##Looking for a date pre statcast gives a table with lots of NaN values. \n",
    "#pre_stat_scrape = statcast(start_dt='2010-08-08', verbose=True)\n",
    "\n",
    "##Looking for a date on which no games were played gives a dataframe of shape 0x90\n",
    "#january_scrape = statcast(start_dt='2018-01-01', verbose=True)\n",
    "\n",
    "start_data = datetime.datetime(2018,1,1)\n",
    "pd.to_datetime(start_data).date().strftime(\"%Y-%m-%d\")\n",
    "\n"
   ]
  },
  {
   "cell_type": "code",
   "execution_count": 14,
   "metadata": {},
   "outputs": [
    {
     "output_type": "execute_result",
     "data": {
      "text/plain": "   index pitch_type  ... if_fielding_alignment  of_fielding_alignment\n0    415         FF  ...                   NaN                    NaN\n1    432         SL  ...                   NaN                    NaN\n2    441         SL  ...                   NaN                    NaN\n3    463         SL  ...                   NaN                    NaN\n4    470         FF  ...                   NaN                    NaN\n\n[5 rows x 90 columns]",
      "text/html": "<div>\n<style scoped>\n    .dataframe tbody tr th:only-of-type {\n        vertical-align: middle;\n    }\n\n    .dataframe tbody tr th {\n        vertical-align: top;\n    }\n\n    .dataframe thead th {\n        text-align: right;\n    }\n</style>\n<table border=\"1\" class=\"dataframe\">\n  <thead>\n    <tr style=\"text-align: right;\">\n      <th></th>\n      <th>index</th>\n      <th>pitch_type</th>\n      <th>game_date</th>\n      <th>release_speed</th>\n      <th>release_pos_x</th>\n      <th>release_pos_z</th>\n      <th>player_name</th>\n      <th>batter</th>\n      <th>pitcher</th>\n      <th>events</th>\n      <th>description</th>\n      <th>spin_dir</th>\n      <th>spin_rate_deprecated</th>\n      <th>break_angle_deprecated</th>\n      <th>break_length_deprecated</th>\n      <th>zone</th>\n      <th>des</th>\n      <th>game_type</th>\n      <th>stand</th>\n      <th>p_throws</th>\n      <th>home_team</th>\n      <th>away_team</th>\n      <th>type</th>\n      <th>hit_location</th>\n      <th>bb_type</th>\n      <th>balls</th>\n      <th>strikes</th>\n      <th>game_year</th>\n      <th>pfx_x</th>\n      <th>pfx_z</th>\n      <th>plate_x</th>\n      <th>plate_z</th>\n      <th>on_3b</th>\n      <th>on_2b</th>\n      <th>on_1b</th>\n      <th>outs_when_up</th>\n      <th>inning</th>\n      <th>inning_topbot</th>\n      <th>hc_x</th>\n      <th>hc_y</th>\n      <th>...</th>\n      <th>az</th>\n      <th>sz_top</th>\n      <th>sz_bot</th>\n      <th>hit_distance_sc</th>\n      <th>launch_speed</th>\n      <th>launch_angle</th>\n      <th>effective_speed</th>\n      <th>release_spin_rate</th>\n      <th>release_extension</th>\n      <th>game_pk</th>\n      <th>pitcher.1</th>\n      <th>fielder_2.1</th>\n      <th>fielder_3</th>\n      <th>fielder_4</th>\n      <th>fielder_5</th>\n      <th>fielder_6</th>\n      <th>fielder_7</th>\n      <th>fielder_8</th>\n      <th>fielder_9</th>\n      <th>release_pos_y</th>\n      <th>estimated_ba_using_speedangle</th>\n      <th>estimated_woba_using_speedangle</th>\n      <th>woba_value</th>\n      <th>woba_denom</th>\n      <th>babip_value</th>\n      <th>iso_value</th>\n      <th>launch_speed_angle</th>\n      <th>at_bat_number</th>\n      <th>pitch_number</th>\n      <th>pitch_name</th>\n      <th>home_score</th>\n      <th>away_score</th>\n      <th>bat_score</th>\n      <th>fld_score</th>\n      <th>post_away_score</th>\n      <th>post_home_score</th>\n      <th>post_bat_score</th>\n      <th>post_fld_score</th>\n      <th>if_fielding_alignment</th>\n      <th>of_fielding_alignment</th>\n    </tr>\n  </thead>\n  <tbody>\n    <tr>\n      <th>0</th>\n      <td>415</td>\n      <td>FF</td>\n      <td>2010-08-08</td>\n      <td>94.9</td>\n      <td>NaN</td>\n      <td>NaN</td>\n      <td>Brandon Morrow</td>\n      <td>430681.0</td>\n      <td>453344.0</td>\n      <td>strikeout</td>\n      <td>swinging_strike</td>\n      <td>NaN</td>\n      <td>NaN</td>\n      <td>NaN</td>\n      <td>NaN</td>\n      <td>17.0</td>\n      <td>Dan Johnson strikes out swinging.</td>\n      <td>R</td>\n      <td>L</td>\n      <td>R</td>\n      <td>TOR</td>\n      <td>TB</td>\n      <td>S</td>\n      <td>2.0</td>\n      <td>NaN</td>\n      <td>2.0</td>\n      <td>2.0</td>\n      <td>2010.0</td>\n      <td>-0.953867</td>\n      <td>1.608967</td>\n      <td>0.08</td>\n      <td>3.56</td>\n      <td>450314.0</td>\n      <td>NaN</td>\n      <td>446334.0</td>\n      <td>2.0</td>\n      <td>9.0</td>\n      <td>Top</td>\n      <td>NaN</td>\n      <td>NaN</td>\n      <td>...</td>\n      <td>-13.364</td>\n      <td>3.22</td>\n      <td>1.61</td>\n      <td>NaN</td>\n      <td>NaN</td>\n      <td>NaN</td>\n      <td>NaN</td>\n      <td>NaN</td>\n      <td>NaN</td>\n      <td>265479.0</td>\n      <td>453344.0</td>\n      <td>NaN</td>\n      <td>NaN</td>\n      <td>NaN</td>\n      <td>NaN</td>\n      <td>NaN</td>\n      <td>NaN</td>\n      <td>NaN</td>\n      <td>NaN</td>\n      <td>NaN</td>\n      <td>NaN</td>\n      <td>NaN</td>\n      <td>0.0</td>\n      <td>NaN</td>\n      <td>0.0</td>\n      <td>0.0</td>\n      <td>NaN</td>\n      <td>64.0</td>\n      <td>8.0</td>\n      <td>4-Seam Fastball</td>\n      <td>1.0</td>\n      <td>0.0</td>\n      <td>0.0</td>\n      <td>1.0</td>\n      <td>0.0</td>\n      <td>1.0</td>\n      <td>0.0</td>\n      <td>1.0</td>\n      <td>NaN</td>\n      <td>NaN</td>\n    </tr>\n    <tr>\n      <th>1</th>\n      <td>432</td>\n      <td>SL</td>\n      <td>2010-08-08</td>\n      <td>85.7</td>\n      <td>NaN</td>\n      <td>NaN</td>\n      <td>Brandon Morrow</td>\n      <td>430681.0</td>\n      <td>453344.0</td>\n      <td>NaN</td>\n      <td>foul</td>\n      <td>NaN</td>\n      <td>NaN</td>\n      <td>NaN</td>\n      <td>NaN</td>\n      <td>8.0</td>\n      <td>NaN</td>\n      <td>R</td>\n      <td>L</td>\n      <td>R</td>\n      <td>TOR</td>\n      <td>TB</td>\n      <td>S</td>\n      <td>NaN</td>\n      <td>NaN</td>\n      <td>2.0</td>\n      <td>2.0</td>\n      <td>2010.0</td>\n      <td>0.162250</td>\n      <td>-0.247200</td>\n      <td>-0.12</td>\n      <td>2.01</td>\n      <td>450314.0</td>\n      <td>NaN</td>\n      <td>446334.0</td>\n      <td>2.0</td>\n      <td>9.0</td>\n      <td>Top</td>\n      <td>NaN</td>\n      <td>NaN</td>\n      <td>...</td>\n      <td>-37.066</td>\n      <td>3.22</td>\n      <td>1.61</td>\n      <td>NaN</td>\n      <td>NaN</td>\n      <td>NaN</td>\n      <td>NaN</td>\n      <td>NaN</td>\n      <td>NaN</td>\n      <td>265479.0</td>\n      <td>453344.0</td>\n      <td>NaN</td>\n      <td>NaN</td>\n      <td>NaN</td>\n      <td>NaN</td>\n      <td>NaN</td>\n      <td>NaN</td>\n      <td>NaN</td>\n      <td>NaN</td>\n      <td>NaN</td>\n      <td>NaN</td>\n      <td>NaN</td>\n      <td>NaN</td>\n      <td>NaN</td>\n      <td>NaN</td>\n      <td>NaN</td>\n      <td>NaN</td>\n      <td>64.0</td>\n      <td>7.0</td>\n      <td>Slider</td>\n      <td>1.0</td>\n      <td>0.0</td>\n      <td>0.0</td>\n      <td>1.0</td>\n      <td>0.0</td>\n      <td>1.0</td>\n      <td>0.0</td>\n      <td>1.0</td>\n      <td>NaN</td>\n      <td>NaN</td>\n    </tr>\n    <tr>\n      <th>2</th>\n      <td>441</td>\n      <td>SL</td>\n      <td>2010-08-08</td>\n      <td>86.6</td>\n      <td>NaN</td>\n      <td>NaN</td>\n      <td>Brandon Morrow</td>\n      <td>430681.0</td>\n      <td>453344.0</td>\n      <td>NaN</td>\n      <td>foul</td>\n      <td>NaN</td>\n      <td>NaN</td>\n      <td>NaN</td>\n      <td>NaN</td>\n      <td>37.0</td>\n      <td>NaN</td>\n      <td>R</td>\n      <td>L</td>\n      <td>R</td>\n      <td>TOR</td>\n      <td>TB</td>\n      <td>S</td>\n      <td>NaN</td>\n      <td>NaN</td>\n      <td>2.0</td>\n      <td>2.0</td>\n      <td>2010.0</td>\n      <td>0.010558</td>\n      <td>-0.416333</td>\n      <td>-0.41</td>\n      <td>1.68</td>\n      <td>450314.0</td>\n      <td>NaN</td>\n      <td>446334.0</td>\n      <td>2.0</td>\n      <td>9.0</td>\n      <td>Top</td>\n      <td>NaN</td>\n      <td>NaN</td>\n      <td>...</td>\n      <td>-39.064</td>\n      <td>3.22</td>\n      <td>1.61</td>\n      <td>NaN</td>\n      <td>NaN</td>\n      <td>NaN</td>\n      <td>NaN</td>\n      <td>NaN</td>\n      <td>NaN</td>\n      <td>265479.0</td>\n      <td>453344.0</td>\n      <td>NaN</td>\n      <td>NaN</td>\n      <td>NaN</td>\n      <td>NaN</td>\n      <td>NaN</td>\n      <td>NaN</td>\n      <td>NaN</td>\n      <td>NaN</td>\n      <td>NaN</td>\n      <td>NaN</td>\n      <td>NaN</td>\n      <td>NaN</td>\n      <td>NaN</td>\n      <td>NaN</td>\n      <td>NaN</td>\n      <td>NaN</td>\n      <td>64.0</td>\n      <td>6.0</td>\n      <td>Slider</td>\n      <td>1.0</td>\n      <td>0.0</td>\n      <td>0.0</td>\n      <td>1.0</td>\n      <td>0.0</td>\n      <td>1.0</td>\n      <td>0.0</td>\n      <td>1.0</td>\n      <td>NaN</td>\n      <td>NaN</td>\n    </tr>\n    <tr>\n      <th>3</th>\n      <td>463</td>\n      <td>SL</td>\n      <td>2010-08-08</td>\n      <td>85.9</td>\n      <td>NaN</td>\n      <td>NaN</td>\n      <td>Brandon Morrow</td>\n      <td>430681.0</td>\n      <td>453344.0</td>\n      <td>NaN</td>\n      <td>foul</td>\n      <td>NaN</td>\n      <td>NaN</td>\n      <td>NaN</td>\n      <td>NaN</td>\n      <td>38.0</td>\n      <td>NaN</td>\n      <td>R</td>\n      <td>L</td>\n      <td>R</td>\n      <td>TOR</td>\n      <td>TB</td>\n      <td>S</td>\n      <td>NaN</td>\n      <td>NaN</td>\n      <td>2.0</td>\n      <td>2.0</td>\n      <td>2010.0</td>\n      <td>0.014733</td>\n      <td>-0.505200</td>\n      <td>-0.02</td>\n      <td>1.54</td>\n      <td>450314.0</td>\n      <td>NaN</td>\n      <td>446334.0</td>\n      <td>2.0</td>\n      <td>9.0</td>\n      <td>Top</td>\n      <td>NaN</td>\n      <td>NaN</td>\n      <td>...</td>\n      <td>-39.876</td>\n      <td>3.22</td>\n      <td>1.61</td>\n      <td>NaN</td>\n      <td>NaN</td>\n      <td>NaN</td>\n      <td>NaN</td>\n      <td>NaN</td>\n      <td>NaN</td>\n      <td>265479.0</td>\n      <td>453344.0</td>\n      <td>NaN</td>\n      <td>NaN</td>\n      <td>NaN</td>\n      <td>NaN</td>\n      <td>NaN</td>\n      <td>NaN</td>\n      <td>NaN</td>\n      <td>NaN</td>\n      <td>NaN</td>\n      <td>NaN</td>\n      <td>NaN</td>\n      <td>NaN</td>\n      <td>NaN</td>\n      <td>NaN</td>\n      <td>NaN</td>\n      <td>NaN</td>\n      <td>64.0</td>\n      <td>5.0</td>\n      <td>Slider</td>\n      <td>1.0</td>\n      <td>0.0</td>\n      <td>0.0</td>\n      <td>1.0</td>\n      <td>0.0</td>\n      <td>1.0</td>\n      <td>0.0</td>\n      <td>1.0</td>\n      <td>NaN</td>\n      <td>NaN</td>\n    </tr>\n    <tr>\n      <th>4</th>\n      <td>470</td>\n      <td>FF</td>\n      <td>2010-08-08</td>\n      <td>93.1</td>\n      <td>NaN</td>\n      <td>NaN</td>\n      <td>Brandon Morrow</td>\n      <td>430681.0</td>\n      <td>453344.0</td>\n      <td>NaN</td>\n      <td>foul</td>\n      <td>NaN</td>\n      <td>NaN</td>\n      <td>NaN</td>\n      <td>NaN</td>\n      <td>56.0</td>\n      <td>NaN</td>\n      <td>R</td>\n      <td>L</td>\n      <td>R</td>\n      <td>TOR</td>\n      <td>TB</td>\n      <td>S</td>\n      <td>NaN</td>\n      <td>NaN</td>\n      <td>2.0</td>\n      <td>1.0</td>\n      <td>2010.0</td>\n      <td>-0.729808</td>\n      <td>1.290767</td>\n      <td>1.13</td>\n      <td>2.76</td>\n      <td>450314.0</td>\n      <td>NaN</td>\n      <td>446334.0</td>\n      <td>2.0</td>\n      <td>9.0</td>\n      <td>Top</td>\n      <td>NaN</td>\n      <td>NaN</td>\n      <td>...</td>\n      <td>-18.113</td>\n      <td>3.22</td>\n      <td>1.61</td>\n      <td>NaN</td>\n      <td>NaN</td>\n      <td>NaN</td>\n      <td>NaN</td>\n      <td>NaN</td>\n      <td>NaN</td>\n      <td>265479.0</td>\n      <td>453344.0</td>\n      <td>NaN</td>\n      <td>NaN</td>\n      <td>NaN</td>\n      <td>NaN</td>\n      <td>NaN</td>\n      <td>NaN</td>\n      <td>NaN</td>\n      <td>NaN</td>\n      <td>NaN</td>\n      <td>NaN</td>\n      <td>NaN</td>\n      <td>NaN</td>\n      <td>NaN</td>\n      <td>NaN</td>\n      <td>NaN</td>\n      <td>NaN</td>\n      <td>64.0</td>\n      <td>4.0</td>\n      <td>4-Seam Fastball</td>\n      <td>1.0</td>\n      <td>0.0</td>\n      <td>0.0</td>\n      <td>1.0</td>\n      <td>0.0</td>\n      <td>1.0</td>\n      <td>0.0</td>\n      <td>1.0</td>\n      <td>NaN</td>\n      <td>NaN</td>\n    </tr>\n  </tbody>\n</table>\n<p>5 rows × 90 columns</p>\n</div>"
     },
     "metadata": {},
     "execution_count": 14
    }
   ],
   "source": []
  },
  {
   "cell_type": "code",
   "execution_count": 16,
   "metadata": {},
   "outputs": [
    {
     "output_type": "execute_result",
     "data": {
      "text/plain": "Empty DataFrame\nColumns: [index, pitch_type, game_date, release_speed, release_pos_x, release_pos_z, player_name, batter, pitcher, events, description, spin_dir, spin_rate_deprecated, break_angle_deprecated, break_length_deprecated, zone, des, game_type, stand, p_throws, home_team, away_team, type, hit_location, bb_type, balls, strikes, game_year, pfx_x, pfx_z, plate_x, plate_z, on_3b, on_2b, on_1b, outs_when_up, inning, inning_topbot, hc_x, hc_y, tfs_deprecated, tfs_zulu_deprecated, fielder_2, umpire, sv_id, vx0, vy0, vz0, ax, ay, az, sz_top, sz_bot, hit_distance_sc, launch_speed, launch_angle, effective_speed, release_spin_rate, release_extension, game_pk, pitcher.1, fielder_2.1, fielder_3, fielder_4, fielder_5, fielder_6, fielder_7, fielder_8, fielder_9, release_pos_y, estimated_ba_using_speedangle, estimated_woba_using_speedangle, woba_value, woba_denom, babip_value, iso_value, launch_speed_angle, at_bat_number, pitch_number, pitch_name, home_score, away_score, bat_score, fld_score, post_away_score, post_home_score, post_bat_score, post_fld_score, if_fielding_alignment, of_fielding_alignment]\nIndex: []\n\n[0 rows x 90 columns]",
      "text/html": "<div>\n<style scoped>\n    .dataframe tbody tr th:only-of-type {\n        vertical-align: middle;\n    }\n\n    .dataframe tbody tr th {\n        vertical-align: top;\n    }\n\n    .dataframe thead th {\n        text-align: right;\n    }\n</style>\n<table border=\"1\" class=\"dataframe\">\n  <thead>\n    <tr style=\"text-align: right;\">\n      <th></th>\n      <th>index</th>\n      <th>pitch_type</th>\n      <th>game_date</th>\n      <th>release_speed</th>\n      <th>release_pos_x</th>\n      <th>release_pos_z</th>\n      <th>player_name</th>\n      <th>batter</th>\n      <th>pitcher</th>\n      <th>events</th>\n      <th>description</th>\n      <th>spin_dir</th>\n      <th>spin_rate_deprecated</th>\n      <th>break_angle_deprecated</th>\n      <th>break_length_deprecated</th>\n      <th>zone</th>\n      <th>des</th>\n      <th>game_type</th>\n      <th>stand</th>\n      <th>p_throws</th>\n      <th>home_team</th>\n      <th>away_team</th>\n      <th>type</th>\n      <th>hit_location</th>\n      <th>bb_type</th>\n      <th>balls</th>\n      <th>strikes</th>\n      <th>game_year</th>\n      <th>pfx_x</th>\n      <th>pfx_z</th>\n      <th>plate_x</th>\n      <th>plate_z</th>\n      <th>on_3b</th>\n      <th>on_2b</th>\n      <th>on_1b</th>\n      <th>outs_when_up</th>\n      <th>inning</th>\n      <th>inning_topbot</th>\n      <th>hc_x</th>\n      <th>hc_y</th>\n      <th>...</th>\n      <th>az</th>\n      <th>sz_top</th>\n      <th>sz_bot</th>\n      <th>hit_distance_sc</th>\n      <th>launch_speed</th>\n      <th>launch_angle</th>\n      <th>effective_speed</th>\n      <th>release_spin_rate</th>\n      <th>release_extension</th>\n      <th>game_pk</th>\n      <th>pitcher.1</th>\n      <th>fielder_2.1</th>\n      <th>fielder_3</th>\n      <th>fielder_4</th>\n      <th>fielder_5</th>\n      <th>fielder_6</th>\n      <th>fielder_7</th>\n      <th>fielder_8</th>\n      <th>fielder_9</th>\n      <th>release_pos_y</th>\n      <th>estimated_ba_using_speedangle</th>\n      <th>estimated_woba_using_speedangle</th>\n      <th>woba_value</th>\n      <th>woba_denom</th>\n      <th>babip_value</th>\n      <th>iso_value</th>\n      <th>launch_speed_angle</th>\n      <th>at_bat_number</th>\n      <th>pitch_number</th>\n      <th>pitch_name</th>\n      <th>home_score</th>\n      <th>away_score</th>\n      <th>bat_score</th>\n      <th>fld_score</th>\n      <th>post_away_score</th>\n      <th>post_home_score</th>\n      <th>post_bat_score</th>\n      <th>post_fld_score</th>\n      <th>if_fielding_alignment</th>\n      <th>of_fielding_alignment</th>\n    </tr>\n  </thead>\n  <tbody>\n  </tbody>\n</table>\n<p>0 rows × 90 columns</p>\n</div>"
     },
     "metadata": {},
     "execution_count": 16
    }
   ],
   "source": []
  },
  {
   "cell_type": "code",
   "execution_count": null,
   "metadata": {},
   "outputs": [],
   "source": []
  }
 ]
}