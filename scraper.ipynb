{
 "metadata": {
  "language_info": {
   "codemirror_mode": {
    "name": "ipython",
    "version": 3
   },
   "file_extension": ".py",
   "mimetype": "text/x-python",
   "name": "python",
   "nbconvert_exporter": "python",
   "pygments_lexer": "ipython3",
   "version": "3.8.3-final"
  },
  "orig_nbformat": 2,
  "kernelspec": {
   "name": "python3",
   "display_name": "Python 3"
  }
 },
 "nbformat": 4,
 "nbformat_minor": 2,
 "cells": [
  {
   "cell_type": "markdown",
   "metadata": {},
   "source": [
    "# We're scraping\n",
    "\n",
    "Probably going to just scrape it all. \n",
    "\n",
    "See [baseball-scraper](https://pypi.org/project/baseball-scraper/) for examples."
   ]
  },
  {
   "cell_type": "code",
   "execution_count": 2,
   "metadata": {},
   "outputs": [],
   "source": [
    "from baseball_scraper import statcast\n",
    "from baseball_scraper import playerid_lookup\n",
    "\n",
    "import pandas as pd \n",
    "import datetime "
   ]
  },
  {
   "cell_type": "code",
   "execution_count": 2,
   "metadata": {},
   "outputs": [
    {
     "output_type": "execute_result",
     "data": {
      "text/plain": "'2018-01-01'"
     },
     "metadata": {},
     "execution_count": 2
    }
   ],
   "source": [
    "##What happens if I ask for a date on which no games are played... \n",
    "##Like I write a function and uh-oh, all-star break included...\n",
    "\n",
    "##Looking for a date pre statcast gives a table with lots of NaN values. \n",
    "#pre_stat_scrape = statcast(start_dt='2010-08-08', verbose=True)\n",
    "\n",
    "##Looking for a date on which no games were played gives a dataframe of shape 0x90\n",
    "#january_scrape = statcast(start_dt='2018-01-01', verbose=True)\n",
    "\n",
    "\n"
   ]
  },
  {
   "cell_type": "code",
   "execution_count": 4,
   "metadata": {
    "tags": []
   },
   "outputs": [
    {
     "output_type": "execute_result",
     "data": {
      "text/plain": "'2020-07-23'"
     },
     "metadata": {},
     "execution_count": 4
    }
   ],
   "source": [
    "start = datetime.date(2020,7,23).strftime(\"%Y-%m-%d\")\n",
    "end = datetime.date(2020,8,18).strftime(\"%Y-%m-%d\")##This is the world's third hardest way to write '2020-08-18', but you're maybe using it later.\n",
    "start"
   ]
  },
  {
   "cell_type": "code",
   "execution_count": 12,
   "metadata": {
    "tags": []
   },
   "outputs": [],
   "source": [
    "## Scrapes time slices based on a date range. Returns a list of successfully scraped time slices.\n",
    "\n",
    "def big_scrape(start,end):\n",
    "    '''\n",
    "    Returns a DataFrame of all the successfull scraped time slices in range start, end. \n",
    "    \n",
    "    If an exception     is raised, prints a brief report, stops scraping, and returns\n",
    "    all the successfully scraped slices.\n",
    "    '''\n",
    "    scrapes = [] ##\n",
    "    while True:\n",
    "        try:\n",
    "            temp = statcast(start.strftime(\"%Y-%m-%d\"), (start+datetime.timedelta(days=4)).strftime(\"%Y-%m-%d\"))\n",
    "        except ParserError:\n",
    "            print(\"ParserError failure at {}\".format(start.strftime(\"%Y-%m-%d\")))\n",
    "            break\n",
    "        except:\n",
    "            print(\"Unspecified failure at {}\".format(start.strftime(\"%Y-%m-%d\")))\n",
    "            break\n",
    "        scrapes.append(temp)\n",
    "        start = start+datetime.timedelta(days=5)\n",
    "        if start > end:\n",
    "            break\n",
    "    return pd.concat(scrapes)"
   ]
  },
  {
   "cell_type": "code",
   "execution_count": 9,
   "metadata": {
    "tags": []
   },
   "outputs": [
    {
     "output_type": "stream",
     "name": "stdout",
     "text": "Finished with statcast year 2019.\nFinished with statcast year 2018.\nFinished with statcast year 2017.\nFinished with statcast year 2016.\n"
    }
   ],
   "source": [
    "## Creates all the .csv files.\n",
    "\n",
    "for dt in [2019,2018,2017,2016]:\n",
    "    start = datetime.date(dt,3,20)\n",
    "    end = datetime.date(dt,10,1)\n",
    "    scrape = big_scrape(start,end)\n",
    "    scrape.to_csv('data/statcast_dumps/statcast'+str(dt)+'.csv')\n",
    "    print(\"Finished with statcast year {}.\".format(dt))\n",
    "    del scrape"
   ]
  },
  {
   "cell_type": "code",
   "execution_count": 20,
   "metadata": {},
   "outputs": [],
   "source": [
    "## updating the current year efficiently\n",
    "\n",
    "def update_statcast(target_csv_name):\n",
    "    '''\n",
    "    Scapes any statcast data after the last game_date \n",
    "    in the year of the target file and adds it, returning a DataFrame that concatenates the\n",
    "    new data with the old.\n",
    "    \n",
    "    '''\n",
    "    out = pd.read_csv(target_csv_name)\n",
    "    start = pd.Timestamp(out['game_date'].sort_values().iloc[-1])\n",
    "    end = datetime.datetime.now()\n",
    "    new = pd.concat(big_scrape(start, end))\n",
    "    out = pd.concat([out,new])\n",
    "    return out\n",
    "\n",
    "\n"
   ]
  },
  {
   "cell_type": "code",
   "execution_count": 21,
   "metadata": {
    "tags": []
   },
   "outputs": [
    {
     "output_type": "stream",
     "name": "stdout",
     "text": "2020-08-18 00:00:00 2020-08-21 08:13:17.989416\n"
    }
   ],
   "source": [
    "sc_2020 = update_statcast('data/statcast_dumps/statcast2020.csv')"
   ]
  },
  {
   "cell_type": "code",
   "execution_count": 22,
   "metadata": {},
   "outputs": [
    {
     "output_type": "execute_result",
     "data": {
      "text/plain": "       Unnamed: 0  index pitch_type            game_date  release_speed  \\\n0             0.0     25         SL           2020-08-18           85.7   \n1             1.0     31         SL           2020-08-18           85.9   \n2             2.0     34         SI           2020-08-18           95.8   \n3             3.0     39         SI           2020-08-18           95.3   \n4             4.0     41         SI           2020-08-18           94.3   \n...           ...    ...        ...                  ...            ...   \n13130         NaN  13078         FF  2020-08-18 00:00:00           97.7   \n13131         NaN  13079         FC  2020-08-18 00:00:00           91.8   \n13132         NaN  13098         CH  2020-08-18 00:00:00           85.8   \n13133         NaN  13119         FF  2020-08-18 00:00:00           95.2   \n13134         NaN  13122         FF  2020-08-18 00:00:00           95.7   \n\n       release_pos_x  release_pos_z   player_name    batter   pitcher  ...  \\\n0          -0.753952       5.837731  Anthony Bass  592407.0  542914.0  ...   \n1          -0.705461       5.807248  Anthony Bass  592407.0  542914.0  ...   \n2          -0.704409       5.935278  Anthony Bass  592407.0  542914.0  ...   \n3          -0.397764       5.941654  Anthony Bass  592407.0  542914.0  ...   \n4          -0.287143       6.163535  Anthony Bass  592407.0  542914.0  ...   \n...              ...            ...           ...       ...       ...  ...   \n13130      -1.301370       5.691097   Luke Weaver  543760.0  596133.0  ...   \n13131      -1.192651       5.699736   Luke Weaver  543760.0  596133.0  ...   \n13132      -1.455621       5.622799   Luke Weaver  543760.0  596133.0  ...   \n13133      -1.335501       5.584656   Luke Weaver  543760.0  596133.0  ...   \n13134      -1.329972       5.747342   Luke Weaver  543760.0  596133.0  ...   \n\n      home_score away_score  bat_score  fld_score  post_away_score  \\\n0            7.0        8.0        7.0        8.0              8.0   \n1            7.0        8.0        7.0        8.0              8.0   \n2            7.0        8.0        7.0        8.0              8.0   \n3            7.0        8.0        7.0        8.0              8.0   \n4            7.0        8.0        7.0        8.0              8.0   \n...          ...        ...        ...        ...              ...   \n13130        0.0        0.0        0.0        0.0              0.0   \n13131        0.0        0.0        0.0        0.0              0.0   \n13132        0.0        0.0        0.0        0.0              0.0   \n13133        0.0        0.0        0.0        0.0              0.0   \n13134        0.0        0.0        0.0        0.0              0.0   \n\n       post_home_score  post_bat_score post_fld_score if_fielding_alignment  \\\n0                  7.0             7.0            8.0         Infield shift   \n1                  7.0             7.0            8.0         Infield shift   \n2                  7.0             7.0            8.0         Infield shift   \n3                  7.0             7.0            8.0         Infield shift   \n4                  7.0             7.0            8.0         Infield shift   \n...                ...             ...            ...                   ...   \n13130              0.0             0.0            0.0         Infield shift   \n13131              0.0             0.0            0.0         Infield shift   \n13132              0.0             0.0            0.0         Infield shift   \n13133              0.0             0.0            0.0         Infield shift   \n13134              0.0             0.0            0.0         Infield shift   \n\n      of_fielding_alignment  \n0                  Standard  \n1                  Standard  \n2                  Standard  \n3                  Standard  \n4                  Standard  \n...                     ...  \n13130              Standard  \n13131              Standard  \n13132              Standard  \n13133              Standard  \n13134              Standard  \n\n[112115 rows x 91 columns]",
      "text/html": "<div>\n<style scoped>\n    .dataframe tbody tr th:only-of-type {\n        vertical-align: middle;\n    }\n\n    .dataframe tbody tr th {\n        vertical-align: top;\n    }\n\n    .dataframe thead th {\n        text-align: right;\n    }\n</style>\n<table border=\"1\" class=\"dataframe\">\n  <thead>\n    <tr style=\"text-align: right;\">\n      <th></th>\n      <th>Unnamed: 0</th>\n      <th>index</th>\n      <th>pitch_type</th>\n      <th>game_date</th>\n      <th>release_speed</th>\n      <th>release_pos_x</th>\n      <th>release_pos_z</th>\n      <th>player_name</th>\n      <th>batter</th>\n      <th>pitcher</th>\n      <th>...</th>\n      <th>home_score</th>\n      <th>away_score</th>\n      <th>bat_score</th>\n      <th>fld_score</th>\n      <th>post_away_score</th>\n      <th>post_home_score</th>\n      <th>post_bat_score</th>\n      <th>post_fld_score</th>\n      <th>if_fielding_alignment</th>\n      <th>of_fielding_alignment</th>\n    </tr>\n  </thead>\n  <tbody>\n    <tr>\n      <th>0</th>\n      <td>0.0</td>\n      <td>25</td>\n      <td>SL</td>\n      <td>2020-08-18</td>\n      <td>85.7</td>\n      <td>-0.753952</td>\n      <td>5.837731</td>\n      <td>Anthony Bass</td>\n      <td>592407.0</td>\n      <td>542914.0</td>\n      <td>...</td>\n      <td>7.0</td>\n      <td>8.0</td>\n      <td>7.0</td>\n      <td>8.0</td>\n      <td>8.0</td>\n      <td>7.0</td>\n      <td>7.0</td>\n      <td>8.0</td>\n      <td>Infield shift</td>\n      <td>Standard</td>\n    </tr>\n    <tr>\n      <th>1</th>\n      <td>1.0</td>\n      <td>31</td>\n      <td>SL</td>\n      <td>2020-08-18</td>\n      <td>85.9</td>\n      <td>-0.705461</td>\n      <td>5.807248</td>\n      <td>Anthony Bass</td>\n      <td>592407.0</td>\n      <td>542914.0</td>\n      <td>...</td>\n      <td>7.0</td>\n      <td>8.0</td>\n      <td>7.0</td>\n      <td>8.0</td>\n      <td>8.0</td>\n      <td>7.0</td>\n      <td>7.0</td>\n      <td>8.0</td>\n      <td>Infield shift</td>\n      <td>Standard</td>\n    </tr>\n    <tr>\n      <th>2</th>\n      <td>2.0</td>\n      <td>34</td>\n      <td>SI</td>\n      <td>2020-08-18</td>\n      <td>95.8</td>\n      <td>-0.704409</td>\n      <td>5.935278</td>\n      <td>Anthony Bass</td>\n      <td>592407.0</td>\n      <td>542914.0</td>\n      <td>...</td>\n      <td>7.0</td>\n      <td>8.0</td>\n      <td>7.0</td>\n      <td>8.0</td>\n      <td>8.0</td>\n      <td>7.0</td>\n      <td>7.0</td>\n      <td>8.0</td>\n      <td>Infield shift</td>\n      <td>Standard</td>\n    </tr>\n    <tr>\n      <th>3</th>\n      <td>3.0</td>\n      <td>39</td>\n      <td>SI</td>\n      <td>2020-08-18</td>\n      <td>95.3</td>\n      <td>-0.397764</td>\n      <td>5.941654</td>\n      <td>Anthony Bass</td>\n      <td>592407.0</td>\n      <td>542914.0</td>\n      <td>...</td>\n      <td>7.0</td>\n      <td>8.0</td>\n      <td>7.0</td>\n      <td>8.0</td>\n      <td>8.0</td>\n      <td>7.0</td>\n      <td>7.0</td>\n      <td>8.0</td>\n      <td>Infield shift</td>\n      <td>Standard</td>\n    </tr>\n    <tr>\n      <th>4</th>\n      <td>4.0</td>\n      <td>41</td>\n      <td>SI</td>\n      <td>2020-08-18</td>\n      <td>94.3</td>\n      <td>-0.287143</td>\n      <td>6.163535</td>\n      <td>Anthony Bass</td>\n      <td>592407.0</td>\n      <td>542914.0</td>\n      <td>...</td>\n      <td>7.0</td>\n      <td>8.0</td>\n      <td>7.0</td>\n      <td>8.0</td>\n      <td>8.0</td>\n      <td>7.0</td>\n      <td>7.0</td>\n      <td>8.0</td>\n      <td>Infield shift</td>\n      <td>Standard</td>\n    </tr>\n    <tr>\n      <th>...</th>\n      <td>...</td>\n      <td>...</td>\n      <td>...</td>\n      <td>...</td>\n      <td>...</td>\n      <td>...</td>\n      <td>...</td>\n      <td>...</td>\n      <td>...</td>\n      <td>...</td>\n      <td>...</td>\n      <td>...</td>\n      <td>...</td>\n      <td>...</td>\n      <td>...</td>\n      <td>...</td>\n      <td>...</td>\n      <td>...</td>\n      <td>...</td>\n      <td>...</td>\n      <td>...</td>\n    </tr>\n    <tr>\n      <th>13130</th>\n      <td>NaN</td>\n      <td>13078</td>\n      <td>FF</td>\n      <td>2020-08-18 00:00:00</td>\n      <td>97.7</td>\n      <td>-1.301370</td>\n      <td>5.691097</td>\n      <td>Luke Weaver</td>\n      <td>543760.0</td>\n      <td>596133.0</td>\n      <td>...</td>\n      <td>0.0</td>\n      <td>0.0</td>\n      <td>0.0</td>\n      <td>0.0</td>\n      <td>0.0</td>\n      <td>0.0</td>\n      <td>0.0</td>\n      <td>0.0</td>\n      <td>Infield shift</td>\n      <td>Standard</td>\n    </tr>\n    <tr>\n      <th>13131</th>\n      <td>NaN</td>\n      <td>13079</td>\n      <td>FC</td>\n      <td>2020-08-18 00:00:00</td>\n      <td>91.8</td>\n      <td>-1.192651</td>\n      <td>5.699736</td>\n      <td>Luke Weaver</td>\n      <td>543760.0</td>\n      <td>596133.0</td>\n      <td>...</td>\n      <td>0.0</td>\n      <td>0.0</td>\n      <td>0.0</td>\n      <td>0.0</td>\n      <td>0.0</td>\n      <td>0.0</td>\n      <td>0.0</td>\n      <td>0.0</td>\n      <td>Infield shift</td>\n      <td>Standard</td>\n    </tr>\n    <tr>\n      <th>13132</th>\n      <td>NaN</td>\n      <td>13098</td>\n      <td>CH</td>\n      <td>2020-08-18 00:00:00</td>\n      <td>85.8</td>\n      <td>-1.455621</td>\n      <td>5.622799</td>\n      <td>Luke Weaver</td>\n      <td>543760.0</td>\n      <td>596133.0</td>\n      <td>...</td>\n      <td>0.0</td>\n      <td>0.0</td>\n      <td>0.0</td>\n      <td>0.0</td>\n      <td>0.0</td>\n      <td>0.0</td>\n      <td>0.0</td>\n      <td>0.0</td>\n      <td>Infield shift</td>\n      <td>Standard</td>\n    </tr>\n    <tr>\n      <th>13133</th>\n      <td>NaN</td>\n      <td>13119</td>\n      <td>FF</td>\n      <td>2020-08-18 00:00:00</td>\n      <td>95.2</td>\n      <td>-1.335501</td>\n      <td>5.584656</td>\n      <td>Luke Weaver</td>\n      <td>543760.0</td>\n      <td>596133.0</td>\n      <td>...</td>\n      <td>0.0</td>\n      <td>0.0</td>\n      <td>0.0</td>\n      <td>0.0</td>\n      <td>0.0</td>\n      <td>0.0</td>\n      <td>0.0</td>\n      <td>0.0</td>\n      <td>Infield shift</td>\n      <td>Standard</td>\n    </tr>\n    <tr>\n      <th>13134</th>\n      <td>NaN</td>\n      <td>13122</td>\n      <td>FF</td>\n      <td>2020-08-18 00:00:00</td>\n      <td>95.7</td>\n      <td>-1.329972</td>\n      <td>5.747342</td>\n      <td>Luke Weaver</td>\n      <td>543760.0</td>\n      <td>596133.0</td>\n      <td>...</td>\n      <td>0.0</td>\n      <td>0.0</td>\n      <td>0.0</td>\n      <td>0.0</td>\n      <td>0.0</td>\n      <td>0.0</td>\n      <td>0.0</td>\n      <td>0.0</td>\n      <td>Infield shift</td>\n      <td>Standard</td>\n    </tr>\n  </tbody>\n</table>\n<p>112115 rows × 91 columns</p>\n</div>"
     },
     "metadata": {},
     "execution_count": 22
    }
   ],
   "source": [
    "sc_2020"
   ]
  },
  {
   "cell_type": "code",
   "execution_count": null,
   "metadata": {},
   "outputs": [],
   "source": []
  }
 ]
}