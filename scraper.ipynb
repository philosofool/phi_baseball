{
 "metadata": {
  "language_info": {
   "codemirror_mode": {
    "name": "ipython",
    "version": 3
   },
   "file_extension": ".py",
   "mimetype": "text/x-python",
   "name": "python",
   "nbconvert_exporter": "python",
   "pygments_lexer": "ipython3",
   "version": "3.8.3-final"
  },
  "orig_nbformat": 2,
  "kernelspec": {
   "name": "python3",
   "display_name": "Python 3"
  }
 },
 "nbformat": 4,
 "nbformat_minor": 2,
 "cells": [
  {
   "cell_type": "markdown",
   "metadata": {},
   "source": [
    "# We're scraping\n",
    "\n",
    "Probably going to just scrape it all. \n",
    "\n",
    "See [baseball-scraper](https://pypi.org/project/baseball-scraper/) for examples."
   ]
  },
  {
   "cell_type": "code",
   "execution_count": 1,
   "metadata": {},
   "outputs": [],
   "source": [
    "from baseball_scraper import statcast\n",
    "from baseball_scraper import playerid_lookup\n",
    "\n",
    "import pandas as pd \n",
    "import datetime #don't know if I'll need this."
   ]
  },
  {
   "cell_type": "code",
   "execution_count": 2,
   "metadata": {},
   "outputs": [
    {
     "output_type": "execute_result",
     "data": {
      "text/plain": "'2018-01-01'"
     },
     "metadata": {},
     "execution_count": 2
    }
   ],
   "source": [
    "##What happens if I ask for a date on which no games are played... \n",
    "##Like I write a function and uh-oh, all-star break included...\n",
    "\n",
    "##Looking for a date pre statcast gives a table with lots of NaN values. \n",
    "#pre_stat_scrape = statcast(start_dt='2010-08-08', verbose=True)\n",
    "\n",
    "##Looking for a date on which no games were played gives a dataframe of shape 0x90\n",
    "#january_scrape = statcast(start_dt='2018-01-01', verbose=True)\n",
    "\n",
    "start_data = datetime.datetime(2018,1,1)\n",
    "pd.to_datetime(start_data).date().strftime(\"%Y-%m-%d\")\n",
    "\n"
   ]
  },
  {
   "cell_type": "code",
   "execution_count": 3,
   "metadata": {
    "tags": []
   },
   "outputs": [
    {
     "output_type": "stream",
     "name": "stdout",
     "text": "This is a large query, it may take a moment to complete\nCompleted sub-query from 2020-07-23 to 2020-07-28\nCompleted sub-query from 2020-07-29 to 2020-08-03\nCompleted sub-query from 2020-08-04 to 2020-08-09\nCompleted sub-query from 2020-08-10 to 2020-08-15\nCompleted sub-query from 2020-08-16 to 2020-08-18\n"
    }
   ],
   "source": [
    "start = datetime.date(2020,7,23).strftime(\"%Y-%m-%d\")\n",
    "end = datetime.date(2020,8,18).strftime(\"%Y-%m-%d\")##This is the world's third hardest way to write '2020-08-18', but you're maybe using it later.\n",
    "\n",
    "sc_2020 = statcast(start,end)"
   ]
  },
  {
   "cell_type": "code",
   "execution_count": 5,
   "metadata": {},
   "outputs": [],
   "source": [
    "sc_2020.to_csv('statcast2020.csv')"
   ]
  },
  {
   "cell_type": "code",
   "execution_count": 6,
   "metadata": {},
   "outputs": [],
   "source": [
    "del sc_2020"
   ]
  },
  {
   "cell_type": "code",
   "execution_count": 7,
   "metadata": {
    "tags": []
   },
   "outputs": [
    {
     "output_type": "stream",
     "name": "stdout",
     "text": "2020-08-19 10:32:58.162340\n2020-08-19 10:32:58.162670\n"
    }
   ],
   "source": [
    "print(datetime.datetime.now())\n",
    "#start = datetime.date(2019,3,20).strftime(\"%Y-%m-%d\")\n",
    "#end = datetime.date(2019,10,1).strftime(\"%Y-%m-%d\")\n",
    "###sc_2019 = statcast(start,end)## THis ended up producing an error.\n",
    "###I guess I'm not surprised. There's a lot going on here.datetime\n",
    "def big_scrape(start,end):\n",
    "    scrapes = [] ##\n",
    "    while True:\n",
    "        try:\n",
    "            temp = statcast(start.strftime(\"%Y-%m-%d\"), (start+datetime.timedelta(days=4)).strftime(\"%Y-%m-%d\"))\n",
    "        except ParserError:\n",
    "            print(\"ParserError failure at {}\".format(start.strftime(\"%Y-%m-%d\")))\n",
    "            break\n",
    "        except:\n",
    "            print(\"Unspecified failure at {}\".format(start.strftime(\"%Y-%m-%d\")))\n",
    "            break\n",
    "        scrapes.append(temp)\n",
    "        start = start+datetime.timedelta(days=5)\n",
    "        if start > end:\n",
    "            break\n",
    "    return scrapes\n",
    "\n",
    "\n",
    "print(datetime.datetime.now())"
   ]
  },
  {
   "cell_type": "code",
   "execution_count": 8,
   "metadata": {},
   "outputs": [
    {
     "output_type": "error",
     "ename": "NameError",
     "evalue": "name 'df' is not defined",
     "traceback": [
      "\u001b[0;31m---------------------------------------------------------------------------\u001b[0m",
      "\u001b[0;31mNameError\u001b[0m                                 Traceback (most recent call last)",
      "\u001b[0;32m<ipython-input-8-6328dbd36525>\u001b[0m in \u001b[0;36m<module>\u001b[0;34m\u001b[0m\n\u001b[1;32m      1\u001b[0m \u001b[0;32mfor\u001b[0m \u001b[0mdt\u001b[0m \u001b[0;32min\u001b[0m \u001b[0;34m[\u001b[0m\u001b[0;36m2019\u001b[0m\u001b[0;34m,\u001b[0m\u001b[0;36m2018\u001b[0m\u001b[0;34m,\u001b[0m\u001b[0;36m2017\u001b[0m\u001b[0;34m,\u001b[0m\u001b[0;36m2016\u001b[0m\u001b[0;34m]\u001b[0m\u001b[0;34m:\u001b[0m\u001b[0;34m\u001b[0m\u001b[0;34m\u001b[0m\u001b[0m\n\u001b[1;32m      2\u001b[0m     \u001b[0mstart\u001b[0m \u001b[0;34m=\u001b[0m \u001b[0mdatetime\u001b[0m\u001b[0;34m.\u001b[0m\u001b[0mdate\u001b[0m\u001b[0;34m(\u001b[0m\u001b[0mdt\u001b[0m\u001b[0;34m,\u001b[0m\u001b[0;36m3\u001b[0m\u001b[0;34m,\u001b[0m\u001b[0;36m20\u001b[0m\u001b[0;34m)\u001b[0m\u001b[0;34m\u001b[0m\u001b[0;34m\u001b[0m\u001b[0m\n\u001b[0;32m----> 3\u001b[0;31m     \u001b[0mend\u001b[0m \u001b[0;34m=\u001b[0m \u001b[0mdatetime\u001b[0m\u001b[0;34m.\u001b[0m\u001b[0mdate\u001b[0m\u001b[0;34m(\u001b[0m\u001b[0mdf\u001b[0m\u001b[0;34m,\u001b[0m\u001b[0;36m10\u001b[0m\u001b[0;34m,\u001b[0m\u001b[0;36m1\u001b[0m\u001b[0;34m)\u001b[0m\u001b[0;34m\u001b[0m\u001b[0;34m\u001b[0m\u001b[0m\n\u001b[0m\u001b[1;32m      4\u001b[0m     \u001b[0mscrape\u001b[0m \u001b[0;34m=\u001b[0m \u001b[0mbig_scrape\u001b[0m\u001b[0;34m(\u001b[0m\u001b[0mstart\u001b[0m\u001b[0;34m,\u001b[0m\u001b[0mend\u001b[0m\u001b[0;34m)\u001b[0m\u001b[0;34m\u001b[0m\u001b[0;34m\u001b[0m\u001b[0m\n\u001b[1;32m      5\u001b[0m     \u001b[0mpd\u001b[0m\u001b[0;34m.\u001b[0m\u001b[0mconcat\u001b[0m\u001b[0;34m(\u001b[0m\u001b[0mscrape\u001b[0m\u001b[0;34m)\u001b[0m\u001b[0;34m.\u001b[0m\u001b[0mto_csv\u001b[0m\u001b[0;34m(\u001b[0m\u001b[0;34m'statcast'\u001b[0m\u001b[0;34m+\u001b[0m\u001b[0mstr\u001b[0m\u001b[0;34m(\u001b[0m\u001b[0mdt\u001b[0m\u001b[0;34m)\u001b[0m\u001b[0;34m+\u001b[0m\u001b[0;34m'.csv'\u001b[0m\u001b[0;34m)\u001b[0m\u001b[0;34m\u001b[0m\u001b[0;34m\u001b[0m\u001b[0m\n",
      "\u001b[0;31mNameError\u001b[0m: name 'df' is not defined"
     ]
    }
   ],
   "source": [
    "for dt in [2019,2018,2017,2016]:\n",
    "    start = datetime.date(dt,3,20)\n",
    "    end = datetime.date(dt,10,1)\n",
    "    scrape = big_scrape(start,end)\n",
    "    pd.concat(scrape).to_csv('statcast'+str(dt)+'.csv')\n",
    "    print(\"Finished with statcast year {}.\".format(dt))\n",
    "    del scrape"
   ]
  },
  {
   "cell_type": "code",
   "execution_count": 20,
   "metadata": {},
   "outputs": [
    {
     "output_type": "execute_result",
     "data": {
      "text/plain": "      index pitch_type  game_date  release_speed  release_pos_x  \\\n0       154         SI 2019-03-29          100.2      -2.549981   \n1       155         SL 2019-03-29           84.2      -2.557062   \n2       158         CH 2019-03-29           89.4      -2.563425   \n3       159         SI 2019-03-29          100.7      -2.313411   \n4       162         SI 2019-03-29          100.1      -2.392935   \n...     ...        ...        ...            ...            ...   \n6536   6477         CH 2019-03-28           88.0      -2.868703   \n6537   6484         FF 2019-03-28           96.4      -2.773471   \n6538   6509         CH 2019-03-28           88.6      -2.876455   \n6539   6511         FF 2019-03-28           95.8      -2.762156   \n6540   6538         FF 2019-03-28           96.0      -2.903912   \n\n      release_pos_z    player_name    batter   pitcher     events  ...  \\\n0          6.274024   Jordan Hicks  606115.0  663855.0  field_out  ...   \n1          6.021211   Jordan Hicks  606115.0  663855.0        NaN  ...   \n2          5.978502   Jordan Hicks  518735.0  663855.0  strikeout  ...   \n3          6.069608   Jordan Hicks  518735.0  663855.0        NaN  ...   \n4          6.314507   Jordan Hicks  518735.0  663855.0        NaN  ...   \n...             ...            ...       ...       ...        ...  ...   \n6536       4.934759  Luis Castillo  466320.0  622491.0  strikeout  ...   \n6537       5.243966  Luis Castillo  466320.0  622491.0        NaN  ...   \n6538       5.095479  Luis Castillo  466320.0  622491.0        NaN  ...   \n6539       5.190272  Luis Castillo  466320.0  622491.0        NaN  ...   \n6540       5.215291  Luis Castillo  624428.0  622491.0  field_out  ...   \n\n     home_score  away_score  bat_score  fld_score  post_away_score  \\\n0           5.0         9.0        5.0        9.0              9.0   \n1           5.0         9.0        5.0        9.0              9.0   \n2           5.0         9.0        5.0        9.0              9.0   \n3           5.0         9.0        5.0        9.0              9.0   \n4           5.0         9.0        5.0        9.0              9.0   \n...         ...         ...        ...        ...              ...   \n6536        0.0         0.0        0.0        0.0              0.0   \n6537        0.0         0.0        0.0        0.0              0.0   \n6538        0.0         0.0        0.0        0.0              0.0   \n6539        0.0         0.0        0.0        0.0              0.0   \n6540        0.0         0.0        0.0        0.0              0.0   \n\n      post_home_score post_bat_score post_fld_score if_fielding_alignment  \\\n0                 5.0            5.0            9.0             Strategic   \n1                 5.0            5.0            9.0             Strategic   \n2                 5.0            5.0            9.0         Infield shift   \n3                 5.0            5.0            9.0         Infield shift   \n4                 5.0            5.0            9.0         Infield shift   \n...               ...            ...            ...                   ...   \n6536              0.0            0.0            0.0             Strategic   \n6537              0.0            0.0            0.0             Strategic   \n6538              0.0            0.0            0.0             Strategic   \n6539              0.0            0.0            0.0             Strategic   \n6540              0.0            0.0            0.0              Standard   \n\n     of_fielding_alignment  \n0                 Standard  \n1                 Standard  \n2                 Standard  \n3                 Standard  \n4                 Standard  \n...                    ...  \n6536              Standard  \n6537              Standard  \n6538              Standard  \n6539              Standard  \n6540              Standard  \n\n[6541 rows x 90 columns]",
      "text/html": "<div>\n<style scoped>\n    .dataframe tbody tr th:only-of-type {\n        vertical-align: middle;\n    }\n\n    .dataframe tbody tr th {\n        vertical-align: top;\n    }\n\n    .dataframe thead th {\n        text-align: right;\n    }\n</style>\n<table border=\"1\" class=\"dataframe\">\n  <thead>\n    <tr style=\"text-align: right;\">\n      <th></th>\n      <th>index</th>\n      <th>pitch_type</th>\n      <th>game_date</th>\n      <th>release_speed</th>\n      <th>release_pos_x</th>\n      <th>release_pos_z</th>\n      <th>player_name</th>\n      <th>batter</th>\n      <th>pitcher</th>\n      <th>events</th>\n      <th>...</th>\n      <th>home_score</th>\n      <th>away_score</th>\n      <th>bat_score</th>\n      <th>fld_score</th>\n      <th>post_away_score</th>\n      <th>post_home_score</th>\n      <th>post_bat_score</th>\n      <th>post_fld_score</th>\n      <th>if_fielding_alignment</th>\n      <th>of_fielding_alignment</th>\n    </tr>\n  </thead>\n  <tbody>\n    <tr>\n      <th>0</th>\n      <td>154</td>\n      <td>SI</td>\n      <td>2019-03-29</td>\n      <td>100.2</td>\n      <td>-2.549981</td>\n      <td>6.274024</td>\n      <td>Jordan Hicks</td>\n      <td>606115.0</td>\n      <td>663855.0</td>\n      <td>field_out</td>\n      <td>...</td>\n      <td>5.0</td>\n      <td>9.0</td>\n      <td>5.0</td>\n      <td>9.0</td>\n      <td>9.0</td>\n      <td>5.0</td>\n      <td>5.0</td>\n      <td>9.0</td>\n      <td>Strategic</td>\n      <td>Standard</td>\n    </tr>\n    <tr>\n      <th>1</th>\n      <td>155</td>\n      <td>SL</td>\n      <td>2019-03-29</td>\n      <td>84.2</td>\n      <td>-2.557062</td>\n      <td>6.021211</td>\n      <td>Jordan Hicks</td>\n      <td>606115.0</td>\n      <td>663855.0</td>\n      <td>NaN</td>\n      <td>...</td>\n      <td>5.0</td>\n      <td>9.0</td>\n      <td>5.0</td>\n      <td>9.0</td>\n      <td>9.0</td>\n      <td>5.0</td>\n      <td>5.0</td>\n      <td>9.0</td>\n      <td>Strategic</td>\n      <td>Standard</td>\n    </tr>\n    <tr>\n      <th>2</th>\n      <td>158</td>\n      <td>CH</td>\n      <td>2019-03-29</td>\n      <td>89.4</td>\n      <td>-2.563425</td>\n      <td>5.978502</td>\n      <td>Jordan Hicks</td>\n      <td>518735.0</td>\n      <td>663855.0</td>\n      <td>strikeout</td>\n      <td>...</td>\n      <td>5.0</td>\n      <td>9.0</td>\n      <td>5.0</td>\n      <td>9.0</td>\n      <td>9.0</td>\n      <td>5.0</td>\n      <td>5.0</td>\n      <td>9.0</td>\n      <td>Infield shift</td>\n      <td>Standard</td>\n    </tr>\n    <tr>\n      <th>3</th>\n      <td>159</td>\n      <td>SI</td>\n      <td>2019-03-29</td>\n      <td>100.7</td>\n      <td>-2.313411</td>\n      <td>6.069608</td>\n      <td>Jordan Hicks</td>\n      <td>518735.0</td>\n      <td>663855.0</td>\n      <td>NaN</td>\n      <td>...</td>\n      <td>5.0</td>\n      <td>9.0</td>\n      <td>5.0</td>\n      <td>9.0</td>\n      <td>9.0</td>\n      <td>5.0</td>\n      <td>5.0</td>\n      <td>9.0</td>\n      <td>Infield shift</td>\n      <td>Standard</td>\n    </tr>\n    <tr>\n      <th>4</th>\n      <td>162</td>\n      <td>SI</td>\n      <td>2019-03-29</td>\n      <td>100.1</td>\n      <td>-2.392935</td>\n      <td>6.314507</td>\n      <td>Jordan Hicks</td>\n      <td>518735.0</td>\n      <td>663855.0</td>\n      <td>NaN</td>\n      <td>...</td>\n      <td>5.0</td>\n      <td>9.0</td>\n      <td>5.0</td>\n      <td>9.0</td>\n      <td>9.0</td>\n      <td>5.0</td>\n      <td>5.0</td>\n      <td>9.0</td>\n      <td>Infield shift</td>\n      <td>Standard</td>\n    </tr>\n    <tr>\n      <th>...</th>\n      <td>...</td>\n      <td>...</td>\n      <td>...</td>\n      <td>...</td>\n      <td>...</td>\n      <td>...</td>\n      <td>...</td>\n      <td>...</td>\n      <td>...</td>\n      <td>...</td>\n      <td>...</td>\n      <td>...</td>\n      <td>...</td>\n      <td>...</td>\n      <td>...</td>\n      <td>...</td>\n      <td>...</td>\n      <td>...</td>\n      <td>...</td>\n      <td>...</td>\n      <td>...</td>\n    </tr>\n    <tr>\n      <th>6536</th>\n      <td>6477</td>\n      <td>CH</td>\n      <td>2019-03-28</td>\n      <td>88.0</td>\n      <td>-2.868703</td>\n      <td>4.934759</td>\n      <td>Luis Castillo</td>\n      <td>466320.0</td>\n      <td>622491.0</td>\n      <td>strikeout</td>\n      <td>...</td>\n      <td>0.0</td>\n      <td>0.0</td>\n      <td>0.0</td>\n      <td>0.0</td>\n      <td>0.0</td>\n      <td>0.0</td>\n      <td>0.0</td>\n      <td>0.0</td>\n      <td>Strategic</td>\n      <td>Standard</td>\n    </tr>\n    <tr>\n      <th>6537</th>\n      <td>6484</td>\n      <td>FF</td>\n      <td>2019-03-28</td>\n      <td>96.4</td>\n      <td>-2.773471</td>\n      <td>5.243966</td>\n      <td>Luis Castillo</td>\n      <td>466320.0</td>\n      <td>622491.0</td>\n      <td>NaN</td>\n      <td>...</td>\n      <td>0.0</td>\n      <td>0.0</td>\n      <td>0.0</td>\n      <td>0.0</td>\n      <td>0.0</td>\n      <td>0.0</td>\n      <td>0.0</td>\n      <td>0.0</td>\n      <td>Strategic</td>\n      <td>Standard</td>\n    </tr>\n    <tr>\n      <th>6538</th>\n      <td>6509</td>\n      <td>CH</td>\n      <td>2019-03-28</td>\n      <td>88.6</td>\n      <td>-2.876455</td>\n      <td>5.095479</td>\n      <td>Luis Castillo</td>\n      <td>466320.0</td>\n      <td>622491.0</td>\n      <td>NaN</td>\n      <td>...</td>\n      <td>0.0</td>\n      <td>0.0</td>\n      <td>0.0</td>\n      <td>0.0</td>\n      <td>0.0</td>\n      <td>0.0</td>\n      <td>0.0</td>\n      <td>0.0</td>\n      <td>Strategic</td>\n      <td>Standard</td>\n    </tr>\n    <tr>\n      <th>6539</th>\n      <td>6511</td>\n      <td>FF</td>\n      <td>2019-03-28</td>\n      <td>95.8</td>\n      <td>-2.762156</td>\n      <td>5.190272</td>\n      <td>Luis Castillo</td>\n      <td>466320.0</td>\n      <td>622491.0</td>\n      <td>NaN</td>\n      <td>...</td>\n      <td>0.0</td>\n      <td>0.0</td>\n      <td>0.0</td>\n      <td>0.0</td>\n      <td>0.0</td>\n      <td>0.0</td>\n      <td>0.0</td>\n      <td>0.0</td>\n      <td>Strategic</td>\n      <td>Standard</td>\n    </tr>\n    <tr>\n      <th>6540</th>\n      <td>6538</td>\n      <td>FF</td>\n      <td>2019-03-28</td>\n      <td>96.0</td>\n      <td>-2.903912</td>\n      <td>5.215291</td>\n      <td>Luis Castillo</td>\n      <td>624428.0</td>\n      <td>622491.0</td>\n      <td>field_out</td>\n      <td>...</td>\n      <td>0.0</td>\n      <td>0.0</td>\n      <td>0.0</td>\n      <td>0.0</td>\n      <td>0.0</td>\n      <td>0.0</td>\n      <td>0.0</td>\n      <td>0.0</td>\n      <td>Standard</td>\n      <td>Standard</td>\n    </tr>\n  </tbody>\n</table>\n<p>6541 rows × 90 columns</p>\n</div>"
     },
     "metadata": {},
     "execution_count": 20
    }
   ],
   "source": []
  },
  {
   "cell_type": "code",
   "execution_count": null,
   "metadata": {},
   "outputs": [],
   "source": []
  }
 ]
}