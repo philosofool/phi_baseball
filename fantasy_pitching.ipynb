{
 "cells": [
  {
   "cell_type": "code",
   "execution_count": 1,
   "metadata": {},
   "outputs": [],
   "source": [
    "# Pitching"
   ]
  },
  {
   "cell_type": "code",
   "execution_count": 2,
   "metadata": {},
   "outputs": [],
   "source": [
    "import numpy as np\r\n",
    "import pandas as pd\r\n"
   ]
  },
  {
   "cell_type": "code",
   "execution_count": 12,
   "metadata": {},
   "outputs": [],
   "source": [
    "pitchers = pd.read_csv('data/fa_pitchers_07-31.csv', skiprows=1).drop('Unnamed: 18', axis=1)"
   ]
  },
  {
   "cell_type": "code",
   "execution_count": 18,
   "metadata": {},
   "outputs": [],
   "source": [
    "pitchers[\"K_100\"] = pitchers.K/pitchers.PC*100"
   ]
  },
  {
   "cell_type": "code",
   "execution_count": 19,
   "metadata": {},
   "outputs": [
    {
     "data": {
      "text/html": "<div>\n<style scoped>\n    .dataframe tbody tr th:only-of-type {\n        vertical-align: middle;\n    }\n\n    .dataframe tbody tr th {\n        vertical-align: top;\n    }\n\n    .dataframe thead th {\n        text-align: right;\n    }\n</style>\n<table border=\"1\" class=\"dataframe\">\n  <thead>\n    <tr style=\"text-align: right;\">\n      <th></th>\n      <th>Avail</th>\n      <th>Player</th>\n      <th>INN</th>\n      <th>GS</th>\n      <th>BFP</th>\n      <th>PC</th>\n      <th>W</th>\n      <th>S</th>\n      <th>K</th>\n      <th>BB</th>\n      <th>H</th>\n      <th>HR</th>\n      <th>ER</th>\n      <th>ERA</th>\n      <th>WHIP</th>\n      <th>Kd9</th>\n      <th>BBd9</th>\n      <th>Rank</th>\n      <th>K_100</th>\n    </tr>\n  </thead>\n  <tbody>\n    <tr>\n      <th>17</th>\n      <td>FA</td>\n      <td>Brad Wieck RP | CHC</td>\n      <td>17.0</td>\n      <td>0.0</td>\n      <td>71.0</td>\n      <td>293.0</td>\n      <td>0.0</td>\n      <td>0.0</td>\n      <td>28.0</td>\n      <td>10.0</td>\n      <td>10.0</td>\n      <td>0.0</td>\n      <td>0.0</td>\n      <td>0.00</td>\n      <td>1.18</td>\n      <td>14.82</td>\n      <td>5.29</td>\n      <td>584.0</td>\n      <td>9.556314</td>\n    </tr>\n    <tr>\n      <th>24</th>\n      <td>FA</td>\n      <td>Dustin May SP | LAD</td>\n      <td>23.0</td>\n      <td>5.0</td>\n      <td>93.0</td>\n      <td>368.0</td>\n      <td>1.0</td>\n      <td>0.0</td>\n      <td>35.0</td>\n      <td>6.0</td>\n      <td>16.0</td>\n      <td>4.0</td>\n      <td>7.0</td>\n      <td>2.74</td>\n      <td>0.96</td>\n      <td>13.70</td>\n      <td>2.35</td>\n      <td>515.0</td>\n      <td>9.510870</td>\n    </tr>\n    <tr>\n      <th>7</th>\n      <td>FA</td>\n      <td>Jose De Leon RP | CIN</td>\n      <td>18.3</td>\n      <td>2.0</td>\n      <td>91.0</td>\n      <td>347.0</td>\n      <td>0.0</td>\n      <td>0.0</td>\n      <td>33.0</td>\n      <td>11.0</td>\n      <td>22.0</td>\n      <td>4.0</td>\n      <td>17.0</td>\n      <td>8.35</td>\n      <td>1.80</td>\n      <td>16.20</td>\n      <td>5.40</td>\n      <td>1430.0</td>\n      <td>9.510086</td>\n    </tr>\n    <tr>\n      <th>48</th>\n      <td>FA</td>\n      <td>Jake Cousins RP | MIL</td>\n      <td>14.3</td>\n      <td>0.0</td>\n      <td>53.0</td>\n      <td>216.0</td>\n      <td>1.0</td>\n      <td>0.0</td>\n      <td>20.0</td>\n      <td>5.0</td>\n      <td>4.0</td>\n      <td>0.0</td>\n      <td>0.0</td>\n      <td>0.00</td>\n      <td>0.63</td>\n      <td>12.56</td>\n      <td>3.14</td>\n      <td>509.0</td>\n      <td>9.259259</td>\n    </tr>\n    <tr>\n      <th>39</th>\n      <td>W ( 8/1)</td>\n      <td>Daniel Hudson RP | SD</td>\n      <td>32.7</td>\n      <td>0.0</td>\n      <td>127.0</td>\n      <td>521.0</td>\n      <td>4.0</td>\n      <td>0.0</td>\n      <td>48.0</td>\n      <td>7.0</td>\n      <td>23.0</td>\n      <td>4.0</td>\n      <td>8.0</td>\n      <td>2.20</td>\n      <td>0.92</td>\n      <td>13.22</td>\n      <td>1.93</td>\n      <td>310.0</td>\n      <td>9.213052</td>\n    </tr>\n    <tr>\n      <th>21</th>\n      <td>FA</td>\n      <td>Justin Steele SP | CHC</td>\n      <td>13.3</td>\n      <td>0.0</td>\n      <td>56.0</td>\n      <td>233.0</td>\n      <td>2.0</td>\n      <td>0.0</td>\n      <td>21.0</td>\n      <td>7.0</td>\n      <td>7.0</td>\n      <td>2.0</td>\n      <td>3.0</td>\n      <td>2.02</td>\n      <td>1.05</td>\n      <td>14.17</td>\n      <td>4.72</td>\n      <td>559.0</td>\n      <td>9.012876</td>\n    </tr>\n    <tr>\n      <th>40</th>\n      <td>FA</td>\n      <td>Art Warren RP | CIN</td>\n      <td>14.3</td>\n      <td>0.0</td>\n      <td>58.0</td>\n      <td>244.0</td>\n      <td>2.0</td>\n      <td>0.0</td>\n      <td>21.0</td>\n      <td>6.0</td>\n      <td>9.0</td>\n      <td>1.0</td>\n      <td>3.0</td>\n      <td>1.88</td>\n      <td>1.05</td>\n      <td>13.19</td>\n      <td>3.77</td>\n      <td>546.0</td>\n      <td>8.606557</td>\n    </tr>\n    <tr>\n      <th>15</th>\n      <td>FA</td>\n      <td>Cody Stashak RP | MIN</td>\n      <td>15.7</td>\n      <td>0.0</td>\n      <td>75.0</td>\n      <td>308.0</td>\n      <td>0.0</td>\n      <td>0.0</td>\n      <td>26.0</td>\n      <td>10.0</td>\n      <td>16.0</td>\n      <td>2.0</td>\n      <td>12.0</td>\n      <td>6.89</td>\n      <td>1.66</td>\n      <td>14.94</td>\n      <td>5.74</td>\n      <td>1044.0</td>\n      <td>8.441558</td>\n    </tr>\n    <tr>\n      <th>25</th>\n      <td>FA</td>\n      <td>Jimmy Nelson RP | LAD</td>\n      <td>29.0</td>\n      <td>1.0</td>\n      <td>116.0</td>\n      <td>523.0</td>\n      <td>1.0</td>\n      <td>0.0</td>\n      <td>44.0</td>\n      <td>13.0</td>\n      <td>14.0</td>\n      <td>0.0</td>\n      <td>6.0</td>\n      <td>1.86</td>\n      <td>0.93</td>\n      <td>13.66</td>\n      <td>4.03</td>\n      <td>436.0</td>\n      <td>8.413002</td>\n    </tr>\n    <tr>\n      <th>93</th>\n      <td>FA</td>\n      <td>Danny Coulombe RP | MIN</td>\n      <td>14.7</td>\n      <td>1.0</td>\n      <td>54.0</td>\n      <td>214.0</td>\n      <td>1.0</td>\n      <td>0.0</td>\n      <td>18.0</td>\n      <td>1.0</td>\n      <td>12.0</td>\n      <td>3.0</td>\n      <td>3.0</td>\n      <td>1.84</td>\n      <td>0.89</td>\n      <td>11.05</td>\n      <td>0.61</td>\n      <td>615.0</td>\n      <td>8.411215</td>\n    </tr>\n  </tbody>\n</table>\n</div>",
      "text/plain": "       Avail                   Player   INN   GS    BFP     PC    W    S  \\\n17        FA     Brad Wieck RP | CHC   17.0  0.0   71.0  293.0  0.0  0.0   \n24        FA     Dustin May SP | LAD   23.0  5.0   93.0  368.0  1.0  0.0   \n7         FA    Jose De Leon RP | CIN  18.3  2.0   91.0  347.0  0.0  0.0   \n48        FA   Jake Cousins RP | MIL   14.3  0.0   53.0  216.0  1.0  0.0   \n39  W ( 8/1)   Daniel Hudson RP | SD   32.7  0.0  127.0  521.0  4.0  0.0   \n21        FA   Justin Steele SP | CHC  13.3  0.0   56.0  233.0  2.0  0.0   \n40        FA     Art Warren RP | CIN   14.3  0.0   58.0  244.0  2.0  0.0   \n15        FA   Cody Stashak RP | MIN   15.7  0.0   75.0  308.0  0.0  0.0   \n25        FA    Jimmy Nelson RP | LAD  29.0  1.0  116.0  523.0  1.0  0.0   \n93        FA  Danny Coulombe RP | MIN  14.7  1.0   54.0  214.0  1.0  0.0   \n\n       K    BB     H   HR    ER   ERA  WHIP    Kd9  BBd9    Rank     K_100  \n17  28.0  10.0  10.0  0.0   0.0  0.00  1.18  14.82  5.29   584.0  9.556314  \n24  35.0   6.0  16.0  4.0   7.0  2.74  0.96  13.70  2.35   515.0  9.510870  \n7   33.0  11.0  22.0  4.0  17.0  8.35  1.80  16.20  5.40  1430.0  9.510086  \n48  20.0   5.0   4.0  0.0   0.0  0.00  0.63  12.56  3.14   509.0  9.259259  \n39  48.0   7.0  23.0  4.0   8.0  2.20  0.92  13.22  1.93   310.0  9.213052  \n21  21.0   7.0   7.0  2.0   3.0  2.02  1.05  14.17  4.72   559.0  9.012876  \n40  21.0   6.0   9.0  1.0   3.0  1.88  1.05  13.19  3.77   546.0  8.606557  \n15  26.0  10.0  16.0  2.0  12.0  6.89  1.66  14.94  5.74  1044.0  8.441558  \n25  44.0  13.0  14.0  0.0   6.0  1.86  0.93  13.66  4.03   436.0  8.413002  \n93  18.0   1.0  12.0  3.0   3.0  1.84  0.89  11.05  0.61   615.0  8.411215  "
     },
     "execution_count": 19,
     "metadata": {},
     "output_type": "execute_result"
    }
   ],
   "source": [
    "pitchers.sort_values('K_100', inplace=True, ascending=False)\r\n",
    "pitchers[pitchers.BFP > 50].head(10)"
   ]
  },
  {
   "cell_type": "code",
   "execution_count": null,
   "metadata": {},
   "outputs": [],
   "source": []
  }
 ],
 "metadata": {
  "kernelspec": {
   "display_name": "Python 3.8.5 64-bit ('base': conda)",
   "name": "python385jvsc74a57bd002ee4401c5460a4ee3bc94108cf95546c8e39c298a8555b54bdd3e60e7d4869e"
  },
  "language_info": {
   "codemirror_mode": {
    "name": "ipython",
    "version": 3
   },
   "file_extension": ".py",
   "mimetype": "text/x-python",
   "name": "python",
   "nbconvert_exporter": "python",
   "pygments_lexer": "ipython3",
   "version": "3.8.5"
  },
  "orig_nbformat": 2
 },
 "nbformat": 4,
 "nbformat_minor": 2
}